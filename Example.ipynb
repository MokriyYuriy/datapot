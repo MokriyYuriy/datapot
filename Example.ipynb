{
 "cells": [
  {
   "cell_type": "code",
   "execution_count": 6,
   "metadata": {
    "collapsed": false
   },
   "outputs": [],
   "source": [
    "import datapot as dp"
   ]
  },
  {
   "cell_type": "code",
   "execution_count": 7,
   "metadata": {
    "collapsed": false
   },
   "outputs": [
    {
     "data": {
      "text/plain": [
       "DataPot class instance\n",
       " - number of features without transformation: 0\n",
       " - number of new features: Unknown\n",
       "features to transform: "
      ]
     },
     "execution_count": 7,
     "metadata": {},
     "output_type": "execute_result"
    }
   ],
   "source": [
    "data = dp.DataPot()\n",
    "data"
   ]
  },
  {
   "cell_type": "code",
   "execution_count": 8,
   "metadata": {
    "collapsed": false
   },
   "outputs": [],
   "source": [
    "#f = open('data/matches_test.jsonlines', 'r')\n",
    "import bz2\n",
    "f = bz2.BZ2File('data/matches_test.jsonlines.bz2') "
   ]
  },
  {
   "cell_type": "code",
   "execution_count": 9,
   "metadata": {
    "collapsed": false
   },
   "outputs": [
    {
     "data": {
      "text/plain": [
       "DataPot class instance\n",
       " - number of features without transformation: 616\n",
       " - number of new features: 339\n",
       "features to transform: \n",
       "\t(u'players.0.gold_t', [TimeSeriesTransformer...])\n",
       "\t(u'players.9.gold_t', [TimeSeriesTransformer...])\n",
       "\t(u'picks_bans.13.is_pick', [TestBoolToIntTransformer])\n",
       "\t(u'picks_bans.5.is_pick', [TestBoolToIntTransformer])\n",
       "\t(u'players.5.lh_t', [TimeSeriesTransformer...])\n",
       "\t(u'players.0.xp_t', [TimeSeriesTransformer...])\n",
       "\t(u'players.8.lh_t', [TimeSeriesTransformer...])\n",
       "\t(u'picks_bans.14.is_pick', [TestBoolToIntTransformer])\n",
       "\t(u'picks_bans.9.is_pick', [TestBoolToIntTransformer])\n",
       "\t(u'players.6.lh_t', [TimeSeriesTransformer...])\n",
       "\t(u'picks_bans.19.is_pick', [TestBoolToIntTransformer])\n",
       "\t(u'players.7.xp_t', [TimeSeriesTransformer...])\n",
       "\t(u'players.3.lh_t', [TimeSeriesTransformer...])\n",
       "\t(u'players.2.gold_t', [TimeSeriesTransformer...])\n",
       "\t(u'players.2.xp_t', [TimeSeriesTransformer...])\n",
       "\t(u'picks_bans.1.is_pick', [TestBoolToIntTransformer])\n",
       "\t(u'players.8.xp_t', [TimeSeriesTransformer...])\n",
       "\t(u'players.3.xp_t', [TimeSeriesTransformer...])\n",
       "\t(u'times', [TimeSeriesTransformer...])\n",
       "\t(u'picks_bans.10.is_pick', [TestBoolToIntTransformer])\n",
       "\t(u'players.3.gold_t', [TimeSeriesTransformer...])\n",
       "\t(u'players.6.xp_t', [TimeSeriesTransformer...])\n",
       "\t(u'players.4.xp_t', [TimeSeriesTransformer...])\n",
       "\t(u'players.6.gold_t', [TimeSeriesTransformer...])\n",
       "\t(u'players.7.lh_t', [TimeSeriesTransformer...])\n",
       "\t(u'picks_bans.8.is_pick', [TestBoolToIntTransformer])\n",
       "\t(u'picks_bans.2.is_pick', [TestBoolToIntTransformer])\n",
       "\t(u'picks_bans.7.is_pick', [TestBoolToIntTransformer])\n",
       "\t(u'players.9.lh_t', [TimeSeriesTransformer...])\n",
       "\t(u'players.1.gold_t', [TimeSeriesTransformer...])\n",
       "\t(u'picks_bans.18.is_pick', [TestBoolToIntTransformer])\n",
       "\t(u'players.1.lh_t', [TimeSeriesTransformer...])\n",
       "\t(u'players.7.gold_t', [TimeSeriesTransformer...])\n",
       "\t(u'players.4.gold_t', [TimeSeriesTransformer...])\n",
       "\t(u'picks_bans.16.is_pick', [TestBoolToIntTransformer])\n",
       "\t(u'picks_bans.6.is_pick', [TestBoolToIntTransformer])\n",
       "\t(u'players.4.lh_t', [TimeSeriesTransformer...])\n",
       "\t(u'players.8.gold_t', [TimeSeriesTransformer...])\n",
       "\t(u'players.2.lh_t', [TimeSeriesTransformer...])\n",
       "\t(u'start_time', [TestTimestampTransformer])\n",
       "\t(u'picks_bans.12.is_pick', [TestBoolToIntTransformer])\n",
       "\t(u'picks_bans.15.is_pick', [TestBoolToIntTransformer])\n",
       "\t(u'players.5.gold_t', [TimeSeriesTransformer...])\n",
       "\t(u'players.1.xp_t', [TimeSeriesTransformer...])\n",
       "\t(u'picks_bans.3.is_pick', [TestBoolToIntTransformer])\n",
       "\t(u'players.9.xp_t', [TimeSeriesTransformer...])\n",
       "\t(u'picks_bans.0.is_pick', [TestBoolToIntTransformer])\n",
       "\t(u'picks_bans.11.is_pick', [TestBoolToIntTransformer])\n",
       "\t(u'picks_bans.4.is_pick', [TestBoolToIntTransformer])\n",
       "\t(u'players.0.lh_t', [TimeSeriesTransformer...])\n",
       "\t(u'picks_bans.17.is_pick', [TestBoolToIntTransformer])\n",
       "\t(u'players.5.xp_t', [TimeSeriesTransformer...])"
      ]
     },
     "execution_count": 9,
     "metadata": {},
     "output_type": "execute_result"
    }
   ],
   "source": [
    "data.fit(f, limit=10)\n",
    "data"
   ]
  },
  {
   "cell_type": "code",
   "execution_count": 10,
   "metadata": {
    "collapsed": false
   },
   "outputs": [
    {
     "name": "stdout",
     "output_type": "stream",
     "text": [
      "fit transformers...\n",
      "fit: (u'players.0.gold_t', [TimeSeriesTransformer...])\n",
      "fit: (u'players.9.gold_t', [TimeSeriesTransformer...])\n",
      "fit: (u'picks_bans.13.is_pick', [TestBoolToIntTransformer])\n",
      "fit: (u'picks_bans.5.is_pick', [TestBoolToIntTransformer])\n",
      "fit: (u'players.5.lh_t', [TimeSeriesTransformer...])\n",
      "fit: (u'players.0.xp_t', [TimeSeriesTransformer...])\n",
      "fit: (u'players.8.lh_t', [TimeSeriesTransformer...])\n",
      "fit: (u'picks_bans.14.is_pick', [TestBoolToIntTransformer])\n",
      "fit: (u'picks_bans.9.is_pick', [TestBoolToIntTransformer])\n",
      "fit: (u'players.6.lh_t', [TimeSeriesTransformer...])\n",
      "fit: (u'picks_bans.19.is_pick', [TestBoolToIntTransformer])\n",
      "fit: (u'players.7.xp_t', [TimeSeriesTransformer...])\n",
      "fit: (u'players.3.lh_t', [TimeSeriesTransformer...])\n",
      "fit: (u'players.2.gold_t', [TimeSeriesTransformer...])\n",
      "fit: (u'players.2.xp_t', [TimeSeriesTransformer...])\n",
      "fit: (u'picks_bans.1.is_pick', [TestBoolToIntTransformer])\n",
      "fit: (u'players.8.xp_t', [TimeSeriesTransformer...])\n",
      "fit: (u'players.3.xp_t', [TimeSeriesTransformer...])\n",
      "fit: (u'times', [TimeSeriesTransformer...])\n",
      "fit: (u'picks_bans.10.is_pick', [TestBoolToIntTransformer])\n",
      "fit: (u'players.3.gold_t', [TimeSeriesTransformer...])\n",
      "fit: (u'players.6.xp_t', [TimeSeriesTransformer...])\n",
      "fit: (u'players.4.xp_t', [TimeSeriesTransformer...])\n",
      "fit: (u'players.6.gold_t', [TimeSeriesTransformer...])\n",
      "fit: (u'players.7.lh_t', [TimeSeriesTransformer...])\n",
      "fit: (u'picks_bans.8.is_pick', [TestBoolToIntTransformer])\n",
      "fit: (u'picks_bans.2.is_pick', [TestBoolToIntTransformer])\n",
      "fit: (u'picks_bans.7.is_pick', [TestBoolToIntTransformer])\n",
      "fit: (u'players.9.lh_t', [TimeSeriesTransformer...])\n",
      "fit: (u'players.1.gold_t', [TimeSeriesTransformer...])\n",
      "fit: (u'picks_bans.18.is_pick', [TestBoolToIntTransformer])\n",
      "fit: (u'players.1.lh_t', [TimeSeriesTransformer...])\n",
      "fit: (u'players.7.gold_t', [TimeSeriesTransformer...])\n",
      "fit: (u'players.4.gold_t', [TimeSeriesTransformer...])\n",
      "fit: (u'picks_bans.16.is_pick', [TestBoolToIntTransformer])\n",
      "fit: (u'picks_bans.6.is_pick', [TestBoolToIntTransformer])\n",
      "fit: (u'players.4.lh_t', [TimeSeriesTransformer...])\n",
      "fit: (u'players.8.gold_t', [TimeSeriesTransformer...])\n",
      "fit: (u'players.2.lh_t', [TimeSeriesTransformer...])\n",
      "fit: (u'start_time', [TestTimestampTransformer])\n",
      "fit: (u'picks_bans.12.is_pick', [TestBoolToIntTransformer])\n",
      "fit: (u'picks_bans.15.is_pick', [TestBoolToIntTransformer])\n",
      "fit: (u'players.5.gold_t', [TimeSeriesTransformer...])\n",
      "fit: (u'players.1.xp_t', [TimeSeriesTransformer...])\n",
      "fit: (u'picks_bans.3.is_pick', [TestBoolToIntTransformer])\n",
      "fit: (u'players.9.xp_t', [TimeSeriesTransformer...])\n",
      "fit: (u'picks_bans.0.is_pick', [TestBoolToIntTransformer])\n",
      "fit: (u'picks_bans.11.is_pick', [TestBoolToIntTransformer])\n",
      "fit: (u'picks_bans.4.is_pick', [TestBoolToIntTransformer])\n",
      "fit: (u'players.0.lh_t', [TimeSeriesTransformer...])\n",
      "fit: (u'picks_bans.17.is_pick', [TestBoolToIntTransformer])\n",
      "fit: (u'players.5.xp_t', [TimeSeriesTransformer...])\n",
      "fit transformers...OK\n",
      "rows: []\n"
     ]
    },
    {
     "ename": "IndexError",
     "evalue": "list index out of range",
     "output_type": "error",
     "traceback": [
      "\u001b[0;31m---------------------------------------------------------------------------\u001b[0m",
      "\u001b[0;31mIndexError\u001b[0m                                Traceback (most recent call last)",
      "\u001b[0;32m<ipython-input-10-91ce755225a5>\u001b[0m in \u001b[0;36m<module>\u001b[0;34m()\u001b[0m\n\u001b[0;32m----> 1\u001b[0;31m \u001b[0mdf\u001b[0m \u001b[0;34m=\u001b[0m \u001b[0mdata\u001b[0m\u001b[0;34m.\u001b[0m\u001b[0mtransform\u001b[0m\u001b[0;34m(\u001b[0m\u001b[0mf\u001b[0m\u001b[0;34m,\u001b[0m \u001b[0mverbose\u001b[0m\u001b[0;34m=\u001b[0m\u001b[0mTrue\u001b[0m\u001b[0;34m)\u001b[0m\u001b[0;34m\u001b[0m\u001b[0m\n\u001b[0m\u001b[1;32m      2\u001b[0m \u001b[0mdf\u001b[0m\u001b[0;34m.\u001b[0m\u001b[0mhead\u001b[0m\u001b[0;34m(\u001b[0m\u001b[0;34m)\u001b[0m\u001b[0;34m\u001b[0m\u001b[0m\n",
      "\u001b[0;32m/Users/michal-roz/Documents/Data_pot/datapot/datapot/__init__.py\u001b[0m in \u001b[0;36mtransform\u001b[0;34m(self, data, verbose)\u001b[0m\n\u001b[1;32m    112\u001b[0m             \u001b[0;32mprint\u001b[0m\u001b[0;34m(\u001b[0m\u001b[0;34m\"rows:\"\u001b[0m\u001b[0;34m,\u001b[0m \u001b[0mrows\u001b[0m\u001b[0;34m)\u001b[0m\u001b[0;34m\u001b[0m\u001b[0m\n\u001b[1;32m    113\u001b[0m         \u001b[0;31m# save final number of features\u001b[0m\u001b[0;34m\u001b[0m\u001b[0;34m\u001b[0m\u001b[0m\n\u001b[0;32m--> 114\u001b[0;31m         \u001b[0mself\u001b[0m\u001b[0;34m.\u001b[0m\u001b[0m__num_new_features\u001b[0m \u001b[0;34m=\u001b[0m \u001b[0mlen\u001b[0m\u001b[0;34m(\u001b[0m\u001b[0mrows\u001b[0m\u001b[0;34m[\u001b[0m\u001b[0;36m0\u001b[0m\u001b[0;34m]\u001b[0m\u001b[0;34m)\u001b[0m\u001b[0;34m\u001b[0m\u001b[0m\n\u001b[0m\u001b[1;32m    115\u001b[0m \u001b[0;34m\u001b[0m\u001b[0m\n\u001b[1;32m    116\u001b[0m         \u001b[0;32mif\u001b[0m \u001b[0mverbose\u001b[0m\u001b[0;34m:\u001b[0m\u001b[0;34m\u001b[0m\u001b[0m\n",
      "\u001b[0;31mIndexError\u001b[0m: list index out of range"
     ]
    }
   ],
   "source": [
    "df = data.transform(f, verbose=True)\n",
    "df.head()"
   ]
  },
  {
   "cell_type": "code",
   "execution_count": null,
   "metadata": {
    "collapsed": false
   },
   "outputs": [],
   "source": [
    "df['start_time_date'].head()  # one of new features"
   ]
  },
  {
   "cell_type": "code",
   "execution_count": 12,
   "metadata": {
    "collapsed": false
   },
   "outputs": [
    {
     "data": {
      "text/plain": [
       "0     4.337668\n",
       "1     9.342670\n",
       "2     0.667334\n",
       "3    14.014006\n",
       "4     3.003001\n",
       "5    10.677338\n",
       "6     0.000000\n",
       "7     3.336668\n",
       "8     3.336668\n",
       "9     9.342670\n",
       "Name: players.1.lh_t_sum, dtype: float64"
      ]
     },
     "execution_count": 12,
     "metadata": {},
     "output_type": "execute_result"
    }
   ],
   "source": [
    "df['players.1.lh_t_sum'].head(10) # and one more"
   ]
  }
 ],
 "metadata": {
  "anaconda-cloud": {},
  "kernelspec": {
   "display_name": "Python [conda root]",
   "language": "python",
   "name": "conda-root-py"
  },
  "language_info": {
   "codemirror_mode": {
    "name": "ipython",
    "version": 2
   },
   "file_extension": ".py",
   "mimetype": "text/x-python",
   "name": "python",
   "nbconvert_exporter": "python",
   "pygments_lexer": "ipython2",
   "version": "2.7.12"
  }
 },
 "nbformat": 4,
 "nbformat_minor": 1
}
