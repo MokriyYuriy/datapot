{
 "cells": [
  {
   "cell_type": "code",
   "execution_count": 1,
   "metadata": {
    "collapsed": false
   },
   "outputs": [],
   "source": [
    "import datapot as dp"
   ]
  },
  {
   "cell_type": "code",
   "execution_count": 2,
   "metadata": {
    "collapsed": false
   },
   "outputs": [
    {
     "data": {
      "text/plain": [
       "DataPot class instance\n",
       " - number of features without transformation: 0\n",
       " - number of new features: Unknown\n",
       "features to transform: "
      ]
     },
     "execution_count": 2,
     "metadata": {},
     "output_type": "execute_result"
    }
   ],
   "source": [
    "data = dp.DataPot()\n",
    "data"
   ]
  },
  {
   "cell_type": "code",
   "execution_count": 3,
   "metadata": {
    "collapsed": false
   },
   "outputs": [],
   "source": [
    "# f = open('data/matches_test.jsonlines', 'r')\n",
    "import bz2\n",
    "f = bz2.BZ2File('data/matches_test.jsonlines.bz2') "
   ]
  },
  {
   "cell_type": "code",
   "execution_count": 4,
   "metadata": {
    "collapsed": false
   },
   "outputs": [
    {
     "data": {
      "text/plain": [
       "DataPot class instance\n",
       " - number of features without transformation: 7\n",
       " - number of new features: 38\n",
       "features to transform: \n",
       "\t(u'picks_bans', [TimestampTransformer])\n",
       "\t(u'match_id', [TimestampTransformer])\n",
       "\t(u'start_time', [TestTimestampTransformer, TimestampTransformer])\n",
       "\t(u'times', [TimestampTransformer, TestComplexTransformer(average_len_of_array=None)])\n",
       "\t(u'players', [TimestampTransformer])\n",
       "\t(u'objectives', [TimestampTransformer])\n",
       "\t(u'lobby_type', [TimestampTransformer])"
      ]
     },
     "execution_count": 4,
     "metadata": {},
     "output_type": "execute_result"
    }
   ],
   "source": [
    "data.fit(f, limit=10)\n",
    "data"
   ]
  },
  {
   "cell_type": "code",
   "execution_count": 5,
   "metadata": {
    "collapsed": false
   },
   "outputs": [
    {
     "name": "stdout",
     "output_type": "stream",
     "text": [
      "fit transformers...\n",
      "fit: (u'picks_bans', [TimestampTransformer])\n",
      "fit: (u'match_id', [TimestampTransformer])\n",
      "fit: (u'start_time', [TestTimestampTransformer, TimestampTransformer])\n",
      "fit: (u'times', [TimestampTransformer, TestComplexTransformer(average_len_of_array=None)])\n",
      "fit: (u'players', [TimestampTransformer])\n",
      "fit: (u'objectives', [TimestampTransformer])\n",
      "fit: (u'lobby_type', [TimestampTransformer])\n",
      "fit transformers...OK\n",
      "num of new features: 38\n"
     ]
    },
    {
     "data": {
      "text/html": [
       "<div>\n",
       "<table border=\"1\" class=\"dataframe\">\n",
       "  <thead>\n",
       "    <tr style=\"text-align: right;\">\n",
       "      <th></th>\n",
       "      <th>picks_bans_timestamp_unixtime</th>\n",
       "      <th>picks_bans_timestamp_week_day</th>\n",
       "      <th>picks_bans_timestamp_month_day</th>\n",
       "      <th>picks_bans_timestamp_hour</th>\n",
       "      <th>picks_bans_timestamp_minute</th>\n",
       "      <th>match_id_timestamp_unixtime</th>\n",
       "      <th>match_id_timestamp_week_day</th>\n",
       "      <th>match_id_timestamp_month_day</th>\n",
       "      <th>match_id_timestamp_hour</th>\n",
       "      <th>match_id_timestamp_minute</th>\n",
       "      <th>...</th>\n",
       "      <th>objectives_timestamp_unixtime</th>\n",
       "      <th>objectives_timestamp_week_day</th>\n",
       "      <th>objectives_timestamp_month_day</th>\n",
       "      <th>objectives_timestamp_hour</th>\n",
       "      <th>objectives_timestamp_minute</th>\n",
       "      <th>lobby_type_timestamp_unixtime</th>\n",
       "      <th>lobby_type_timestamp_week_day</th>\n",
       "      <th>lobby_type_timestamp_month_day</th>\n",
       "      <th>lobby_type_timestamp_hour</th>\n",
       "      <th>lobby_type_timestamp_minute</th>\n",
       "    </tr>\n",
       "  </thead>\n",
       "  <tbody>\n",
       "    <tr>\n",
       "      <th>0</th>\n",
       "      <td>None</td>\n",
       "      <td>None</td>\n",
       "      <td>None</td>\n",
       "      <td>None</td>\n",
       "      <td>None</td>\n",
       "      <td>18.0</td>\n",
       "      <td>2</td>\n",
       "      <td>1</td>\n",
       "      <td>3</td>\n",
       "      <td>0</td>\n",
       "      <td>...</td>\n",
       "      <td>None</td>\n",
       "      <td>None</td>\n",
       "      <td>None</td>\n",
       "      <td>None</td>\n",
       "      <td>None</td>\n",
       "      <td>0.0</td>\n",
       "      <td>2</td>\n",
       "      <td>1</td>\n",
       "      <td>3</td>\n",
       "      <td>0</td>\n",
       "    </tr>\n",
       "    <tr>\n",
       "      <th>1</th>\n",
       "      <td>None</td>\n",
       "      <td>None</td>\n",
       "      <td>None</td>\n",
       "      <td>None</td>\n",
       "      <td>None</td>\n",
       "      <td>55.0</td>\n",
       "      <td>2</td>\n",
       "      <td>1</td>\n",
       "      <td>3</td>\n",
       "      <td>0</td>\n",
       "      <td>...</td>\n",
       "      <td>None</td>\n",
       "      <td>None</td>\n",
       "      <td>None</td>\n",
       "      <td>None</td>\n",
       "      <td>None</td>\n",
       "      <td>7.0</td>\n",
       "      <td>2</td>\n",
       "      <td>1</td>\n",
       "      <td>3</td>\n",
       "      <td>0</td>\n",
       "    </tr>\n",
       "    <tr>\n",
       "      <th>2</th>\n",
       "      <td>None</td>\n",
       "      <td>None</td>\n",
       "      <td>None</td>\n",
       "      <td>None</td>\n",
       "      <td>None</td>\n",
       "      <td>89.0</td>\n",
       "      <td>2</td>\n",
       "      <td>1</td>\n",
       "      <td>3</td>\n",
       "      <td>1</td>\n",
       "      <td>...</td>\n",
       "      <td>None</td>\n",
       "      <td>None</td>\n",
       "      <td>None</td>\n",
       "      <td>None</td>\n",
       "      <td>None</td>\n",
       "      <td>0.0</td>\n",
       "      <td>2</td>\n",
       "      <td>1</td>\n",
       "      <td>3</td>\n",
       "      <td>0</td>\n",
       "    </tr>\n",
       "    <tr>\n",
       "      <th>3</th>\n",
       "      <td>None</td>\n",
       "      <td>None</td>\n",
       "      <td>None</td>\n",
       "      <td>None</td>\n",
       "      <td>None</td>\n",
       "      <td>42.0</td>\n",
       "      <td>2</td>\n",
       "      <td>1</td>\n",
       "      <td>3</td>\n",
       "      <td>0</td>\n",
       "      <td>...</td>\n",
       "      <td>None</td>\n",
       "      <td>None</td>\n",
       "      <td>None</td>\n",
       "      <td>None</td>\n",
       "      <td>None</td>\n",
       "      <td>7.0</td>\n",
       "      <td>2</td>\n",
       "      <td>1</td>\n",
       "      <td>3</td>\n",
       "      <td>0</td>\n",
       "    </tr>\n",
       "    <tr>\n",
       "      <th>4</th>\n",
       "      <td>None</td>\n",
       "      <td>None</td>\n",
       "      <td>None</td>\n",
       "      <td>None</td>\n",
       "      <td>None</td>\n",
       "      <td>6.0</td>\n",
       "      <td>2</td>\n",
       "      <td>1</td>\n",
       "      <td>3</td>\n",
       "      <td>0</td>\n",
       "      <td>...</td>\n",
       "      <td>None</td>\n",
       "      <td>None</td>\n",
       "      <td>None</td>\n",
       "      <td>None</td>\n",
       "      <td>None</td>\n",
       "      <td>0.0</td>\n",
       "      <td>2</td>\n",
       "      <td>1</td>\n",
       "      <td>3</td>\n",
       "      <td>0</td>\n",
       "    </tr>\n",
       "  </tbody>\n",
       "</table>\n",
       "<p>5 rows × 38 columns</p>\n",
       "</div>"
      ],
      "text/plain": [
       "  picks_bans_timestamp_unixtime picks_bans_timestamp_week_day  \\\n",
       "0                          None                          None   \n",
       "1                          None                          None   \n",
       "2                          None                          None   \n",
       "3                          None                          None   \n",
       "4                          None                          None   \n",
       "\n",
       "  picks_bans_timestamp_month_day picks_bans_timestamp_hour  \\\n",
       "0                           None                      None   \n",
       "1                           None                      None   \n",
       "2                           None                      None   \n",
       "3                           None                      None   \n",
       "4                           None                      None   \n",
       "\n",
       "  picks_bans_timestamp_minute  match_id_timestamp_unixtime  \\\n",
       "0                        None                         18.0   \n",
       "1                        None                         55.0   \n",
       "2                        None                         89.0   \n",
       "3                        None                         42.0   \n",
       "4                        None                          6.0   \n",
       "\n",
       "   match_id_timestamp_week_day  match_id_timestamp_month_day  \\\n",
       "0                            2                             1   \n",
       "1                            2                             1   \n",
       "2                            2                             1   \n",
       "3                            2                             1   \n",
       "4                            2                             1   \n",
       "\n",
       "   match_id_timestamp_hour  match_id_timestamp_minute  \\\n",
       "0                        3                          0   \n",
       "1                        3                          0   \n",
       "2                        3                          1   \n",
       "3                        3                          0   \n",
       "4                        3                          0   \n",
       "\n",
       "              ...             objectives_timestamp_unixtime  \\\n",
       "0             ...                                      None   \n",
       "1             ...                                      None   \n",
       "2             ...                                      None   \n",
       "3             ...                                      None   \n",
       "4             ...                                      None   \n",
       "\n",
       "  objectives_timestamp_week_day  objectives_timestamp_month_day  \\\n",
       "0                          None                            None   \n",
       "1                          None                            None   \n",
       "2                          None                            None   \n",
       "3                          None                            None   \n",
       "4                          None                            None   \n",
       "\n",
       "   objectives_timestamp_hour  objectives_timestamp_minute  \\\n",
       "0                       None                         None   \n",
       "1                       None                         None   \n",
       "2                       None                         None   \n",
       "3                       None                         None   \n",
       "4                       None                         None   \n",
       "\n",
       "   lobby_type_timestamp_unixtime  lobby_type_timestamp_week_day  \\\n",
       "0                            0.0                              2   \n",
       "1                            7.0                              2   \n",
       "2                            0.0                              2   \n",
       "3                            7.0                              2   \n",
       "4                            0.0                              2   \n",
       "\n",
       "  lobby_type_timestamp_month_day lobby_type_timestamp_hour  \\\n",
       "0                              1                         3   \n",
       "1                              1                         3   \n",
       "2                              1                         3   \n",
       "3                              1                         3   \n",
       "4                              1                         3   \n",
       "\n",
       "  lobby_type_timestamp_minute  \n",
       "0                           0  \n",
       "1                           0  \n",
       "2                           0  \n",
       "3                           0  \n",
       "4                           0  \n",
       "\n",
       "[5 rows x 38 columns]"
      ]
     },
     "execution_count": 5,
     "metadata": {},
     "output_type": "execute_result"
    }
   ],
   "source": [
    "df = data.transform(f, verbose=True)\n",
    "df.head()"
   ]
  },
  {
   "cell_type": "code",
   "execution_count": 6,
   "metadata": {
    "collapsed": false
   },
   "outputs": [
    {
     "data": {
      "text/plain": [
       "0    2015-04-29\n",
       "1    2015-04-30\n",
       "2    2015-04-30\n",
       "3    2015-04-30\n",
       "4    2015-04-29\n",
       "Name: start_time_date, dtype: object"
      ]
     },
     "execution_count": 6,
     "metadata": {},
     "output_type": "execute_result"
    }
   ],
   "source": [
    "df['start_time_date'].head()  # one of new features"
   ]
  },
  {
   "cell_type": "code",
   "execution_count": null,
   "metadata": {
    "collapsed": true
   },
   "outputs": [],
   "source": []
  }
 ],
 "metadata": {
  "anaconda-cloud": {},
  "kernelspec": {
   "display_name": "Python [conda root]",
   "language": "python",
   "name": "conda-root-py"
  },
  "language_info": {
   "codemirror_mode": {
    "name": "ipython",
    "version": 2
   },
   "file_extension": ".py",
   "mimetype": "text/x-python",
   "name": "python",
   "nbconvert_exporter": "python",
   "pygments_lexer": "ipython2",
   "version": "2.7.12"
  }
 },
 "nbformat": 4,
 "nbformat_minor": 1
}
