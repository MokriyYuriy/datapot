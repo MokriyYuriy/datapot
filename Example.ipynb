{
 "cells": [
  {
   "cell_type": "code",
   "execution_count": 1,
   "metadata": {
    "collapsed": false
   },
   "outputs": [],
   "source": [
    "import datapot as dp"
   ]
  },
  {
   "cell_type": "code",
   "execution_count": 2,
   "metadata": {
    "collapsed": false
   },
   "outputs": [
    {
     "data": {
      "text/plain": [
       "DataPot class instance\n",
       " - number of features without transformation: 0\n",
       " - number of features after transformation: Unknown\n",
       "features to transform: "
      ]
     },
     "execution_count": 2,
     "metadata": {},
     "output_type": "execute_result"
    }
   ],
   "source": [
    "data = dp.DataPot()\n",
    "data"
   ]
  },
  {
   "cell_type": "code",
   "execution_count": 3,
   "metadata": {
    "collapsed": true
   },
   "outputs": [],
   "source": [
    "f = open('matches_test.jsonlines', 'r')"
   ]
  },
  {
   "cell_type": "code",
   "execution_count": 4,
   "metadata": {
    "collapsed": false
   },
   "outputs": [
    {
     "data": {
      "text/plain": [
       "DataPot class instance\n",
       " - number of features without transformation: 771\n",
       " - number of features after transformation: Unknown\n",
       "features to transform: \n",
       "\t('picks_bans.15.is_pick', [TestBoolToIntTransformer])\n",
       "\t('picks_bans.3.is_pick', [TestBoolToIntTransformer])\n",
       "\t('picks_bans.11.is_pick', [TestBoolToIntTransformer])\n",
       "\t('picks_bans.16.is_pick', [TestBoolToIntTransformer])\n",
       "\t('picks_bans.0.is_pick', [TestBoolToIntTransformer])\n",
       "\t('picks_bans.14.is_pick', [TestBoolToIntTransformer])\n",
       "\t('picks_bans.1.is_pick', [TestBoolToIntTransformer])\n",
       "\t('picks_bans.19.is_pick', [TestBoolToIntTransformer])\n",
       "\t('picks_bans.5.is_pick', [TestBoolToIntTransformer])\n",
       "\t('picks_bans.6.is_pick', [TestBoolToIntTransformer])\n",
       "\t('picks_bans.10.is_pick', [TestBoolToIntTransformer])\n",
       "\t('picks_bans.13.is_pick', [TestBoolToIntTransformer])\n",
       "\t('picks_bans.17.is_pick', [TestBoolToIntTransformer])\n",
       "\t('picks_bans.2.is_pick', [TestBoolToIntTransformer])\n",
       "\t('picks_bans.4.is_pick', [TestBoolToIntTransformer])\n",
       "\t('start_time', [TestTimestampTransformer])\n",
       "\t('picks_bans.18.is_pick', [TestBoolToIntTransformer])\n",
       "\t('picks_bans.8.is_pick', [TestBoolToIntTransformer])\n",
       "\t('picks_bans.7.is_pick', [TestBoolToIntTransformer])\n",
       "\t('picks_bans.12.is_pick', [TestBoolToIntTransformer])\n",
       "\t('picks_bans.9.is_pick', [TestBoolToIntTransformer])"
      ]
     },
     "execution_count": 4,
     "metadata": {},
     "output_type": "execute_result"
    }
   ],
   "source": [
    "data.fit(f, limit=10)\n",
    "data"
   ]
  },
  {
   "cell_type": "code",
   "execution_count": 5,
   "metadata": {
    "collapsed": false
   },
   "outputs": [
    {
     "data": {
      "text/html": [
       "<div>\n",
       "<table border=\"1\" class=\"dataframe\">\n",
       "  <thead>\n",
       "    <tr style=\"text-align: right;\">\n",
       "      <th></th>\n",
       "      <th>players.1.purchase_log.6.time</th>\n",
       "      <th>picks_bans.15.is_pick_binary</th>\n",
       "      <th>picks_bans.3.is_pick_binary</th>\n",
       "      <th>players.9.lh_t.4</th>\n",
       "      <th>players.3.kills_log.0.time</th>\n",
       "      <th>players.1.lh_t.5</th>\n",
       "      <th>players.4.xp_t.2</th>\n",
       "      <th>players.6.ability_upgrades.1.time</th>\n",
       "      <th>players.5.ability_upgrades.4.level</th>\n",
       "      <th>players.5.xp_t.0</th>\n",
       "      <th>...</th>\n",
       "      <th>players.4.xp_t.0</th>\n",
       "      <th>players.5.kills_log.1.time</th>\n",
       "      <th>players.7.kills_log.1.player</th>\n",
       "      <th>players.7.purchase_log.5.item_id</th>\n",
       "      <th>players.8.purchase_log.9.time</th>\n",
       "      <th>players.2.xp_t.3</th>\n",
       "      <th>players.4.ability_upgrades.1.time</th>\n",
       "      <th>players.6.lh_t.5</th>\n",
       "      <th>players.4.purchase_log.2.item_id</th>\n",
       "      <th>players.3.sen_log.0.xy.1</th>\n",
       "    </tr>\n",
       "  </thead>\n",
       "  <tbody>\n",
       "    <tr>\n",
       "      <th>0</th>\n",
       "      <td>194.0</td>\n",
       "      <td>1.0</td>\n",
       "      <td>0.0</td>\n",
       "      <td>5.0</td>\n",
       "      <td>NaN</td>\n",
       "      <td>10.0</td>\n",
       "      <td>513.0</td>\n",
       "      <td>125.0</td>\n",
       "      <td>NaN</td>\n",
       "      <td>0.0</td>\n",
       "      <td>...</td>\n",
       "      <td>0.0</td>\n",
       "      <td>218.0</td>\n",
       "      <td>NaN</td>\n",
       "      <td>16.0</td>\n",
       "      <td>279.0</td>\n",
       "      <td>641.0</td>\n",
       "      <td>114.0</td>\n",
       "      <td>18.0</td>\n",
       "      <td>20.0</td>\n",
       "      <td>NaN</td>\n",
       "    </tr>\n",
       "    <tr>\n",
       "      <th>1</th>\n",
       "      <td>NaN</td>\n",
       "      <td>1.0</td>\n",
       "      <td>0.0</td>\n",
       "      <td>1.0</td>\n",
       "      <td>NaN</td>\n",
       "      <td>22.0</td>\n",
       "      <td>206.0</td>\n",
       "      <td>NaN</td>\n",
       "      <td>5.0</td>\n",
       "      <td>0.0</td>\n",
       "      <td>...</td>\n",
       "      <td>0.0</td>\n",
       "      <td>NaN</td>\n",
       "      <td>NaN</td>\n",
       "      <td>27.0</td>\n",
       "      <td>NaN</td>\n",
       "      <td>534.0</td>\n",
       "      <td>170.0</td>\n",
       "      <td>2.0</td>\n",
       "      <td>12.0</td>\n",
       "      <td>NaN</td>\n",
       "    </tr>\n",
       "    <tr>\n",
       "      <th>2</th>\n",
       "      <td>NaN</td>\n",
       "      <td>1.0</td>\n",
       "      <td>0.0</td>\n",
       "      <td>2.0</td>\n",
       "      <td>NaN</td>\n",
       "      <td>2.0</td>\n",
       "      <td>175.0</td>\n",
       "      <td>163.0</td>\n",
       "      <td>5.0</td>\n",
       "      <td>0.0</td>\n",
       "      <td>...</td>\n",
       "      <td>0.0</td>\n",
       "      <td>NaN</td>\n",
       "      <td>NaN</td>\n",
       "      <td>216.0</td>\n",
       "      <td>NaN</td>\n",
       "      <td>515.0</td>\n",
       "      <td>192.0</td>\n",
       "      <td>5.0</td>\n",
       "      <td>44.0</td>\n",
       "      <td>NaN</td>\n",
       "    </tr>\n",
       "    <tr>\n",
       "      <th>3</th>\n",
       "      <td>51.0</td>\n",
       "      <td>1.0</td>\n",
       "      <td>0.0</td>\n",
       "      <td>5.0</td>\n",
       "      <td>NaN</td>\n",
       "      <td>30.0</td>\n",
       "      <td>308.0</td>\n",
       "      <td>140.0</td>\n",
       "      <td>5.0</td>\n",
       "      <td>0.0</td>\n",
       "      <td>...</td>\n",
       "      <td>0.0</td>\n",
       "      <td>NaN</td>\n",
       "      <td>NaN</td>\n",
       "      <td>NaN</td>\n",
       "      <td>194.0</td>\n",
       "      <td>152.0</td>\n",
       "      <td>153.0</td>\n",
       "      <td>27.0</td>\n",
       "      <td>39.0</td>\n",
       "      <td>NaN</td>\n",
       "    </tr>\n",
       "    <tr>\n",
       "      <th>4</th>\n",
       "      <td>-68.0</td>\n",
       "      <td>1.0</td>\n",
       "      <td>0.0</td>\n",
       "      <td>10.0</td>\n",
       "      <td>NaN</td>\n",
       "      <td>9.0</td>\n",
       "      <td>351.0</td>\n",
       "      <td>150.0</td>\n",
       "      <td>NaN</td>\n",
       "      <td>0.0</td>\n",
       "      <td>...</td>\n",
       "      <td>0.0</td>\n",
       "      <td>NaN</td>\n",
       "      <td>NaN</td>\n",
       "      <td>44.0</td>\n",
       "      <td>NaN</td>\n",
       "      <td>1345.0</td>\n",
       "      <td>165.0</td>\n",
       "      <td>25.0</td>\n",
       "      <td>42.0</td>\n",
       "      <td>NaN</td>\n",
       "    </tr>\n",
       "  </tbody>\n",
       "</table>\n",
       "<p>5 rows × 772 columns</p>\n",
       "</div>"
      ],
      "text/plain": [
       "   players.1.purchase_log.6.time  picks_bans.15.is_pick_binary  \\\n",
       "0                          194.0                           1.0   \n",
       "1                            NaN                           1.0   \n",
       "2                            NaN                           1.0   \n",
       "3                           51.0                           1.0   \n",
       "4                          -68.0                           1.0   \n",
       "\n",
       "   picks_bans.3.is_pick_binary  players.9.lh_t.4  players.3.kills_log.0.time  \\\n",
       "0                          0.0               5.0                         NaN   \n",
       "1                          0.0               1.0                         NaN   \n",
       "2                          0.0               2.0                         NaN   \n",
       "3                          0.0               5.0                         NaN   \n",
       "4                          0.0              10.0                         NaN   \n",
       "\n",
       "   players.1.lh_t.5  players.4.xp_t.2  players.6.ability_upgrades.1.time  \\\n",
       "0              10.0             513.0                              125.0   \n",
       "1              22.0             206.0                                NaN   \n",
       "2               2.0             175.0                              163.0   \n",
       "3              30.0             308.0                              140.0   \n",
       "4               9.0             351.0                              150.0   \n",
       "\n",
       "   players.5.ability_upgrades.4.level  players.5.xp_t.0  \\\n",
       "0                                 NaN               0.0   \n",
       "1                                 5.0               0.0   \n",
       "2                                 5.0               0.0   \n",
       "3                                 5.0               0.0   \n",
       "4                                 NaN               0.0   \n",
       "\n",
       "             ...             players.4.xp_t.0  players.5.kills_log.1.time  \\\n",
       "0            ...                          0.0                       218.0   \n",
       "1            ...                          0.0                         NaN   \n",
       "2            ...                          0.0                         NaN   \n",
       "3            ...                          0.0                         NaN   \n",
       "4            ...                          0.0                         NaN   \n",
       "\n",
       "   players.7.kills_log.1.player  players.7.purchase_log.5.item_id  \\\n",
       "0                           NaN                              16.0   \n",
       "1                           NaN                              27.0   \n",
       "2                           NaN                             216.0   \n",
       "3                           NaN                               NaN   \n",
       "4                           NaN                              44.0   \n",
       "\n",
       "   players.8.purchase_log.9.time  players.2.xp_t.3  \\\n",
       "0                          279.0             641.0   \n",
       "1                            NaN             534.0   \n",
       "2                            NaN             515.0   \n",
       "3                          194.0             152.0   \n",
       "4                            NaN            1345.0   \n",
       "\n",
       "   players.4.ability_upgrades.1.time  players.6.lh_t.5  \\\n",
       "0                              114.0              18.0   \n",
       "1                              170.0               2.0   \n",
       "2                              192.0               5.0   \n",
       "3                              153.0              27.0   \n",
       "4                              165.0              25.0   \n",
       "\n",
       "   players.4.purchase_log.2.item_id  players.3.sen_log.0.xy.1  \n",
       "0                              20.0                       NaN  \n",
       "1                              12.0                       NaN  \n",
       "2                              44.0                       NaN  \n",
       "3                              39.0                       NaN  \n",
       "4                              42.0                       NaN  \n",
       "\n",
       "[5 rows x 772 columns]"
      ]
     },
     "execution_count": 5,
     "metadata": {},
     "output_type": "execute_result"
    }
   ],
   "source": [
    "df = data.extract(f)\n",
    "df.head()"
   ]
  },
  {
   "cell_type": "code",
   "execution_count": 6,
   "metadata": {
    "collapsed": false
   },
   "outputs": [
    {
     "data": {
      "text/plain": [
       "0    2015-04-29\n",
       "1    2015-04-30\n",
       "2    2015-04-30\n",
       "3    2015-04-30\n",
       "4    2015-04-29\n",
       "Name: start_time_date, dtype: object"
      ]
     },
     "execution_count": 6,
     "metadata": {},
     "output_type": "execute_result"
    }
   ],
   "source": [
    "df['start_time_date'].head()  # one of new features"
   ]
  }
 ],
 "metadata": {
  "kernelspec": {
   "display_name": "Python 3",
   "language": "python",
   "name": "python3"
  },
  "language_info": {
   "codemirror_mode": {
    "name": "ipython",
    "version": 3
   },
   "file_extension": ".py",
   "mimetype": "text/x-python",
   "name": "python",
   "nbconvert_exporter": "python",
   "pygments_lexer": "ipython3",
   "version": "3.5.2"
  }
 },
 "nbformat": 4,
 "nbformat_minor": 1
}
