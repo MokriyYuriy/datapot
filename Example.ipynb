{
 "cells": [
  {
   "cell_type": "code",
   "execution_count": 1,
   "metadata": {
    "collapsed": false
   },
   "outputs": [
    {
     "name": "stderr",
     "output_type": "stream",
     "text": [
      "/usr/local/lib/python3.5/dist-packages/gensim/utils.py:1015: UserWarning: Pattern library is not installed, lemmatization won't be available.\n",
      "  warnings.warn(\"Pattern library is not installed, lemmatization won't be available.\")\n"
     ]
    }
   ],
   "source": [
    "import datapot as dp"
   ]
  },
  {
   "cell_type": "code",
   "execution_count": 2,
   "metadata": {
    "collapsed": false
   },
   "outputs": [
    {
     "data": {
      "text/plain": [
       "DataPot class instance\n",
       " - number of features without transformation: 0\n",
       " - number of new features: Unknown\n",
       "features to transform: "
      ]
     },
     "execution_count": 2,
     "metadata": {},
     "output_type": "execute_result"
    }
   ],
   "source": [
    "data = dp.DataPot()\n",
    "data"
   ]
  },
  {
   "cell_type": "code",
   "execution_count": 3,
   "metadata": {
    "collapsed": false
   },
   "outputs": [],
   "source": [
    "# f = open('data/matches_test.jsonlines', 'r')\n",
    "import bz2\n",
    "f = bz2.BZ2File('data/matches_test.jsonlines.bz2') "
   ]
  },
  {
   "cell_type": "code",
   "execution_count": 4,
   "metadata": {
    "collapsed": false
   },
   "outputs": [
    {
     "data": {
      "text/plain": [
       "DataPot class instance\n",
       " - number of features without transformation: 806\n",
       " - number of new features: 317\n",
       "features to transform: \n",
       "\t('picks_bans.11.is_pick', [TestBoolToIntTransformer])\n",
       "\t('players.2.kills_log.0.unit', [TfidfTransformer])\n",
       "\t('players.2.kills_log.2.unit', [TfidfTransformer])\n",
       "\t('picks_bans.19.is_pick', [TestBoolToIntTransformer])\n",
       "\t('players.9.kills_log.0.unit', [TfidfTransformer])\n",
       "\t('players.3.kills_log.0.unit', [TfidfTransformer])\n",
       "\t('players.1.gold_t', [TestComplexTransformer(average_len_of_array=None)])\n",
       "\t('players.2.lh_t', [TestComplexTransformer(average_len_of_array=None)])\n",
       "\t('players.0.kills_log.0.unit', [TfidfTransformer])\n",
       "\t('picks_bans.10.is_pick', [TestBoolToIntTransformer])\n",
       "\t('players.5.gold_t', [TestComplexTransformer(average_len_of_array=None)])\n",
       "\t('players.0.xp_t', [TestComplexTransformer(average_len_of_array=None)])\n",
       "\t('times', [TestComplexTransformer(average_len_of_array=None)])\n",
       "\t('picks_bans.3.is_pick', [TestBoolToIntTransformer])\n",
       "\t('players.4.gold_t', [TestComplexTransformer(average_len_of_array=None)])\n",
       "\t('players.9.gold_t', [TestComplexTransformer(average_len_of_array=None)])\n",
       "\t('picks_bans.15.is_pick', [TestBoolToIntTransformer])\n",
       "\t('picks_bans.18.is_pick', [TestBoolToIntTransformer])\n",
       "\t('picks_bans.0.is_pick', [TestBoolToIntTransformer])\n",
       "\t('players.8.xp_t', [TestComplexTransformer(average_len_of_array=None)])\n",
       "\t('players.7.kills_log.1.unit', [TfidfTransformer])\n",
       "\t('players.7.lh_t', [TestComplexTransformer(average_len_of_array=None)])\n",
       "\t('players.1.kills_log.0.unit', [TfidfTransformer])\n",
       "\t('picks_bans.13.is_pick', [TestBoolToIntTransformer])\n",
       "\t('players.7.kills_log.0.unit', [TfidfTransformer])\n",
       "\t('players.2.kills_log.1.unit', [TfidfTransformer])\n",
       "\t('players.2.gold_t', [TestComplexTransformer(average_len_of_array=None)])\n",
       "\t('players.8.kills_log.0.unit', [TfidfTransformer])\n",
       "\t('players.0.lh_t', [TestComplexTransformer(average_len_of_array=None)])\n",
       "\t('players.6.xp_t', [TestComplexTransformer(average_len_of_array=None)])\n",
       "\t('players.9.kills_log.1.unit', [TfidfTransformer])\n",
       "\t('players.6.gold_t', [TestComplexTransformer(average_len_of_array=None)])\n",
       "\t('players.3.lh_t', [TestComplexTransformer(average_len_of_array=None)])\n",
       "\t('players.3.xp_t', [TestComplexTransformer(average_len_of_array=None)])\n",
       "\t('picks_bans.6.is_pick', [TestBoolToIntTransformer])\n",
       "\t('players.1.xp_t', [TestComplexTransformer(average_len_of_array=None)])\n",
       "\t('start_time', [TestTimestampTransformer])\n",
       "\t('players.4.kills_log.1.unit', [TfidfTransformer])\n",
       "\t('picks_bans.1.is_pick', [TestBoolToIntTransformer])\n",
       "\t('picks_bans.7.is_pick', [TestBoolToIntTransformer])\n",
       "\t('players.1.lh_t', [TestComplexTransformer(average_len_of_array=None)])\n",
       "\t('players.8.kills_log.1.unit', [TfidfTransformer])\n",
       "\t('picks_bans.4.is_pick', [TestBoolToIntTransformer])\n",
       "\t('players.6.lh_t', [TestComplexTransformer(average_len_of_array=None)])\n",
       "\t('players.1.kills_log.1.unit', [TfidfTransformer])\n",
       "\t('players.5.lh_t', [TestComplexTransformer(average_len_of_array=None)])\n",
       "\t('players.7.xp_t', [TestComplexTransformer(average_len_of_array=None)])\n",
       "\t('picks_bans.5.is_pick', [TestBoolToIntTransformer])\n",
       "\t('players.6.kills_log.0.unit', [TfidfTransformer])\n",
       "\t('players.8.gold_t', [TestComplexTransformer(average_len_of_array=None)])\n",
       "\t('picks_bans.2.is_pick', [TestBoolToIntTransformer])\n",
       "\t('players.8.kills_log.2.unit', [TfidfTransformer])\n",
       "\t('picks_bans.17.is_pick', [TestBoolToIntTransformer])\n",
       "\t('picks_bans.8.is_pick', [TestBoolToIntTransformer])\n",
       "\t('players.9.xp_t', [TestComplexTransformer(average_len_of_array=None)])\n",
       "\t('players.5.kills_log.0.unit', [TfidfTransformer])\n",
       "\t('players.4.xp_t', [TestComplexTransformer(average_len_of_array=None)])\n",
       "\t('players.3.kills_log.1.unit', [TfidfTransformer])\n",
       "\t('players.8.lh_t', [TestComplexTransformer(average_len_of_array=None)])\n",
       "\t('picks_bans.12.is_pick', [TestBoolToIntTransformer])\n",
       "\t('picks_bans.14.is_pick', [TestBoolToIntTransformer])\n",
       "\t('players.7.gold_t', [TestComplexTransformer(average_len_of_array=None)])\n",
       "\t('players.4.lh_t', [TestComplexTransformer(average_len_of_array=None)])\n",
       "\t('players.0.kills_log.1.unit', [TfidfTransformer])\n",
       "\t('picks_bans.9.is_pick', [TestBoolToIntTransformer])\n",
       "\t('players.6.kills_log.1.unit', [TfidfTransformer])\n",
       "\t('players.4.kills_log.0.unit', [TfidfTransformer])\n",
       "\t('players.5.kills_log.1.unit', [TfidfTransformer])\n",
       "\t('players.3.gold_t', [TestComplexTransformer(average_len_of_array=None)])\n",
       "\t('players.2.xp_t', [TestComplexTransformer(average_len_of_array=None)])\n",
       "\t('picks_bans.16.is_pick', [TestBoolToIntTransformer])\n",
       "\t('players.0.gold_t', [TestComplexTransformer(average_len_of_array=None)])\n",
       "\t('players.9.lh_t', [TestComplexTransformer(average_len_of_array=None)])\n",
       "\t('players.5.xp_t', [TestComplexTransformer(average_len_of_array=None)])"
      ]
     },
     "execution_count": 4,
     "metadata": {},
     "output_type": "execute_result"
    }
   ],
   "source": [
    "data.fit(f, limit=100)\n",
    "data"
   ]
  },
  {
   "cell_type": "code",
   "execution_count": 5,
   "metadata": {
    "collapsed": false
   },
   "outputs": [
    {
     "name": "stdout",
     "output_type": "stream",
     "text": [
      "fit transformers...\n",
      "fit: ('picks_bans.11.is_pick', [TestBoolToIntTransformer])\n",
      "fit: ('players.2.kills_log.0.unit', [TfidfTransformer])\n"
     ]
    },
    {
     "ename": "AttributeError",
     "evalue": "module 'iso639' has no attribute 'languages'",
     "output_type": "error",
     "traceback": [
      "\u001b[0;31m---------------------------------------------------------------------------\u001b[0m",
      "\u001b[0;31mAttributeError\u001b[0m                            Traceback (most recent call last)",
      "\u001b[0;32m<ipython-input-5-91ce755225a5>\u001b[0m in \u001b[0;36m<module>\u001b[0;34m()\u001b[0m\n\u001b[0;32m----> 1\u001b[0;31m \u001b[0mdf\u001b[0m \u001b[0;34m=\u001b[0m \u001b[0mdata\u001b[0m\u001b[0;34m.\u001b[0m\u001b[0mtransform\u001b[0m\u001b[0;34m(\u001b[0m\u001b[0mf\u001b[0m\u001b[0;34m,\u001b[0m \u001b[0mverbose\u001b[0m\u001b[0;34m=\u001b[0m\u001b[0;32mTrue\u001b[0m\u001b[0;34m)\u001b[0m\u001b[0;34m\u001b[0m\u001b[0m\n\u001b[0m\u001b[1;32m      2\u001b[0m \u001b[0mdf\u001b[0m\u001b[0;34m.\u001b[0m\u001b[0mhead\u001b[0m\u001b[0;34m(\u001b[0m\u001b[0;34m)\u001b[0m\u001b[0;34m\u001b[0m\u001b[0m\n",
      "\u001b[0;32m/home/bashalex/datapot/datapot/__init__.py\u001b[0m in \u001b[0;36mtransform\u001b[0;34m(self, data, verbose)\u001b[0m\n\u001b[1;32m    102\u001b[0m             \u001b[0mprint\u001b[0m\u001b[0;34m(\u001b[0m\u001b[0;34m'fit transformers...'\u001b[0m\u001b[0;34m)\u001b[0m\u001b[0;34m\u001b[0m\u001b[0m\n\u001b[1;32m    103\u001b[0m         \u001b[0;31m# fit transformers\u001b[0m\u001b[0;34m\u001b[0m\u001b[0;34m\u001b[0m\u001b[0m\n\u001b[0;32m--> 104\u001b[0;31m         \u001b[0mself\u001b[0m\u001b[0;34m.\u001b[0m\u001b[0m__fit_transformers\u001b[0m\u001b[0;34m(\u001b[0m\u001b[0mdata\u001b[0m\u001b[0;34m,\u001b[0m \u001b[0mverbose\u001b[0m\u001b[0;34m)\u001b[0m\u001b[0;34m\u001b[0m\u001b[0m\n\u001b[0m\u001b[1;32m    105\u001b[0m         \u001b[0;32mif\u001b[0m \u001b[0mverbose\u001b[0m\u001b[0;34m:\u001b[0m\u001b[0;34m\u001b[0m\u001b[0m\n\u001b[1;32m    106\u001b[0m             \u001b[0mprint\u001b[0m\u001b[0;34m(\u001b[0m\u001b[0;34m'fit transformers...OK'\u001b[0m\u001b[0;34m)\u001b[0m\u001b[0;34m\u001b[0m\u001b[0m\n",
      "\u001b[0;32m/home/bashalex/datapot/datapot/__init__.py\u001b[0m in \u001b[0;36m__fit_transformers\u001b[0;34m(self, data, verbose)\u001b[0m\n\u001b[1;32m    173\u001b[0m                 \u001b[0;32mif\u001b[0m \u001b[0mvalues\u001b[0m \u001b[0;32mis\u001b[0m \u001b[0;32mNone\u001b[0m\u001b[0;34m:\u001b[0m\u001b[0;34m\u001b[0m\u001b[0m\n\u001b[1;32m    174\u001b[0m                     \u001b[0mvalues\u001b[0m \u001b[0;34m=\u001b[0m \u001b[0mself\u001b[0m\u001b[0;34m.\u001b[0m\u001b[0m__extract_all_values\u001b[0m\u001b[0;34m(\u001b[0m\u001b[0mdata\u001b[0m\u001b[0;34m,\u001b[0m \u001b[0mx\u001b[0m\u001b[0;34m[\u001b[0m\u001b[0;36m0\u001b[0m\u001b[0;34m]\u001b[0m\u001b[0;34m.\u001b[0m\u001b[0msplit\u001b[0m\u001b[0;34m(\u001b[0m\u001b[0;34m'.'\u001b[0m\u001b[0;34m)\u001b[0m\u001b[0;34m)\u001b[0m\u001b[0;34m\u001b[0m\u001b[0m\n\u001b[0;32m--> 175\u001b[0;31m                 \u001b[0mx\u001b[0m\u001b[0;34m[\u001b[0m\u001b[0;36m1\u001b[0m\u001b[0;34m]\u001b[0m\u001b[0;34m[\u001b[0m\u001b[0mi\u001b[0m\u001b[0;34m]\u001b[0m\u001b[0;34m.\u001b[0m\u001b[0mfit\u001b[0m\u001b[0;34m(\u001b[0m\u001b[0mvalues\u001b[0m\u001b[0;34m)\u001b[0m\u001b[0;34m\u001b[0m\u001b[0m\n\u001b[0m\u001b[1;32m    176\u001b[0m \u001b[0;34m\u001b[0m\u001b[0m\n\u001b[1;32m    177\u001b[0m     \u001b[0;32mdef\u001b[0m \u001b[0m__generate_feature\u001b[0m\u001b[0;34m(\u001b[0m\u001b[0mself\u001b[0m\u001b[0;34m,\u001b[0m \u001b[0mobj\u001b[0m\u001b[0;34m,\u001b[0m \u001b[0mfield\u001b[0m\u001b[0;34m,\u001b[0m \u001b[0mtransformers\u001b[0m\u001b[0;34m)\u001b[0m\u001b[0;34m:\u001b[0m\u001b[0;34m\u001b[0m\u001b[0m\n",
      "\u001b[0;32m/home/bashalex/datapot/datapot/transformer/text/text_transformer.py\u001b[0m in \u001b[0;36mfit\u001b[0;34m(self, text_feature)\u001b[0m\n\u001b[1;32m     97\u001b[0m     \u001b[0;32mdef\u001b[0m \u001b[0mfit\u001b[0m\u001b[0;34m(\u001b[0m\u001b[0mself\u001b[0m\u001b[0;34m,\u001b[0m \u001b[0mtext_feature\u001b[0m\u001b[0;34m)\u001b[0m\u001b[0;34m:\u001b[0m\u001b[0;34m\u001b[0m\u001b[0m\n\u001b[1;32m     98\u001b[0m         \u001b[0mtext_feature\u001b[0m \u001b[0;34m=\u001b[0m \u001b[0mself\u001b[0m\u001b[0;34m.\u001b[0m\u001b[0m_clean_text_feature\u001b[0m\u001b[0;34m(\u001b[0m\u001b[0mtext_feature\u001b[0m\u001b[0;34m)\u001b[0m\u001b[0;34m\u001b[0m\u001b[0m\n\u001b[0;32m---> 99\u001b[0;31m         \u001b[0mself\u001b[0m\u001b[0;34m.\u001b[0m\u001b[0m_detect_parameters\u001b[0m\u001b[0;34m(\u001b[0m\u001b[0mtext_feature\u001b[0m\u001b[0;34m)\u001b[0m\u001b[0;34m\u001b[0m\u001b[0m\n\u001b[0m\u001b[1;32m    100\u001b[0m         \u001b[0mtext_feature\u001b[0m \u001b[0;34m=\u001b[0m \u001b[0;34m[\u001b[0m\u001b[0mself\u001b[0m\u001b[0;34m.\u001b[0m\u001b[0m_stemming\u001b[0m\u001b[0;34m(\u001b[0m\u001b[0mtext\u001b[0m\u001b[0;34m)\u001b[0m \u001b[0;32mfor\u001b[0m \u001b[0mtext\u001b[0m \u001b[0;32min\u001b[0m \u001b[0mtext_feature\u001b[0m\u001b[0;34m]\u001b[0m\u001b[0;34m\u001b[0m\u001b[0m\n\u001b[1;32m    101\u001b[0m         \u001b[0mself\u001b[0m\u001b[0;34m.\u001b[0m\u001b[0mvectorizer\u001b[0m\u001b[0;34m.\u001b[0m\u001b[0mset_params\u001b[0m\u001b[0;34m(\u001b[0m\u001b[0;34m**\u001b[0m\u001b[0mself\u001b[0m\u001b[0;34m.\u001b[0m\u001b[0m_vectorizer_params\u001b[0m\u001b[0;34m)\u001b[0m\u001b[0;34m\u001b[0m\u001b[0m\n",
      "\u001b[0;32m/home/bashalex/datapot/datapot/transformer/text/text_transformer.py\u001b[0m in \u001b[0;36m_detect_parameters\u001b[0;34m(self, text_feature)\u001b[0m\n\u001b[1;32m     90\u001b[0m         \u001b[0;31m# TODO: Write the parameters autodetection\u001b[0m\u001b[0;34m\u001b[0m\u001b[0;34m\u001b[0m\u001b[0m\n\u001b[1;32m     91\u001b[0m         \u001b[0mself\u001b[0m\u001b[0;34m.\u001b[0m\u001b[0m_detect_number\u001b[0m \u001b[0;34m=\u001b[0m \u001b[0;36m10\u001b[0m\u001b[0;34m\u001b[0m\u001b[0m\n\u001b[0;32m---> 92\u001b[0;31m         \u001b[0mself\u001b[0m\u001b[0;34m.\u001b[0m\u001b[0m_detect_language\u001b[0m\u001b[0;34m(\u001b[0m\u001b[0mtext_feature\u001b[0m\u001b[0;34m)\u001b[0m\u001b[0;34m\u001b[0m\u001b[0m\n\u001b[0m\u001b[1;32m     93\u001b[0m         \u001b[0mself\u001b[0m\u001b[0;34m.\u001b[0m\u001b[0m_vectorizer_params\u001b[0m \u001b[0;34m=\u001b[0m \u001b[0;34m{\u001b[0m\u001b[0;34m'max_features'\u001b[0m\u001b[0;34m:\u001b[0m \u001b[0;36m5000\u001b[0m\u001b[0;34m}\u001b[0m\u001b[0;34m\u001b[0m\u001b[0m\n\u001b[1;32m     94\u001b[0m         \u001b[0mself\u001b[0m\u001b[0;34m.\u001b[0m\u001b[0m_nmf_params\u001b[0m \u001b[0;34m=\u001b[0m \u001b[0;34m{\u001b[0m\u001b[0;34m'n_components'\u001b[0m\u001b[0;34m:\u001b[0m \u001b[0;36m12\u001b[0m\u001b[0;34m,\u001b[0m \u001b[0;34m'max_iter'\u001b[0m\u001b[0;34m:\u001b[0m \u001b[0;36m200\u001b[0m\u001b[0;34m,\u001b[0m \u001b[0;34m'init'\u001b[0m\u001b[0;34m:\u001b[0m \u001b[0;34m'nndsvd'\u001b[0m\u001b[0;34m}\u001b[0m\u001b[0;34m\u001b[0m\u001b[0m\n",
      "\u001b[0;32m/home/bashalex/datapot/datapot/transformer/text/text_transformer.py\u001b[0m in \u001b[0;36m_detect_language\u001b[0;34m(self, text_feature)\u001b[0m\n\u001b[1;32m     31\u001b[0m         \u001b[0;31m# TODO: Remove the iso639 dependency\u001b[0m\u001b[0;34m\u001b[0m\u001b[0;34m\u001b[0m\u001b[0m\n\u001b[1;32m     32\u001b[0m         \u001b[0miso_code\u001b[0m \u001b[0;34m=\u001b[0m \u001b[0mlangdetect\u001b[0m\u001b[0;34m.\u001b[0m\u001b[0mdetect\u001b[0m\u001b[0;34m(\u001b[0m\u001b[0;34m' '\u001b[0m\u001b[0;34m.\u001b[0m\u001b[0mjoin\u001b[0m\u001b[0;34m(\u001b[0m\u001b[0mtext_feature\u001b[0m\u001b[0;34m[\u001b[0m\u001b[0;34m:\u001b[0m\u001b[0mself\u001b[0m\u001b[0;34m.\u001b[0m\u001b[0m_detect_number\u001b[0m\u001b[0;34m]\u001b[0m\u001b[0;34m)\u001b[0m\u001b[0;34m)\u001b[0m\u001b[0;34m\u001b[0m\u001b[0m\n\u001b[0;32m---> 33\u001b[0;31m         \u001b[0mself\u001b[0m\u001b[0;34m.\u001b[0m\u001b[0mlanguage\u001b[0m \u001b[0;34m=\u001b[0m \u001b[0miso639\u001b[0m\u001b[0;34m.\u001b[0m\u001b[0mlanguages\u001b[0m\u001b[0;34m.\u001b[0m\u001b[0mget\u001b[0m\u001b[0;34m(\u001b[0m\u001b[0malpha2\u001b[0m\u001b[0;34m=\u001b[0m\u001b[0miso_code\u001b[0m\u001b[0;34m)\u001b[0m\u001b[0;34m.\u001b[0m\u001b[0mname\u001b[0m\u001b[0;34m.\u001b[0m\u001b[0mlower\u001b[0m\u001b[0;34m(\u001b[0m\u001b[0;34m)\u001b[0m\u001b[0;34m\u001b[0m\u001b[0m\n\u001b[0m\u001b[1;32m     34\u001b[0m         \u001b[0;32mif\u001b[0m \u001b[0mself\u001b[0m\u001b[0;34m.\u001b[0m\u001b[0mlanguage\u001b[0m \u001b[0;32mnot\u001b[0m \u001b[0;32min\u001b[0m \u001b[0mSnowballStemmer\u001b[0m\u001b[0;34m.\u001b[0m\u001b[0mlanguages\u001b[0m\u001b[0;34m:\u001b[0m\u001b[0;34m\u001b[0m\u001b[0m\n\u001b[1;32m     35\u001b[0m             \u001b[0mself\u001b[0m\u001b[0;34m.\u001b[0m\u001b[0mlanguage\u001b[0m \u001b[0;34m=\u001b[0m \u001b[0;34m'other'\u001b[0m\u001b[0;34m\u001b[0m\u001b[0m\n",
      "\u001b[0;31mAttributeError\u001b[0m: module 'iso639' has no attribute 'languages'"
     ]
    }
   ],
   "source": [
    "df = data.transform(f, verbose=True)\n",
    "df.head()"
   ]
  },
  {
   "cell_type": "code",
   "execution_count": null,
   "metadata": {
    "collapsed": false
   },
   "outputs": [],
   "source": [
    "df['start_time_date'].head()  # one of new features"
   ]
  }
 ],
 "metadata": {
  "anaconda-cloud": {},
  "kernelspec": {
   "display_name": "Python 3",
   "language": "python",
   "name": "python3"
  },
  "language_info": {
   "codemirror_mode": {
    "name": "ipython",
    "version": 3
   },
   "file_extension": ".py",
   "mimetype": "text/x-python",
   "name": "python",
   "nbconvert_exporter": "python",
   "pygments_lexer": "ipython3",
   "version": "3.5.2"
  }
 },
 "nbformat": 4,
 "nbformat_minor": 1
}
