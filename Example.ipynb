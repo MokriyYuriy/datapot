{
 "cells": [
  {
   "cell_type": "code",
   "execution_count": 1,
   "metadata": {
    "collapsed": false
   },
   "outputs": [
    {
     "name": "stderr",
     "output_type": "stream",
     "text": [
      "/usr/local/lib/python3.5/dist-packages/gensim/utils.py:1015: UserWarning: Pattern library is not installed, lemmatization won't be available.\n",
      "  warnings.warn(\"Pattern library is not installed, lemmatization won't be available.\")\n"
     ]
    }
   ],
   "source": [
    "import datapot as dp"
   ]
  },
  {
   "cell_type": "code",
   "execution_count": 2,
   "metadata": {
    "collapsed": false
   },
   "outputs": [
    {
     "data": {
      "text/plain": [
       "DataPot class instance\n",
       " - number of features without transformation: 0\n",
       " - number of new features: Unknown\n",
       "features to transform: "
      ]
     },
     "execution_count": 2,
     "metadata": {},
     "output_type": "execute_result"
    }
   ],
   "source": [
    "data = dp.DataPot()\n",
    "data"
   ]
  },
  {
   "cell_type": "code",
   "execution_count": 3,
   "metadata": {
    "collapsed": false
   },
   "outputs": [],
   "source": [
    "# f = open('data/matches_test.jsonlines', 'r')\n",
    "import bz2\n",
    "f = bz2.BZ2File('data/matches_test.jsonlines.bz2') "
   ]
  },
  {
   "cell_type": "code",
   "execution_count": 4,
   "metadata": {
    "collapsed": false
   },
   "outputs": [
    {
     "data": {
      "text/plain": [
       "DataPot class instance\n",
       " - number of features without transformation: 616\n",
       " - number of new features: 395\n",
       "features to transform: \n",
       "\t('start_time', [TestTimestampTransformer])\n",
       "\t('picks_bans.2.is_pick', [TestBoolToIntTransformer])\n",
       "\t('players.7.kills_log.1.unit', [TfidfTransformer])\n",
       "\t('players.9.lh_t', [TimeSeriesTransformer...])\n",
       "\t('picks_bans.5.is_pick', [TestBoolToIntTransformer])\n",
       "\t('players.6.xp_t', [TimeSeriesTransformer...])\n",
       "\t('players.2.kills_log.1.unit', [TfidfTransformer])\n",
       "\t('players.5.kills_log.0.unit', [TfidfTransformer])\n",
       "\t('picks_bans.8.is_pick', [TestBoolToIntTransformer])\n",
       "\t('players.4.gold_t', [TimeSeriesTransformer...])\n",
       "\t('picks_bans.9.is_pick', [TestBoolToIntTransformer])\n",
       "\t('players.3.kills_log.0.unit', [TfidfTransformer])\n",
       "\t('players.2.gold_t', [TimeSeriesTransformer...])\n",
       "\t('players.4.xp_t', [TimeSeriesTransformer...])\n",
       "\t('players.0.xp_t', [TimeSeriesTransformer...])\n",
       "\t('players.5.gold_t', [TimeSeriesTransformer...])\n",
       "\t('picks_bans.16.is_pick', [TestBoolToIntTransformer])\n",
       "\t('players.6.lh_t', [TimeSeriesTransformer...])\n",
       "\t('players.8.kills_log.0.unit', [TfidfTransformer])\n",
       "\t('players.7.xp_t', [TimeSeriesTransformer...])\n",
       "\t('players.1.lh_t', [TimeSeriesTransformer...])\n",
       "\t('players.7.gold_t', [TimeSeriesTransformer...])\n",
       "\t('picks_bans.17.is_pick', [TestBoolToIntTransformer])\n",
       "\t('players.8.gold_t', [TimeSeriesTransformer...])\n",
       "\t('players.3.lh_t', [TimeSeriesTransformer...])\n",
       "\t('picks_bans.11.is_pick', [TestBoolToIntTransformer])\n",
       "\t('picks_bans.3.is_pick', [TestBoolToIntTransformer])\n",
       "\t('players.1.xp_t', [TimeSeriesTransformer...])\n",
       "\t('picks_bans.0.is_pick', [TestBoolToIntTransformer])\n",
       "\t('players.0.kills_log.0.unit', [TfidfTransformer])\n",
       "\t('picks_bans.15.is_pick', [TestBoolToIntTransformer])\n",
       "\t('picks_bans.12.is_pick', [TestBoolToIntTransformer])\n",
       "\t('players.9.xp_t', [TimeSeriesTransformer...])\n",
       "\t('players.8.xp_t', [TimeSeriesTransformer...])\n",
       "\t('players.2.lh_t', [TimeSeriesTransformer...])\n",
       "\t('players.7.kills_log.0.unit', [TfidfTransformer])\n",
       "\t('players.6.kills_log.0.unit', [TfidfTransformer])\n",
       "\t('players.3.gold_t', [TimeSeriesTransformer...])\n",
       "\t('picks_bans.4.is_pick', [TestBoolToIntTransformer])\n",
       "\t('players.2.kills_log.0.unit', [TfidfTransformer])\n",
       "\t('players.0.gold_t', [TimeSeriesTransformer...])\n",
       "\t('players.5.xp_t', [TimeSeriesTransformer...])\n",
       "\t('players.0.kills_log.1.unit', [TfidfTransformer])\n",
       "\t('players.2.xp_t', [TimeSeriesTransformer...])\n",
       "\t('players.1.gold_t', [TimeSeriesTransformer...])\n",
       "\t('picks_bans.13.is_pick', [TestBoolToIntTransformer])\n",
       "\t('players.8.lh_t', [TimeSeriesTransformer...])\n",
       "\t('picks_bans.19.is_pick', [TestBoolToIntTransformer])\n",
       "\t('picks_bans.1.is_pick', [TestBoolToIntTransformer])\n",
       "\t('picks_bans.14.is_pick', [TestBoolToIntTransformer])\n",
       "\t('players.9.kills_log.0.unit', [TfidfTransformer])\n",
       "\t('players.4.lh_t', [TimeSeriesTransformer...])\n",
       "\t('players.7.lh_t', [TimeSeriesTransformer...])\n",
       "\t('picks_bans.10.is_pick', [TestBoolToIntTransformer])\n",
       "\t('players.3.xp_t', [TimeSeriesTransformer...])\n",
       "\t('players.6.gold_t', [TimeSeriesTransformer...])\n",
       "\t('players.5.kills_log.1.unit', [TfidfTransformer])\n",
       "\t('players.9.gold_t', [TimeSeriesTransformer...])\n",
       "\t('picks_bans.7.is_pick', [TestBoolToIntTransformer])\n",
       "\t('players.4.kills_log.0.unit', [TfidfTransformer])\n",
       "\t('times', [TimeSeriesTransformer...])\n",
       "\t('players.0.lh_t', [TimeSeriesTransformer...])\n",
       "\t('players.5.lh_t', [TimeSeriesTransformer...])\n",
       "\t('picks_bans.18.is_pick', [TestBoolToIntTransformer])\n",
       "\t('picks_bans.6.is_pick', [TestBoolToIntTransformer])"
      ]
     },
     "execution_count": 4,
     "metadata": {},
     "output_type": "execute_result"
    }
   ],
   "source": [
    "data.fit(f, limit=10)\n",
    "data"
   ]
  },
  {
   "cell_type": "code",
   "execution_count": null,
   "metadata": {
    "collapsed": false
   },
   "outputs": [],
   "source": [
    "df = data.transform(f, verbose=True)\n",
    "df.head()"
   ]
  },
  {
   "cell_type": "code",
   "execution_count": null,
   "metadata": {
    "collapsed": false
   },
   "outputs": [],
   "source": [
    "df['start_time_date'].head()  # one of new features"
   ]
  },
  {
   "cell_type": "code",
   "execution_count": null,
   "metadata": {
    "collapsed": false
   },
   "outputs": [],
   "source": [
    "df['players.1.lh_t_sum'].head(10) # and one more"
   ]
  }
 ],
 "metadata": {
  "anaconda-cloud": {},
  "kernelspec": {
   "display_name": "Python 3",
   "language": "python",
   "name": "python3"
  },
  "language_info": {
   "codemirror_mode": {
    "name": "ipython",
    "version": 3
   },
   "file_extension": ".py",
   "mimetype": "text/x-python",
   "name": "python",
   "nbconvert_exporter": "python",
   "pygments_lexer": "ipython3",
   "version": "3.5.2"
  }
 },
 "nbformat": 4,
 "nbformat_minor": 1
}
