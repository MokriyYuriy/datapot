{
 "cells": [
  {
   "cell_type": "code",
   "execution_count": 1,
   "metadata": {
    "collapsed": false
   },
   "outputs": [],
   "source": [
    "import datapot as dp"
   ]
  },
  {
   "cell_type": "code",
   "execution_count": 2,
   "metadata": {
    "collapsed": false
   },
   "outputs": [
    {
     "data": {
      "text/plain": [
       "DataPot class instance\n",
       " - number of features without transformation: 0\n",
       " - number of new features: Unknown\n",
       "features to transform: "
      ]
     },
     "execution_count": 2,
     "metadata": {},
     "output_type": "execute_result"
    }
   ],
   "source": [
    "data = dp.DataPot()\n",
    "data"
   ]
  },
  {
   "cell_type": "code",
   "execution_count": 3,
   "metadata": {
    "collapsed": false
   },
   "outputs": [],
   "source": [
    "# f = open('data/matches_test.jsonlines', 'r')\n",
    "import bz2\n",
    "f = bz2.BZ2File('data/matches_test.jsonlines.bz2') "
   ]
  },
  {
   "cell_type": "code",
   "execution_count": 4,
   "metadata": {
    "collapsed": false
   },
   "outputs": [
    {
     "data": {
      "text/plain": [
       "DataPot class instance\n",
       " - number of features without transformation: 7\n",
       " - number of new features: 38\n",
       "features to transform: \n",
       "\t(u'picks_bans', [TimestampTransformer])\n",
       "\t(u'match_id', [TimestampTransformer])\n",
       "\t(u'start_time', [TestTimestampTransformer, TimestampTransformer])\n",
       "\t(u'times', [TimestampTransformer, TestComplexTransformer(average_len_of_array=None)])\n",
       "\t(u'players', [TimestampTransformer])\n",
       "\t(u'objectives', [TimestampTransformer])\n",
       "\t(u'lobby_type', [TimestampTransformer])"
      ]
     },
     "execution_count": 4,
     "metadata": {},
     "output_type": "execute_result"
    }
   ],
   "source": [
    "data.fit(f, limit=10)\n",
    "data"
   ]
  },
  {
   "cell_type": "code",
   "execution_count": null,
   "metadata": {
    "collapsed": false
   },
   "outputs": [
    {
     "name": "stdout",
     "output_type": "stream",
     "text": [
      "fit transformers...\n",
      "fit: (u'picks_bans', [TimestampTransformer])\n",
      "fit: (u'match_id', [TimestampTransformer])\n",
      "fit: (u'start_time', [TestTimestampTransformer, TimestampTransformer])\n",
      "fit: (u'times', [TimestampTransformer, TestComplexTransformer(average_len_of_array=None)])\n",
      "fit: (u'players', [TimestampTransformer])\n",
      "fit: (u'objectives', [TimestampTransformer])\n",
      "fit: (u'lobby_type', [TimestampTransformer])\n",
      "fit transformers...OK\n"
     ]
    }
   ],
   "source": [
    "df = data.transform(f, verbose=True)\n",
    "df.head()"
   ]
  },
  {
   "cell_type": "code",
   "execution_count": null,
   "metadata": {
    "collapsed": false
   },
   "outputs": [],
   "source": [
    "df['start_time_date'].head()  # one of new features"
   ]
  },
  {
   "cell_type": "code",
   "execution_count": null,
   "metadata": {
    "collapsed": false
   },
   "outputs": [],
   "source": [
    "df['match_id_timestamp_unixtime'] # one of new features"
   ]
  },
  {
   "cell_type": "code",
   "execution_count": null,
   "metadata": {
    "collapsed": true
   },
   "outputs": [],
   "source": []
  }
 ],
 "metadata": {
  "anaconda-cloud": {},
  "kernelspec": {
   "display_name": "Python [conda root]",
   "language": "python",
   "name": "conda-root-py"
  },
  "language_info": {
   "codemirror_mode": {
    "name": "ipython",
    "version": 2
   },
   "file_extension": ".py",
   "mimetype": "text/x-python",
   "name": "python",
   "nbconvert_exporter": "python",
   "pygments_lexer": "ipython2",
   "version": "2.7.12"
  }
 },
 "nbformat": 4,
 "nbformat_minor": 1
}
