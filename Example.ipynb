{
 "cells": [
  {
   "cell_type": "code",
   "execution_count": 1,
   "metadata": {
    "collapsed": false
   },
   "outputs": [],
   "source": [
    "import datapot as dp"
   ]
  },
  {
   "cell_type": "code",
   "execution_count": 2,
   "metadata": {
    "collapsed": false
   },
   "outputs": [
    {
     "data": {
      "text/plain": [
       "DataPot class instance\n",
       " - number of features without transformation: 0\n",
       " - number of new features: Unknown\n",
       "features to transform: "
      ]
     },
     "execution_count": 2,
     "metadata": {},
     "output_type": "execute_result"
    }
   ],
   "source": [
    "data = dp.DataPot()\n",
    "data"
   ]
  },
  {
   "cell_type": "code",
   "execution_count": 3,
   "metadata": {
    "collapsed": false
   },
   "outputs": [],
   "source": [
    "# f = open('data/matches_test.jsonlines', 'r')\n",
    "import bz2\n",
    "f = bz2.BZ2File('data/matches_test.jsonlines.bz2') "
   ]
  },
  {
   "cell_type": "code",
   "execution_count": 4,
   "metadata": {
    "collapsed": false
   },
   "outputs": [
    {
     "data": {
      "text/plain": [
       "DataPot class instance\n",
       " - number of features without transformation: 616\n",
       " - number of new features: 395\n",
       "features to transform: \n",
       "\t(u'players.0.gold_t', [TimeSeriesTransformer...])\n",
       "\t(u'players.9.gold_t', [TimeSeriesTransformer...])\n",
       "\t(u'picks_bans.13.is_pick', [TestBoolToIntTransformer])\n",
       "\t(u'picks_bans.5.is_pick', [TestBoolToIntTransformer])\n",
       "\t(u'players.5.lh_t', [TimeSeriesTransformer...])\n",
       "\t(u'players.0.xp_t', [TimeSeriesTransformer...])\n",
       "\t(u'players.3.kills_log.0.unit', [TfidfTransformer])\n",
       "\t(u'players.8.lh_t', [TimeSeriesTransformer...])\n",
       "\t(u'picks_bans.14.is_pick', [TestBoolToIntTransformer])\n",
       "\t(u'picks_bans.9.is_pick', [TestBoolToIntTransformer])\n",
       "\t(u'players.7.kills_log.0.unit', [TfidfTransformer])\n",
       "\t(u'players.6.lh_t', [TimeSeriesTransformer...])\n",
       "\t(u'picks_bans.19.is_pick', [TestBoolToIntTransformer])\n",
       "\t(u'players.7.xp_t', [TimeSeriesTransformer...])\n",
       "\t(u'players.3.lh_t', [TimeSeriesTransformer...])\n",
       "\t(u'players.2.gold_t', [TimeSeriesTransformer...])\n",
       "\t(u'players.2.xp_t', [TimeSeriesTransformer...])\n",
       "\t(u'picks_bans.1.is_pick', [TestBoolToIntTransformer])\n",
       "\t(u'players.8.xp_t', [TimeSeriesTransformer...])\n",
       "\t(u'players.4.kills_log.0.unit', [TfidfTransformer])\n",
       "\t(u'players.3.xp_t', [TimeSeriesTransformer...])\n",
       "\t(u'times', [TimeSeriesTransformer...])\n",
       "\t(u'players.5.kills_log.0.unit', [TfidfTransformer])\n",
       "\t(u'picks_bans.10.is_pick', [TestBoolToIntTransformer])\n",
       "\t(u'players.3.gold_t', [TimeSeriesTransformer...])\n",
       "\t(u'players.6.xp_t', [TimeSeriesTransformer...])\n",
       "\t(u'players.4.xp_t', [TimeSeriesTransformer...])\n",
       "\t(u'players.5.kills_log.1.unit', [TfidfTransformer])\n",
       "\t(u'players.6.gold_t', [TimeSeriesTransformer...])\n",
       "\t(u'players.7.lh_t', [TimeSeriesTransformer...])\n",
       "\t(u'picks_bans.8.is_pick', [TestBoolToIntTransformer])\n",
       "\t(u'picks_bans.2.is_pick', [TestBoolToIntTransformer])\n",
       "\t(u'picks_bans.7.is_pick', [TestBoolToIntTransformer])\n",
       "\t(u'players.9.lh_t', [TimeSeriesTransformer...])\n",
       "\t(u'players.1.gold_t', [TimeSeriesTransformer...])\n",
       "\t(u'picks_bans.18.is_pick', [TestBoolToIntTransformer])\n",
       "\t(u'players.2.kills_log.0.unit', [TfidfTransformer])\n",
       "\t(u'players.1.lh_t', [TimeSeriesTransformer...])\n",
       "\t(u'players.8.kills_log.0.unit', [TfidfTransformer])\n",
       "\t(u'players.7.kills_log.1.unit', [TfidfTransformer])\n",
       "\t(u'players.7.gold_t', [TimeSeriesTransformer...])\n",
       "\t(u'players.4.gold_t', [TimeSeriesTransformer...])\n",
       "\t(u'players.9.kills_log.0.unit', [TfidfTransformer])\n",
       "\t(u'picks_bans.16.is_pick', [TestBoolToIntTransformer])\n",
       "\t(u'picks_bans.6.is_pick', [TestBoolToIntTransformer])\n",
       "\t(u'players.4.lh_t', [TimeSeriesTransformer...])\n",
       "\t(u'players.8.gold_t', [TimeSeriesTransformer...])\n",
       "\t(u'players.2.lh_t', [TimeSeriesTransformer...])\n",
       "\t(u'start_time', [TestTimestampTransformer])\n",
       "\t(u'players.6.kills_log.0.unit', [TfidfTransformer])\n",
       "\t(u'players.2.kills_log.1.unit', [TfidfTransformer])\n",
       "\t(u'picks_bans.12.is_pick', [TestBoolToIntTransformer])\n",
       "\t(u'picks_bans.15.is_pick', [TestBoolToIntTransformer])\n",
       "\t(u'players.5.gold_t', [TimeSeriesTransformer...])\n",
       "\t(u'players.1.xp_t', [TimeSeriesTransformer...])\n",
       "\t(u'picks_bans.3.is_pick', [TestBoolToIntTransformer])\n",
       "\t(u'players.0.kills_log.1.unit', [TfidfTransformer])\n",
       "\t(u'players.9.xp_t', [TimeSeriesTransformer...])\n",
       "\t(u'picks_bans.0.is_pick', [TestBoolToIntTransformer])\n",
       "\t(u'picks_bans.11.is_pick', [TestBoolToIntTransformer])\n",
       "\t(u'picks_bans.4.is_pick', [TestBoolToIntTransformer])\n",
       "\t(u'players.0.kills_log.0.unit', [TfidfTransformer])\n",
       "\t(u'players.0.lh_t', [TimeSeriesTransformer...])\n",
       "\t(u'picks_bans.17.is_pick', [TestBoolToIntTransformer])\n",
       "\t(u'players.5.xp_t', [TimeSeriesTransformer...])"
      ]
     },
     "execution_count": 4,
     "metadata": {},
     "output_type": "execute_result"
    }
   ],
   "source": [
    "data.fit(f, limit=10)\n",
    "data"
   ]
  },
  {
   "cell_type": "code",
   "execution_count": 5,
   "metadata": {
    "collapsed": false
   },
   "outputs": [
    {
     "name": "stdout",
     "output_type": "stream",
     "text": [
      "fit transformers...\n",
      "fit: (u'players.0.gold_t', [TimeSeriesTransformer...])\n",
      "fit: (u'players.9.gold_t', [TimeSeriesTransformer...])\n",
      "fit: (u'picks_bans.13.is_pick', [TestBoolToIntTransformer])\n",
      "fit: (u'picks_bans.5.is_pick', [TestBoolToIntTransformer])\n",
      "fit: (u'players.5.lh_t', [TimeSeriesTransformer...])\n",
      "fit: (u'players.0.xp_t', [TimeSeriesTransformer...])\n",
      "fit: (u'players.3.kills_log.0.unit', [TfidfTransformer])\n"
     ]
    },
    {
     "ename": "TypeError",
     "evalue": "sequence item 0: expected string, NoneType found",
     "output_type": "error",
     "traceback": [
      "\u001b[0;31m---------------------------------------------------------------------------\u001b[0m",
      "\u001b[0;31mTypeError\u001b[0m                                 Traceback (most recent call last)",
      "\u001b[0;32m<ipython-input-5-91ce755225a5>\u001b[0m in \u001b[0;36m<module>\u001b[0;34m()\u001b[0m\n\u001b[0;32m----> 1\u001b[0;31m \u001b[0mdf\u001b[0m \u001b[0;34m=\u001b[0m \u001b[0mdata\u001b[0m\u001b[0;34m.\u001b[0m\u001b[0mtransform\u001b[0m\u001b[0;34m(\u001b[0m\u001b[0mf\u001b[0m\u001b[0;34m,\u001b[0m \u001b[0mverbose\u001b[0m\u001b[0;34m=\u001b[0m\u001b[0mTrue\u001b[0m\u001b[0;34m)\u001b[0m\u001b[0;34m\u001b[0m\u001b[0m\n\u001b[0m\u001b[1;32m      2\u001b[0m \u001b[0mdf\u001b[0m\u001b[0;34m.\u001b[0m\u001b[0mhead\u001b[0m\u001b[0;34m(\u001b[0m\u001b[0;34m)\u001b[0m\u001b[0;34m\u001b[0m\u001b[0m\n",
      "\u001b[0;32m/Users/michal-roz/Documents/Data_pot/datapot/datapot/__init__.pyc\u001b[0m in \u001b[0;36mtransform\u001b[0;34m(self, data, verbose)\u001b[0m\n\u001b[1;32m     89\u001b[0m             \u001b[0;32mprint\u001b[0m\u001b[0;34m(\u001b[0m\u001b[0;34m'fit transformers...'\u001b[0m\u001b[0;34m)\u001b[0m\u001b[0;34m\u001b[0m\u001b[0m\n\u001b[1;32m     90\u001b[0m         \u001b[0;31m# fit transformers\u001b[0m\u001b[0;34m\u001b[0m\u001b[0;34m\u001b[0m\u001b[0m\n\u001b[0;32m---> 91\u001b[0;31m         \u001b[0mself\u001b[0m\u001b[0;34m.\u001b[0m\u001b[0m__fit_transformers\u001b[0m\u001b[0;34m(\u001b[0m\u001b[0mdata\u001b[0m\u001b[0;34m,\u001b[0m \u001b[0mverbose\u001b[0m\u001b[0;34m)\u001b[0m\u001b[0;34m\u001b[0m\u001b[0m\n\u001b[0m\u001b[1;32m     92\u001b[0m         \u001b[0;32mif\u001b[0m \u001b[0mverbose\u001b[0m\u001b[0;34m:\u001b[0m\u001b[0;34m\u001b[0m\u001b[0m\n\u001b[1;32m     93\u001b[0m             \u001b[0;32mprint\u001b[0m\u001b[0;34m(\u001b[0m\u001b[0;34m'fit transformers...OK'\u001b[0m\u001b[0;34m)\u001b[0m\u001b[0;34m\u001b[0m\u001b[0m\n",
      "\u001b[0;32m/Users/michal-roz/Documents/Data_pot/datapot/datapot/__init__.pyc\u001b[0m in \u001b[0;36m__fit_transformers\u001b[0;34m(self, data, verbose)\u001b[0m\n\u001b[1;32m    161\u001b[0m                 \u001b[0;32mif\u001b[0m \u001b[0mvalues\u001b[0m \u001b[0;32mis\u001b[0m \u001b[0mNone\u001b[0m\u001b[0;34m:\u001b[0m\u001b[0;34m\u001b[0m\u001b[0m\n\u001b[1;32m    162\u001b[0m                     \u001b[0mvalues\u001b[0m \u001b[0;34m=\u001b[0m \u001b[0mself\u001b[0m\u001b[0;34m.\u001b[0m\u001b[0m__extract_all_values\u001b[0m\u001b[0;34m(\u001b[0m\u001b[0mdata\u001b[0m\u001b[0;34m,\u001b[0m \u001b[0mx\u001b[0m\u001b[0;34m[\u001b[0m\u001b[0;36m0\u001b[0m\u001b[0;34m]\u001b[0m\u001b[0;34m.\u001b[0m\u001b[0msplit\u001b[0m\u001b[0;34m(\u001b[0m\u001b[0;34m'.'\u001b[0m\u001b[0;34m)\u001b[0m\u001b[0;34m)\u001b[0m\u001b[0;34m\u001b[0m\u001b[0m\n\u001b[0;32m--> 163\u001b[0;31m                 \u001b[0mx\u001b[0m\u001b[0;34m[\u001b[0m\u001b[0;36m1\u001b[0m\u001b[0;34m]\u001b[0m\u001b[0;34m[\u001b[0m\u001b[0mi\u001b[0m\u001b[0;34m]\u001b[0m\u001b[0;34m.\u001b[0m\u001b[0mfit\u001b[0m\u001b[0;34m(\u001b[0m\u001b[0mvalues\u001b[0m\u001b[0;34m)\u001b[0m\u001b[0;34m\u001b[0m\u001b[0m\n\u001b[0m\u001b[1;32m    164\u001b[0m \u001b[0;34m\u001b[0m\u001b[0m\n\u001b[1;32m    165\u001b[0m     \u001b[0;32mdef\u001b[0m \u001b[0m__generate_feature\u001b[0m\u001b[0;34m(\u001b[0m\u001b[0mself\u001b[0m\u001b[0;34m,\u001b[0m \u001b[0mobj\u001b[0m\u001b[0;34m,\u001b[0m \u001b[0mfield\u001b[0m\u001b[0;34m,\u001b[0m \u001b[0mtransformers\u001b[0m\u001b[0;34m)\u001b[0m\u001b[0;34m:\u001b[0m\u001b[0;34m\u001b[0m\u001b[0m\n",
      "\u001b[0;32m/Users/michal-roz/Documents/Data_pot/datapot/datapot/transformer/text/text_transformer.py\u001b[0m in \u001b[0;36mfit\u001b[0;34m(self, text_feature)\u001b[0m\n\u001b[1;32m     77\u001b[0m \u001b[0;34m\u001b[0m\u001b[0m\n\u001b[1;32m     78\u001b[0m     \u001b[0;32mdef\u001b[0m \u001b[0mfit\u001b[0m\u001b[0;34m(\u001b[0m\u001b[0mself\u001b[0m\u001b[0;34m,\u001b[0m \u001b[0mtext_feature\u001b[0m\u001b[0;34m)\u001b[0m\u001b[0;34m:\u001b[0m\u001b[0;34m\u001b[0m\u001b[0m\n\u001b[0;32m---> 79\u001b[0;31m         \u001b[0mself\u001b[0m\u001b[0;34m.\u001b[0m\u001b[0m_detect_parameters\u001b[0m\u001b[0;34m(\u001b[0m\u001b[0mtext_feature\u001b[0m\u001b[0;34m)\u001b[0m\u001b[0;34m\u001b[0m\u001b[0m\n\u001b[0m\u001b[1;32m     80\u001b[0m         \u001b[0mtext_feature\u001b[0m \u001b[0;34m=\u001b[0m \u001b[0mself\u001b[0m\u001b[0;34m.\u001b[0m\u001b[0m_clean_text_feature\u001b[0m\u001b[0;34m(\u001b[0m\u001b[0mtext_feature\u001b[0m\u001b[0;34m)\u001b[0m\u001b[0;34m\u001b[0m\u001b[0m\n\u001b[1;32m     81\u001b[0m         \u001b[0mself\u001b[0m\u001b[0;34m.\u001b[0m\u001b[0mvectorizer\u001b[0m\u001b[0;34m.\u001b[0m\u001b[0mset_params\u001b[0m\u001b[0;34m(\u001b[0m\u001b[0;34m**\u001b[0m\u001b[0mself\u001b[0m\u001b[0;34m.\u001b[0m\u001b[0m_vectorizer_params\u001b[0m\u001b[0;34m)\u001b[0m\u001b[0;34m\u001b[0m\u001b[0m\n",
      "\u001b[0;32m/Users/michal-roz/Documents/Data_pot/datapot/datapot/transformer/text/text_transformer.py\u001b[0m in \u001b[0;36m_detect_parameters\u001b[0;34m(self, text_feature)\u001b[0m\n\u001b[1;32m     71\u001b[0m         \u001b[0;31m# TODO: Write the parameters autodetection\u001b[0m\u001b[0;34m\u001b[0m\u001b[0;34m\u001b[0m\u001b[0m\n\u001b[1;32m     72\u001b[0m         \u001b[0mself\u001b[0m\u001b[0;34m.\u001b[0m\u001b[0m_detect_number\u001b[0m \u001b[0;34m=\u001b[0m \u001b[0;36m10\u001b[0m\u001b[0;34m\u001b[0m\u001b[0m\n\u001b[0;32m---> 73\u001b[0;31m         \u001b[0mself\u001b[0m\u001b[0;34m.\u001b[0m\u001b[0m_detect_language\u001b[0m\u001b[0;34m(\u001b[0m\u001b[0mtext_feature\u001b[0m\u001b[0;34m)\u001b[0m\u001b[0;34m\u001b[0m\u001b[0m\n\u001b[0m\u001b[1;32m     74\u001b[0m         \u001b[0mself\u001b[0m\u001b[0;34m.\u001b[0m\u001b[0m_vectorizer_params\u001b[0m \u001b[0;34m=\u001b[0m \u001b[0;34m{\u001b[0m\u001b[0;34m'max_features'\u001b[0m\u001b[0;34m:\u001b[0m \u001b[0;36m5000\u001b[0m\u001b[0;34m}\u001b[0m\u001b[0;34m\u001b[0m\u001b[0m\n\u001b[1;32m     75\u001b[0m         \u001b[0mself\u001b[0m\u001b[0;34m.\u001b[0m\u001b[0m_nmf_params\u001b[0m \u001b[0;34m=\u001b[0m \u001b[0;34m{\u001b[0m\u001b[0;34m'n_components'\u001b[0m \u001b[0;34m:\u001b[0m \u001b[0;36m12\u001b[0m\u001b[0;34m,\u001b[0m \u001b[0;34m'max_iter'\u001b[0m \u001b[0;34m:\u001b[0m \u001b[0;36m200\u001b[0m\u001b[0;34m,\u001b[0m \u001b[0;34m'init'\u001b[0m \u001b[0;34m:\u001b[0m \u001b[0;34m'nndsvd'\u001b[0m\u001b[0;34m}\u001b[0m\u001b[0;34m\u001b[0m\u001b[0m\n",
      "\u001b[0;32m/Users/michal-roz/Documents/Data_pot/datapot/datapot/transformer/text/text_transformer.py\u001b[0m in \u001b[0;36m_detect_language\u001b[0;34m(self, text_feature)\u001b[0m\n\u001b[1;32m     27\u001b[0m     \u001b[0;32mdef\u001b[0m \u001b[0m_detect_language\u001b[0m\u001b[0;34m(\u001b[0m\u001b[0mself\u001b[0m\u001b[0;34m,\u001b[0m \u001b[0mtext_feature\u001b[0m\u001b[0;34m)\u001b[0m\u001b[0;34m:\u001b[0m\u001b[0;34m\u001b[0m\u001b[0m\n\u001b[1;32m     28\u001b[0m         \u001b[0;31m# TODO: Remove the iso639 dependency\u001b[0m\u001b[0;34m\u001b[0m\u001b[0;34m\u001b[0m\u001b[0m\n\u001b[0;32m---> 29\u001b[0;31m         \u001b[0miso_code\u001b[0m \u001b[0;34m=\u001b[0m \u001b[0mlangdetect\u001b[0m\u001b[0;34m.\u001b[0m\u001b[0mdetect\u001b[0m\u001b[0;34m(\u001b[0m\u001b[0;34m' '\u001b[0m\u001b[0;34m.\u001b[0m\u001b[0mjoin\u001b[0m\u001b[0;34m(\u001b[0m\u001b[0mtext_feature\u001b[0m\u001b[0;34m[\u001b[0m\u001b[0;34m:\u001b[0m\u001b[0mself\u001b[0m\u001b[0;34m.\u001b[0m\u001b[0m_detect_number\u001b[0m\u001b[0;34m]\u001b[0m\u001b[0;34m)\u001b[0m\u001b[0;34m)\u001b[0m\u001b[0;34m\u001b[0m\u001b[0m\n\u001b[0m\u001b[1;32m     30\u001b[0m         \u001b[0mself\u001b[0m\u001b[0;34m.\u001b[0m\u001b[0mlanguage\u001b[0m \u001b[0;34m=\u001b[0m \u001b[0miso639\u001b[0m\u001b[0;34m.\u001b[0m\u001b[0mlanguages\u001b[0m\u001b[0;34m.\u001b[0m\u001b[0mget\u001b[0m\u001b[0;34m(\u001b[0m\u001b[0malpha2\u001b[0m\u001b[0;34m=\u001b[0m\u001b[0miso_code\u001b[0m\u001b[0;34m)\u001b[0m\u001b[0;34m.\u001b[0m\u001b[0mname\u001b[0m\u001b[0;34m.\u001b[0m\u001b[0mlower\u001b[0m\u001b[0;34m(\u001b[0m\u001b[0;34m)\u001b[0m\u001b[0;34m\u001b[0m\u001b[0m\n\u001b[1;32m     31\u001b[0m         \u001b[0;32mif\u001b[0m \u001b[0mself\u001b[0m\u001b[0;34m.\u001b[0m\u001b[0mlanguage\u001b[0m \u001b[0;32mnot\u001b[0m \u001b[0;32min\u001b[0m \u001b[0mSnowballStemmer\u001b[0m\u001b[0;34m.\u001b[0m\u001b[0mlanguages\u001b[0m\u001b[0;34m:\u001b[0m\u001b[0;34m\u001b[0m\u001b[0m\n",
      "\u001b[0;31mTypeError\u001b[0m: sequence item 0: expected string, NoneType found"
     ]
    }
   ],
   "source": [
    "df = data.transform(f, verbose=True)\n",
    "df.head()"
   ]
  },
  {
   "cell_type": "code",
   "execution_count": 12,
   "metadata": {
    "collapsed": false
   },
   "outputs": [
    {
     "ename": "NameError",
     "evalue": "name 'df' is not defined",
     "output_type": "error",
     "traceback": [
      "\u001b[0;31m---------------------------------------------------------------------------\u001b[0m",
      "\u001b[0;31mNameError\u001b[0m                                 Traceback (most recent call last)",
      "\u001b[0;32m<ipython-input-12-163987b9f8bf>\u001b[0m in \u001b[0;36m<module>\u001b[0;34m()\u001b[0m\n\u001b[0;32m----> 1\u001b[0;31m \u001b[0mdf\u001b[0m\u001b[0;34m[\u001b[0m\u001b[0;34m'start_time_date'\u001b[0m\u001b[0;34m]\u001b[0m\u001b[0;34m.\u001b[0m\u001b[0mhead\u001b[0m\u001b[0;34m(\u001b[0m\u001b[0;34m)\u001b[0m  \u001b[0;31m# one of new features\u001b[0m\u001b[0;34m\u001b[0m\u001b[0m\n\u001b[0m",
      "\u001b[0;31mNameError\u001b[0m: name 'df' is not defined"
     ]
    }
   ],
   "source": [
    "df['start_time_date'].head()  # one of new features"
   ]
  },
  {
   "cell_type": "code",
   "execution_count": null,
   "metadata": {
    "collapsed": false
   },
   "outputs": [],
   "source": [
    "df['players.1.lh_t_sum'].head(10) # and one more"
   ]
  }
 ],
 "metadata": {
  "anaconda-cloud": {},
  "kernelspec": {
   "display_name": "Python [conda root]",
   "language": "python",
   "name": "conda-root-py"
  },
  "language_info": {
   "codemirror_mode": {
    "name": "ipython",
    "version": 2
   },
   "file_extension": ".py",
   "mimetype": "text/x-python",
   "name": "python",
   "nbconvert_exporter": "python",
   "pygments_lexer": "ipython2",
   "version": "2.7.12"
  }
 },
 "nbformat": 4,
 "nbformat_minor": 1
}
