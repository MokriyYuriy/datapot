{
 "cells": [
  {
   "cell_type": "code",
   "execution_count": 1,
   "metadata": {
    "collapsed": false
   },
   "outputs": [],
   "source": [
    "import datapot as dp"
   ]
  },
  {
   "cell_type": "code",
   "execution_count": 2,
   "metadata": {
    "collapsed": false
   },
   "outputs": [
    {
     "data": {
      "text/plain": [
       "DataPot class instance\n",
       " - number of features without transformation: 0\n",
       " - number of new features: Unknown\n",
       "features to transform: "
      ]
     },
     "execution_count": 2,
     "metadata": {},
     "output_type": "execute_result"
    }
   ],
   "source": [
    "data = dp.DataPot()\n",
    "data"
   ]
  },
  {
   "cell_type": "code",
   "execution_count": 3,
   "metadata": {
    "collapsed": true
   },
   "outputs": [],
   "source": [
    "train = open('/home/yury/MLContests/KaggleWord2Vec/data/imdbHTMLReviewsTrainData_byline.json', 'r')"
   ]
  },
  {
   "cell_type": "code",
   "execution_count": 4,
   "metadata": {
    "collapsed": false
   },
   "outputs": [
    {
     "data": {
      "text/plain": [
       "DataPot class instance\n",
       " - number of features without transformation: 3\n",
       " - number of new features: 12\n",
       "features to transform: \n",
       "\t('review', [TfidfTransformer])"
      ]
     },
     "execution_count": 4,
     "metadata": {},
     "output_type": "execute_result"
    }
   ],
   "source": [
    "data.fit(train, limit=10)\n",
    "data"
   ]
  },
  {
   "cell_type": "code",
   "execution_count": 5,
   "metadata": {
    "collapsed": false
   },
   "outputs": [
    {
     "name": "stdout",
     "output_type": "stream",
     "text": [
      "fit transformers...\n",
      "fit: ('review', [TfidfTransformer])\n",
      "english\n",
      "4.80067777633667\n",
      "fit transformers...OK\n",
      "num of new features: 14\n"
     ]
    },
    {
     "data": {
      "text/html": [
       "<div>\n",
       "<table border=\"1\" class=\"dataframe\">\n",
       "  <thead>\n",
       "    <tr style=\"text-align: right;\">\n",
       "      <th></th>\n",
       "      <th>review_0</th>\n",
       "      <th>review_1</th>\n",
       "      <th>review_2</th>\n",
       "      <th>review_3</th>\n",
       "      <th>review_4</th>\n",
       "      <th>review_5</th>\n",
       "      <th>review_6</th>\n",
       "      <th>review_7</th>\n",
       "      <th>review_8</th>\n",
       "      <th>review_9</th>\n",
       "      <th>review_10</th>\n",
       "      <th>review_11</th>\n",
       "      <th>id</th>\n",
       "      <th>sentiment</th>\n",
       "    </tr>\n",
       "  </thead>\n",
       "  <tbody>\n",
       "    <tr>\n",
       "      <th>0</th>\n",
       "      <td>0.046036</td>\n",
       "      <td>0.101835</td>\n",
       "      <td>0.066189</td>\n",
       "      <td>0.009798</td>\n",
       "      <td>0.013288</td>\n",
       "      <td>0.113444</td>\n",
       "      <td>0.000000</td>\n",
       "      <td>0.077185</td>\n",
       "      <td>0.047474</td>\n",
       "      <td>0.000000</td>\n",
       "      <td>0.000000</td>\n",
       "      <td>0.008198</td>\n",
       "      <td>5814_8</td>\n",
       "      <td>1</td>\n",
       "    </tr>\n",
       "    <tr>\n",
       "      <th>1</th>\n",
       "      <td>0.036008</td>\n",
       "      <td>0.000000</td>\n",
       "      <td>0.046331</td>\n",
       "      <td>0.000000</td>\n",
       "      <td>0.010759</td>\n",
       "      <td>0.000000</td>\n",
       "      <td>0.001916</td>\n",
       "      <td>0.000000</td>\n",
       "      <td>0.154265</td>\n",
       "      <td>0.000000</td>\n",
       "      <td>0.000000</td>\n",
       "      <td>0.000492</td>\n",
       "      <td>2381_9</td>\n",
       "      <td>1</td>\n",
       "    </tr>\n",
       "    <tr>\n",
       "      <th>2</th>\n",
       "      <td>0.035901</td>\n",
       "      <td>0.023616</td>\n",
       "      <td>0.007130</td>\n",
       "      <td>0.088697</td>\n",
       "      <td>0.000000</td>\n",
       "      <td>0.030743</td>\n",
       "      <td>0.029320</td>\n",
       "      <td>0.000000</td>\n",
       "      <td>0.003708</td>\n",
       "      <td>0.013481</td>\n",
       "      <td>0.000000</td>\n",
       "      <td>0.000000</td>\n",
       "      <td>7759_3</td>\n",
       "      <td>0</td>\n",
       "    </tr>\n",
       "    <tr>\n",
       "      <th>3</th>\n",
       "      <td>0.056496</td>\n",
       "      <td>0.055748</td>\n",
       "      <td>0.000000</td>\n",
       "      <td>0.000000</td>\n",
       "      <td>0.000000</td>\n",
       "      <td>0.000000</td>\n",
       "      <td>0.000000</td>\n",
       "      <td>0.047296</td>\n",
       "      <td>0.131590</td>\n",
       "      <td>0.001100</td>\n",
       "      <td>0.031625</td>\n",
       "      <td>0.000000</td>\n",
       "      <td>3630_4</td>\n",
       "      <td>0</td>\n",
       "    </tr>\n",
       "    <tr>\n",
       "      <th>4</th>\n",
       "      <td>0.016037</td>\n",
       "      <td>0.000000</td>\n",
       "      <td>0.008192</td>\n",
       "      <td>0.083205</td>\n",
       "      <td>0.008744</td>\n",
       "      <td>0.021260</td>\n",
       "      <td>0.000000</td>\n",
       "      <td>0.014160</td>\n",
       "      <td>0.024872</td>\n",
       "      <td>0.032479</td>\n",
       "      <td>0.037310</td>\n",
       "      <td>0.001896</td>\n",
       "      <td>9495_8</td>\n",
       "      <td>1</td>\n",
       "    </tr>\n",
       "  </tbody>\n",
       "</table>\n",
       "</div>"
      ],
      "text/plain": [
       "   review_0  review_1  review_2  review_3  review_4  review_5  review_6  \\\n",
       "0  0.046036  0.101835  0.066189  0.009798  0.013288  0.113444  0.000000   \n",
       "1  0.036008  0.000000  0.046331  0.000000  0.010759  0.000000  0.001916   \n",
       "2  0.035901  0.023616  0.007130  0.088697  0.000000  0.030743  0.029320   \n",
       "3  0.056496  0.055748  0.000000  0.000000  0.000000  0.000000  0.000000   \n",
       "4  0.016037  0.000000  0.008192  0.083205  0.008744  0.021260  0.000000   \n",
       "\n",
       "   review_7  review_8  review_9  review_10  review_11      id  sentiment  \n",
       "0  0.077185  0.047474  0.000000   0.000000   0.008198  5814_8          1  \n",
       "1  0.000000  0.154265  0.000000   0.000000   0.000492  2381_9          1  \n",
       "2  0.000000  0.003708  0.013481   0.000000   0.000000  7759_3          0  \n",
       "3  0.047296  0.131590  0.001100   0.031625   0.000000  3630_4          0  \n",
       "4  0.014160  0.024872  0.032479   0.037310   0.001896  9495_8          1  "
      ]
     },
     "execution_count": 5,
     "metadata": {},
     "output_type": "execute_result"
    }
   ],
   "source": [
    "df = data.transform(train, verbose=True)\n",
    "df.head()"
   ]
  }
 ],
 "metadata": {
  "anaconda-cloud": {},
  "kernelspec": {
   "display_name": "Python [default]",
   "language": "python",
   "name": "python3"
  },
  "language_info": {
   "codemirror_mode": {
    "name": "ipython",
    "version": 3
   },
   "file_extension": ".py",
   "mimetype": "text/x-python",
   "name": "python",
   "nbconvert_exporter": "python",
   "pygments_lexer": "ipython3",
   "version": "3.5.2"
  }
 },
 "nbformat": 4,
 "nbformat_minor": 1
}
