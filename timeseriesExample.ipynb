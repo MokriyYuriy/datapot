{
 "cells": [
  {
   "cell_type": "code",
   "execution_count": 1,
   "metadata": {
    "collapsed": false
   },
   "outputs": [],
   "source": [
    "import datapot as dp"
   ]
  },
  {
   "cell_type": "code",
   "execution_count": 2,
   "metadata": {
    "collapsed": true
   },
   "outputs": [],
   "source": [
    "f = open(\"research/nikita/temp.json\", 'r')"
   ]
  },
  {
   "cell_type": "code",
   "execution_count": 3,
   "metadata": {
    "collapsed": false
   },
   "outputs": [
    {
     "name": "stdout",
     "output_type": "stream",
     "text": [
      "fit transformers...\n",
      "fit: ('amount', [TimeSeriesTransfomer...])\n",
      "fit transformers...OK\n",
      "num of new features: 7\n"
     ]
    },
    {
     "data": {
      "text/html": [
       "<div>\n",
       "<table border=\"1\" class=\"dataframe\">\n",
       "  <thead>\n",
       "    <tr style=\"text-align: right;\">\n",
       "      <th></th>\n",
       "      <th>amount_ts_abs_energy</th>\n",
       "      <th>amount_ts_kurtosis</th>\n",
       "      <th>amount_ts_mean_abs_change</th>\n",
       "      <th>amount_ts_mean_autocorrelation</th>\n",
       "      <th>amount_ts_skewness</th>\n",
       "      <th>amount_ts_count_above_mean</th>\n",
       "      <th>amount_ts_count_below_mean</th>\n",
       "    </tr>\n",
       "  </thead>\n",
       "  <tbody>\n",
       "    <tr>\n",
       "      <th>0</th>\n",
       "      <td>1.976004e+13</td>\n",
       "      <td>118.008499</td>\n",
       "      <td>79461.339508</td>\n",
       "      <td>-0.165361</td>\n",
       "      <td>-5.983183</td>\n",
       "      <td>0.771930</td>\n",
       "      <td>0.228070</td>\n",
       "    </tr>\n",
       "    <tr>\n",
       "      <th>1</th>\n",
       "      <td>1.167208e+12</td>\n",
       "      <td>11.142958</td>\n",
       "      <td>38000.909872</td>\n",
       "      <td>-0.129866</td>\n",
       "      <td>0.612538</td>\n",
       "      <td>0.616088</td>\n",
       "      <td>0.383912</td>\n",
       "    </tr>\n",
       "    <tr>\n",
       "      <th>2</th>\n",
       "      <td>2.867708e+12</td>\n",
       "      <td>92.444501</td>\n",
       "      <td>42275.103581</td>\n",
       "      <td>-0.055158</td>\n",
       "      <td>0.411059</td>\n",
       "      <td>0.586957</td>\n",
       "      <td>0.413043</td>\n",
       "    </tr>\n",
       "    <tr>\n",
       "      <th>3</th>\n",
       "      <td>7.360691e+11</td>\n",
       "      <td>137.793679</td>\n",
       "      <td>23013.684950</td>\n",
       "      <td>0.125705</td>\n",
       "      <td>-9.354482</td>\n",
       "      <td>0.730263</td>\n",
       "      <td>0.269737</td>\n",
       "    </tr>\n",
       "    <tr>\n",
       "      <th>4</th>\n",
       "      <td>4.515830e+12</td>\n",
       "      <td>62.641479</td>\n",
       "      <td>31050.603569</td>\n",
       "      <td>0.159684</td>\n",
       "      <td>-6.139846</td>\n",
       "      <td>0.800191</td>\n",
       "      <td>0.199809</td>\n",
       "    </tr>\n",
       "    <tr>\n",
       "      <th>5</th>\n",
       "      <td>8.913560e+13</td>\n",
       "      <td>15.652766</td>\n",
       "      <td>189734.686662</td>\n",
       "      <td>0.238824</td>\n",
       "      <td>-0.890239</td>\n",
       "      <td>0.818182</td>\n",
       "      <td>0.181818</td>\n",
       "    </tr>\n",
       "    <tr>\n",
       "      <th>6</th>\n",
       "      <td>5.255580e+12</td>\n",
       "      <td>57.599153</td>\n",
       "      <td>42125.199511</td>\n",
       "      <td>-0.252967</td>\n",
       "      <td>0.329464</td>\n",
       "      <td>0.577362</td>\n",
       "      <td>0.422638</td>\n",
       "    </tr>\n",
       "    <tr>\n",
       "      <th>7</th>\n",
       "      <td>1.485271e+12</td>\n",
       "      <td>13.611908</td>\n",
       "      <td>78987.657023</td>\n",
       "      <td>0.195860</td>\n",
       "      <td>-3.175775</td>\n",
       "      <td>0.643939</td>\n",
       "      <td>0.356061</td>\n",
       "    </tr>\n",
       "  </tbody>\n",
       "</table>\n",
       "</div>"
      ],
      "text/plain": [
       "   amount_ts_abs_energy  amount_ts_kurtosis  amount_ts_mean_abs_change  \\\n",
       "0          1.976004e+13          118.008499               79461.339508   \n",
       "1          1.167208e+12           11.142958               38000.909872   \n",
       "2          2.867708e+12           92.444501               42275.103581   \n",
       "3          7.360691e+11          137.793679               23013.684950   \n",
       "4          4.515830e+12           62.641479               31050.603569   \n",
       "5          8.913560e+13           15.652766              189734.686662   \n",
       "6          5.255580e+12           57.599153               42125.199511   \n",
       "7          1.485271e+12           13.611908               78987.657023   \n",
       "\n",
       "   amount_ts_mean_autocorrelation  amount_ts_skewness  \\\n",
       "0                       -0.165361           -5.983183   \n",
       "1                       -0.129866            0.612538   \n",
       "2                       -0.055158            0.411059   \n",
       "3                        0.125705           -9.354482   \n",
       "4                        0.159684           -6.139846   \n",
       "5                        0.238824           -0.890239   \n",
       "6                       -0.252967            0.329464   \n",
       "7                        0.195860           -3.175775   \n",
       "\n",
       "   amount_ts_count_above_mean  amount_ts_count_below_mean  \n",
       "0                    0.771930                    0.228070  \n",
       "1                    0.616088                    0.383912  \n",
       "2                    0.586957                    0.413043  \n",
       "3                    0.730263                    0.269737  \n",
       "4                    0.800191                    0.199809  \n",
       "5                    0.818182                    0.181818  \n",
       "6                    0.577362                    0.422638  \n",
       "7                    0.643939                    0.356061  "
      ]
     },
     "execution_count": 3,
     "metadata": {},
     "output_type": "execute_result"
    }
   ],
   "source": [
    "data = dp.DataPot()\n",
    "data.fit(f, limit=10)\n",
    "df = data.transform(f, verbose=True)\n",
    "df.head(n=10)"
   ]
  },
  {
   "cell_type": "code",
   "execution_count": null,
   "metadata": {
    "collapsed": true
   },
   "outputs": [],
   "source": []
  }
 ],
 "metadata": {
  "anaconda-cloud": {},
  "kernelspec": {
   "display_name": "Python [conda root]",
   "language": "python",
   "name": "conda-root-py"
  },
  "language_info": {
   "codemirror_mode": {
    "name": "ipython",
    "version": 3
   },
   "file_extension": ".py",
   "mimetype": "text/x-python",
   "name": "python",
   "nbconvert_exporter": "python",
   "pygments_lexer": "ipython3",
   "version": "3.5.2"
  }
 },
 "nbformat": 4,
 "nbformat_minor": 1
}
