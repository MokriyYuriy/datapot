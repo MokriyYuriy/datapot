{
 "cells": [
  {
   "cell_type": "markdown",
   "metadata": {},
   "source": [
    "# Экстракторы для даты/времени"
   ]
  },
  {
   "cell_type": "raw",
   "metadata": {},
   "source": [
    "Feature extractors для полей вида:\n",
    "- \"2015-12-01 07:40\"\n",
    "- \"Jan, 1 2017\"\n",
    "- \"Feb 28, 2016 5pm\"\n",
    "- 1484673907\n",
    "- 1484673907.123\n",
    "- 1484673907123\n",
    "\n",
    "Парсить строчки с датой в странном формате можно при помощи dateutil.\n",
    "\n",
    "Пример признаков, которые можно получить из даты/времени:\n",
    "- unixtime\n",
    "- день недели\n",
    "- время суток\n",
    "- день в месяце\n",
    "- минута в текущем часе\n",
    "- ..."
   ]
  },
  {
   "cell_type": "code",
   "execution_count": 1,
   "metadata": {
    "collapsed": true
   },
   "outputs": [],
   "source": [
    "# ALL USED LIBs:\n",
    "from datetime import *\n",
    "from dateutil.parser import *\n",
    "from time import mktime"
   ]
  },
  {
   "cell_type": "code",
   "execution_count": 2,
   "metadata": {
    "collapsed": true
   },
   "outputs": [],
   "source": [
    "import dateutil"
   ]
  },
  {
   "cell_type": "code",
   "execution_count": 3,
   "metadata": {
    "collapsed": true
   },
   "outputs": [],
   "source": [
    "from datetime import *"
   ]
  },
  {
   "cell_type": "code",
   "execution_count": 4,
   "metadata": {
    "collapsed": true
   },
   "outputs": [],
   "source": [
    "from dateutil.parser import *"
   ]
  },
  {
   "cell_type": "code",
   "execution_count": 5,
   "metadata": {
    "collapsed": true
   },
   "outputs": [],
   "source": [
    "now = parse(\"Sat Oct 11 17:13:46 UTC 2003\")\n",
    "today = now.date()"
   ]
  },
  {
   "cell_type": "code",
   "execution_count": 6,
   "metadata": {
    "collapsed": false
   },
   "outputs": [
    {
     "data": {
      "text/plain": [
       "datetime.datetime(2003, 10, 11, 17, 13, 46, tzinfo=tzutc())"
      ]
     },
     "execution_count": 6,
     "metadata": {},
     "output_type": "execute_result"
    }
   ],
   "source": [
    "now"
   ]
  },
  {
   "cell_type": "code",
   "execution_count": 7,
   "metadata": {
    "collapsed": false
   },
   "outputs": [
    {
     "data": {
      "text/plain": [
       "datetime.date(2003, 10, 11)"
      ]
     },
     "execution_count": 7,
     "metadata": {},
     "output_type": "execute_result"
    }
   ],
   "source": [
    "today"
   ]
  },
  {
   "cell_type": "code",
   "execution_count": 8,
   "metadata": {
    "collapsed": true
   },
   "outputs": [],
   "source": [
    "dates = [\"2015-12-01 07:40\",\n",
    "         \"Jan, 1 2017\",\n",
    "         \"Feb 28, 2016 5pm\"]\n",
    "dates_nums = [1484673907, 1484673907.123, 1484673907123]\n",
    "# last tipe???"
   ]
  },
  {
   "cell_type": "code",
   "execution_count": 9,
   "metadata": {
    "collapsed": false
   },
   "outputs": [
    {
     "data": {
      "text/plain": [
       "[datetime.datetime(2015, 12, 1, 7, 40),\n",
       " datetime.datetime(2017, 1, 1, 0, 0),\n",
       " datetime.datetime(2016, 2, 28, 17, 0)]"
      ]
     },
     "execution_count": 9,
     "metadata": {},
     "output_type": "execute_result"
    }
   ],
   "source": [
    "[parse(d) for d in dates]"
   ]
  },
  {
   "cell_type": "code",
   "execution_count": 10,
   "metadata": {
    "collapsed": false
   },
   "outputs": [
    {
     "data": {
      "text/plain": [
       "[datetime.datetime(2017, 1, 17, 20, 25, 7),\n",
       " datetime.datetime(2017, 1, 17, 20, 25, 7, 123000)]"
      ]
     },
     "execution_count": 10,
     "metadata": {},
     "output_type": "execute_result"
    }
   ],
   "source": [
    "#[parse(str(d)) for d in dates_nums]\n",
    "\n",
    "datetime.fromtimestamp(dates_nums[0])\n",
    "# datetime.fromtimestamp(dates_nums[2])\n",
    "[datetime.fromtimestamp(d) for d in dates_nums[:-1]]"
   ]
  },
  {
   "cell_type": "code",
   "execution_count": 11,
   "metadata": {
    "collapsed": false
   },
   "outputs": [
    {
     "name": "stdout",
     "output_type": "stream",
     "text": [
      "[1484673907, 1484673907.123, 1484673907123]\n",
      "2017-01-17 20:25:07\n",
      "2017-01-17 20:25:07.123000\n"
     ]
    },
    {
     "ename": "ValueError",
     "evalue": "year is out of range",
     "output_type": "error",
     "traceback": [
      "\u001b[0;31m---------------------------------------------------------------------------\u001b[0m",
      "\u001b[0;31mValueError\u001b[0m                                Traceback (most recent call last)",
      "\u001b[0;32m<ipython-input-11-94843729e178>\u001b[0m in \u001b[0;36m<module>\u001b[0;34m()\u001b[0m\n\u001b[1;32m      3\u001b[0m \u001b[0;32mfor\u001b[0m \u001b[0md\u001b[0m \u001b[0;32min\u001b[0m \u001b[0mdates_nums\u001b[0m\u001b[0;34m:\u001b[0m\u001b[0;34m\u001b[0m\u001b[0m\n\u001b[1;32m      4\u001b[0m     \u001b[0;32mif\u001b[0m \u001b[0misinstance\u001b[0m\u001b[0;34m(\u001b[0m\u001b[0md\u001b[0m\u001b[0;34m,\u001b[0m \u001b[0mfloat\u001b[0m\u001b[0;34m)\u001b[0m \u001b[0;32mor\u001b[0m \u001b[0misinstance\u001b[0m\u001b[0;34m(\u001b[0m\u001b[0md\u001b[0m\u001b[0;34m,\u001b[0m \u001b[0mint\u001b[0m\u001b[0;34m)\u001b[0m\u001b[0;34m:\u001b[0m  \u001b[0;31m# 1484673907123 ?\u001b[0m\u001b[0;34m\u001b[0m\u001b[0m\n\u001b[0;32m----> 5\u001b[0;31m         \u001b[0mdate\u001b[0m \u001b[0;34m=\u001b[0m \u001b[0mdatetime\u001b[0m\u001b[0;34m.\u001b[0m\u001b[0mfromtimestamp\u001b[0m\u001b[0;34m(\u001b[0m\u001b[0md\u001b[0m\u001b[0;34m)\u001b[0m\u001b[0;34m\u001b[0m\u001b[0m\n\u001b[0m\u001b[1;32m      6\u001b[0m     \u001b[0;32mif\u001b[0m \u001b[0misinstance\u001b[0m\u001b[0;34m(\u001b[0m\u001b[0md\u001b[0m\u001b[0;34m,\u001b[0m \u001b[0mstr\u001b[0m\u001b[0;34m)\u001b[0m\u001b[0;34m:\u001b[0m\u001b[0;34m\u001b[0m\u001b[0m\n\u001b[1;32m      7\u001b[0m         \u001b[0mdate\u001b[0m \u001b[0;34m=\u001b[0m \u001b[0mparse\u001b[0m\u001b[0;34m(\u001b[0m\u001b[0md\u001b[0m\u001b[0;34m)\u001b[0m\u001b[0;34m\u001b[0m\u001b[0m\n",
      "\u001b[0;31mValueError\u001b[0m: year is out of range"
     ]
    }
   ],
   "source": [
    "print dates_nums\n",
    "\n",
    "for d in dates_nums:\n",
    "    if isinstance(d, float) or isinstance(d, int):  # 1484673907123 ?\n",
    "        date = datetime.fromtimestamp(d)\n",
    "    if isinstance(d, str):\n",
    "        date = parse(d)\n",
    "    print date"
   ]
  },
  {
   "cell_type": "code",
   "execution_count": 12,
   "metadata": {
    "collapsed": false
   },
   "outputs": [
    {
     "data": {
      "text/plain": [
       "True"
      ]
     },
     "execution_count": 12,
     "metadata": {},
     "output_type": "execute_result"
    }
   ],
   "source": [
    "isinstance(1484673907, int)"
   ]
  },
  {
   "cell_type": "code",
   "execution_count": 13,
   "metadata": {
    "collapsed": false
   },
   "outputs": [
    {
     "name": "stdout",
     "output_type": "stream",
     "text": [
      "['2015-12-01 07:40', 'Jan, 1 2017', 'Feb 28, 2016 5pm']\n",
      "2015-12-01 07:40:00\n",
      "2017-01-01 00:00:00\n",
      "2016-02-28 17:00:00\n"
     ]
    }
   ],
   "source": [
    "print dates\n",
    "\n",
    "for d in dates:\n",
    "    if isinstance(d, float):\n",
    "        date = datetime.fromtimestamp(d)\n",
    "    if isinstance(d, str):\n",
    "        date = parse(d)\n",
    "    print date"
   ]
  },
  {
   "cell_type": "markdown",
   "metadata": {},
   "source": [
    "### Validate"
   ]
  },
  {
   "cell_type": "code",
   "execution_count": 14,
   "metadata": {
    "collapsed": false
   },
   "outputs": [],
   "source": [
    "def validate(self, field, value):\n",
    "    try:\n",
    "        if isinstance(value, float) or isinstance(value, int):  # 1484673907123 ?\n",
    "            date = datetime.fromtimestamp(value)\n",
    "        if isinstance(value, str):\n",
    "            date = parse(value)\n",
    "        # self.confidence = min(self.confidence + 0.1, 1)\n",
    "        return True, date\n",
    "    except:\n",
    "        # self.confidence = max(self.confidence - 0.1, 0)\n",
    "        return False"
   ]
  },
  {
   "cell_type": "code",
   "execution_count": 15,
   "metadata": {
    "collapsed": false
   },
   "outputs": [
    {
     "name": "stdout",
     "output_type": "stream",
     "text": [
      "['2015-12-01 07:40', 'Jan, 1 2017', 'Feb 28, 2016 5pm'] :\n",
      "[(True, datetime.datetime(2015, 12, 1, 7, 40)), (True, datetime.datetime(2017, 1, 1, 0, 0)), (True, datetime.datetime(2016, 2, 28, 17, 0))]\n",
      "[1484673907, 1484673907.123, 1484673907123] :\n",
      "[(True, datetime.datetime(2017, 1, 17, 20, 25, 7)), (True, datetime.datetime(2017, 1, 17, 20, 25, 7, 123000)), False]\n",
      "[(True, datetime.datetime(2004, 1, 23, 0, 0)), False, (True, datetime.datetime(2017, 12, 2, 0, 0)), (True, datetime.datetime(2017, 5, 25, 0, 0))]\n"
     ]
    }
   ],
   "source": [
    "self = field = \"\"\n",
    "\n",
    "print dates,\":\\n\", [validate(self, field, value) for value in dates]\n",
    "print dates_nums,\":\\n\", [validate(self, field, value) for value in dates_nums]\n",
    "print [validate(self, field, value) for value in ['1-23-4', '12345', '12-2', 'May']]"
   ]
  },
  {
   "cell_type": "markdown",
   "metadata": {},
   "source": [
    "### Новые признаки"
   ]
  },
  {
   "cell_type": "raw",
   "metadata": {},
   "source": [
    "# Пример признаков, которые можно получить из даты/времени:\n",
    "- unixtime\n",
    "- день недели\n",
    "- время суток\n",
    "- минута в текущем часе\n",
    "- день в месяце\n",
    "- ..."
   ]
  },
  {
   "cell_type": "code",
   "execution_count": 16,
   "metadata": {
    "collapsed": false
   },
   "outputs": [
    {
     "data": {
      "text/plain": [
       "datetime.datetime(2016, 2, 28, 17, 0)"
      ]
     },
     "execution_count": 16,
     "metadata": {},
     "output_type": "execute_result"
    }
   ],
   "source": [
    "date"
   ]
  },
  {
   "cell_type": "markdown",
   "metadata": {},
   "source": [
    "#### unix time"
   ]
  },
  {
   "cell_type": "code",
   "execution_count": 17,
   "metadata": {
    "collapsed": false
   },
   "outputs": [
    {
     "data": {
      "text/plain": [
       "1456668000.0"
      ]
     },
     "execution_count": 17,
     "metadata": {},
     "output_type": "execute_result"
    }
   ],
   "source": [
    "from time import mktime\n",
    "\n",
    "unixtime = mktime(date.timetuple())\n",
    "unixtime"
   ]
  },
  {
   "cell_type": "markdown",
   "metadata": {},
   "source": [
    "#### week day"
   ]
  },
  {
   "cell_type": "code",
   "execution_count": 18,
   "metadata": {
    "collapsed": false
   },
   "outputs": [
    {
     "data": {
      "text/plain": [
       "2"
      ]
     },
     "execution_count": 18,
     "metadata": {},
     "output_type": "execute_result"
    }
   ],
   "source": [
    "date.today().weekday()"
   ]
  },
  {
   "cell_type": "markdown",
   "metadata": {},
   "source": [
    "#### time - hour, minute"
   ]
  },
  {
   "cell_type": "code",
   "execution_count": 19,
   "metadata": {
    "collapsed": false
   },
   "outputs": [
    {
     "name": "stdout",
     "output_type": "stream",
     "text": [
      "17:00:00 17 0\n"
     ]
    }
   ],
   "source": [
    "print date.time(), date.hour, date.minute"
   ]
  },
  {
   "cell_type": "markdown",
   "metadata": {},
   "source": [
    "#### month day"
   ]
  },
  {
   "cell_type": "code",
   "execution_count": 20,
   "metadata": {
    "collapsed": false
   },
   "outputs": [
    {
     "data": {
      "text/plain": [
       "28"
      ]
     },
     "execution_count": 20,
     "metadata": {},
     "output_type": "execute_result"
    }
   ],
   "source": [
    "date.day"
   ]
  },
  {
   "cell_type": "code",
   "execution_count": null,
   "metadata": {
    "collapsed": true
   },
   "outputs": [],
   "source": []
  },
  {
   "cell_type": "markdown",
   "metadata": {},
   "source": [
    "## Transform"
   ]
  },
  {
   "cell_type": "code",
   "execution_count": 21,
   "metadata": {
    "collapsed": true
   },
   "outputs": [],
   "source": [
    "new_features = ['unixtime', 'week_day', 'month_day', 'hour', 'minute']  # TODO: add features (is_holliday, is_weekend)\n",
    "\n",
    "def transform(self, value):\n",
    "    new_features = ['unixtime', 'week_day', 'month_day', 'hour', 'minute']  # TODO: add features (is_holliday, is_weekend)\n",
    "\n",
    "    try:\n",
    "        if isinstance(value, float) or isinstance(value, int):\n",
    "            date = datetime.fromtimestamp(value)\n",
    "        if isinstance(value, str):\n",
    "            date = parse(value)\n",
    "\n",
    "        new_features_values = dict()\n",
    "        new_features_values['unixtime'] = mktime(date.timetuple())\n",
    "        new_features_values['week_day'] = date.today().weekday()\n",
    "        new_features_values['month_day'] = date.day\n",
    "        new_features_values['hour'] = date.hour\n",
    "        new_features_values['minute'] = date.minute\n",
    "\n",
    "        return [new_features_values[feature] for feature in new_features]\n",
    "    except:\n",
    "        return [None for feature in new_features]\n",
    "    \n",
    "\n",
    "\n",
    "# def transform(self, value):\n",
    "#     \"\"\"\n",
    "#     Each value is transformed to  new_features:\n",
    "#         ['unixtime', 'week_day', 'month_day', 'hour', 'minute']\n",
    "#     # TODO: add features (is_holliday, is_weekend)\n",
    "#     :param value: value to transform\n",
    "#     :return list of generated values\n",
    "#     \"\"\"\n",
    "\n",
    "#     try:\n",
    "#         if isinstance(value, float) or isinstance(value, int):\n",
    "#             date = datetime.fromtimestamp(value)\n",
    "#         if isinstance(value, str):\n",
    "#             date = parse(value)\n",
    "\n",
    "#         new_features_values = dict()\n",
    "#         new_features_values['unixtime'] = mktime(date.timetuple())\n",
    "#         new_features_values['week_day'] = date.today().weekday()\n",
    "#         new_features_values['month_day'] = date.day\n",
    "#         new_features_values['hour'] = date.hour\n",
    "#         new_features_values['minute'] = date.minute\n",
    "\n",
    "#         return [new_features_values[feature] for feature in self.new_features]\n",
    "#     except:\n",
    "#         return [None for feature in self.new_features]\n"
   ]
  },
  {
   "cell_type": "code",
   "execution_count": 26,
   "metadata": {
    "collapsed": false
   },
   "outputs": [
    {
     "data": {
      "text/plain": [
       "[1448944800.0, 2, 1, 7, 40]"
      ]
     },
     "execution_count": 26,
     "metadata": {},
     "output_type": "execute_result"
    }
   ],
   "source": [
    "# value = '2015-12-01 07:40'\n",
    "\n",
    "transform('self', value)"
   ]
  },
  {
   "cell_type": "code",
   "execution_count": 27,
   "metadata": {
    "collapsed": false
   },
   "outputs": [
    {
     "data": {
      "text/plain": [
       "[1448944800.0, 2, 1, 7, 40]"
      ]
     },
     "execution_count": 27,
     "metadata": {},
     "output_type": "execute_result"
    }
   ],
   "source": [
    "value = '2015-12-01 07:40'\n",
    "transform(self, value)"
   ]
  },
  {
   "cell_type": "code",
   "execution_count": 28,
   "metadata": {
    "collapsed": false
   },
   "outputs": [
    {
     "data": {
      "text/plain": [
       "[None, None, None, None, None]"
      ]
     },
     "execution_count": 28,
     "metadata": {},
     "output_type": "execute_result"
    }
   ],
   "source": [
    "value = 'bad input'\n",
    "transform(self, value)"
   ]
  },
  {
   "cell_type": "code",
   "execution_count": null,
   "metadata": {
    "collapsed": true
   },
   "outputs": [],
   "source": []
  },
  {
   "cell_type": "markdown",
   "metadata": {},
   "source": [
    "#### Data"
   ]
  },
  {
   "cell_type": "code",
   "execution_count": 29,
   "metadata": {
    "collapsed": false
   },
   "outputs": [],
   "source": [
    "# # import datapot as dp\n",
    "# #f = bz2.BZ2File('data/matches_test.jsonlines.bz2') \n",
    "# import pandas as pd\n",
    "# features = pd.read_csv('./features.csv', index_col='match_id')\n",
    "import pandas as pd\n",
    "import json\n",
    "with open(\"/Users/michal-roz/Documents/Data_pot/datapot/data/pations_info_no_expr_2.json\") as ftr:\n",
    "    pations_info = json.load(ftr)\n",
    "data = pd.DataFrame(pations_info)"
   ]
  },
  {
   "cell_type": "code",
   "execution_count": 30,
   "metadata": {
    "collapsed": false
   },
   "outputs": [
    {
     "data": {
      "text/html": [
       "<div>\n",
       "<table border=\"1\" class=\"dataframe\">\n",
       "  <thead>\n",
       "    <tr style=\"text-align: right;\">\n",
       "      <th></th>\n",
       "      <th>case_id</th>\n",
       "      <th>gender</th>\n",
       "      <th>race</th>\n",
       "      <th>tumor_stage</th>\n",
       "      <th>updated_datetime</th>\n",
       "      <th>year_of_birth</th>\n",
       "    </tr>\n",
       "  </thead>\n",
       "  <tbody>\n",
       "    <tr>\n",
       "      <th>0</th>\n",
       "      <td>f2622cdb-ac92-42b3-a1ca-67e133c3dd4a</td>\n",
       "      <td>female</td>\n",
       "      <td>white</td>\n",
       "      <td>stage iib</td>\n",
       "      <td>2016-09-02T19:00:47.524064-05:00</td>\n",
       "      <td>1943</td>\n",
       "    </tr>\n",
       "    <tr>\n",
       "      <th>1</th>\n",
       "      <td>8c51bbcb-7c8d-47ad-9193-70ca157c6900</td>\n",
       "      <td>female</td>\n",
       "      <td>white</td>\n",
       "      <td>stage iiia</td>\n",
       "      <td>2016-09-02T19:08:27.441088-05:00</td>\n",
       "      <td>1955</td>\n",
       "    </tr>\n",
       "  </tbody>\n",
       "</table>\n",
       "</div>"
      ],
      "text/plain": [
       "                                case_id  gender   race tumor_stage  \\\n",
       "0  f2622cdb-ac92-42b3-a1ca-67e133c3dd4a  female  white   stage iib   \n",
       "1  8c51bbcb-7c8d-47ad-9193-70ca157c6900  female  white  stage iiia   \n",
       "\n",
       "                   updated_datetime  year_of_birth  \n",
       "0  2016-09-02T19:00:47.524064-05:00           1943  \n",
       "1  2016-09-02T19:08:27.441088-05:00           1955  "
      ]
     },
     "execution_count": 30,
     "metadata": {},
     "output_type": "execute_result"
    }
   ],
   "source": [
    "data"
   ]
  },
  {
   "cell_type": "code",
   "execution_count": 31,
   "metadata": {
    "collapsed": false
   },
   "outputs": [
    {
     "data": {
      "text/plain": [
       "0    2016-09-02T19:00:47.524064-05:00\n",
       "1    2016-09-02T19:08:27.441088-05:00\n",
       "Name: updated_datetime, dtype: object"
      ]
     },
     "execution_count": 31,
     "metadata": {},
     "output_type": "execute_result"
    }
   ],
   "source": [
    "data['updated_datetime']"
   ]
  },
  {
   "cell_type": "code",
   "execution_count": 34,
   "metadata": {
    "collapsed": false
   },
   "outputs": [
    {
     "ename": "SyntaxError",
     "evalue": "invalid syntax (<ipython-input-34-f23287027101>, line 1)",
     "output_type": "error",
     "traceback": [
      "\u001b[0;36m  File \u001b[0;32m\"<ipython-input-34-f23287027101>\"\u001b[0;36m, line \u001b[0;32m1\u001b[0m\n\u001b[0;31m    pass(data['updated_datetime'][0])\u001b[0m\n\u001b[0m        ^\u001b[0m\n\u001b[0;31mSyntaxError\u001b[0m\u001b[0;31m:\u001b[0m invalid syntax\n"
     ]
    }
   ],
   "source": [
    "pass(data['updated_datetime'][0])"
   ]
  },
  {
   "cell_type": "code",
   "execution_count": 33,
   "metadata": {
    "collapsed": false
   },
   "outputs": [
    {
     "data": {
      "text/plain": [
       "[None, None, None, None, None]"
      ]
     },
     "execution_count": 33,
     "metadata": {},
     "output_type": "execute_result"
    }
   ],
   "source": [
    "transform(self, data['updated_datetime'][1])"
   ]
  },
  {
   "cell_type": "markdown",
   "metadata": {},
   "source": [
    "## Fit"
   ]
  },
  {
   "cell_type": "code",
   "execution_count": null,
   "metadata": {
    "collapsed": true
   },
   "outputs": [],
   "source": [
    "pations_info_120.json"
   ]
  },
  {
   "cell_type": "code",
   "execution_count": null,
   "metadata": {
    "collapsed": true
   },
   "outputs": [],
   "source": [
    "# def fit(self, all_values):\n",
    "#     \"\"\"\n",
    "#     Each value is transformed independently.\n",
    "#     Fit is not required.\n",
    "#     \"\"\"\n",
    "#     pass\n",
    "\n",
    "new_features = ['unixtime', 'week_day', 'month_day', 'hour', 'minute']  # TODO: add features (is_holliday, is_weekend)\n",
    "\n",
    "def fit(self, all_values):\n",
    "    \"\"\"\n",
    "    Check which of the new featurers will not be empty\n",
    "    \"\"\"\n",
    "    for value in all_values:\n",
    "        try:\n",
    "            if isinstance(value, float) or isinstance(value, int):\n",
    "                date = datetime.fromtimestamp(value)\n",
    "            if isinstance(value, str):\n",
    "                date = parse(value)\n",
    "\n",
    "            new_features_values = dict()\n",
    "            new_features_values['unixtime'] = mktime(date.timetuple())\n",
    "            new_features_values['week_day'] = date.today().weekday()\n",
    "            new_features_values['month_day'] = date.day\n",
    "            new_features_values['hour'] = date.hour\n",
    "            new_features_values['minute'] = date.minute\n",
    "\n",
    "            return [new_features_values[feature] for feature in self.new_features]\n",
    "        except:\n",
    "            return [None for feature in self.new_features]\n",
    "    \n",
    "\n",
    "\n",
    "def transform(self, value):\n",
    "    \"\"\"\n",
    "    Each value is transformed to  new_features:\n",
    "        ['unixtime', 'week_day', 'month_day', 'hour', 'minute']\n",
    "    # TODO: add features (is_holliday, is_weekend)\n",
    "    :param value: value to transform\n",
    "    :return list of generated values\n",
    "    \"\"\"\n",
    "\n",
    "    try:\n",
    "        if isinstance(value, float) or isinstance(value, int):\n",
    "            date = datetime.fromtimestamp(value)\n",
    "        if isinstance(value, str):\n",
    "            date = parse(value)\n",
    "\n",
    "        new_features_values = dict()\n",
    "        new_features_values['unixtime'] = mktime(date.timetuple())\n",
    "        new_features_values['week_day'] = date.today().weekday()\n",
    "        new_features_values['month_day'] = date.day\n",
    "        new_features_values['hour'] = date.hour\n",
    "        new_features_values['minute'] = date.minute\n",
    "\n",
    "        return [new_features_values[feature] for feature in self.new_features]\n",
    "    except:\n",
    "        return [None for feature in self.new_features]\n",
    "\n",
    "\n",
    "\n",
    "def fit(self, value):\n",
    "    # TODO: what if value is not hashable\n",
    "    self.features = dict()\n",
    "    self.apply_dimension_reduction = False\n",
    "\n",
    "    for x in value:\n",
    "        if x not in self.features:\n",
    "            self.features[x] = len(self.features)\n",
    "\n",
    "    if len(self.features) <= CATEGORICAL_MAX_SIZE:\n",
    "        self.one_hot_encoder = sklearn.preprocessing.OneHotEncoder(sparse=False,\n",
    "                                                                   handle_unknown='ignore')\n",
    "        self._n_components = len(self.features)\n",
    "    else:\n",
    "        self.apply_dimension_reduction = True\n",
    "        self.one_hot_encoder = sklearn.preprocessing.OneHotEncoder(sparse=True,\n",
    "                                                                   handle_unknown='ignore')\n",
    "        self._n_components = 10\n",
    "\n",
    "    self.one_hot_encoder.fit([[self.features[x]] for x in value])\n",
    "\n",
    "    if self.apply_dimension_reduction:\n",
    "        self.dim_reducer = sklearn.decomposition.TruncatedSVD(n_components=self._n_components)\n",
    "        self.dim_reducer.fit(self.one_hot_encoder.transform([[self.features[x]] for x in value]))\n",
    "\n",
    "    return self\n"
   ]
  },
  {
   "cell_type": "code",
   "execution_count": null,
   "metadata": {
    "collapsed": true
   },
   "outputs": [],
   "source": []
  },
  {
   "cell_type": "code",
   "execution_count": null,
   "metadata": {
    "collapsed": true
   },
   "outputs": [],
   "source": []
  },
  {
   "cell_type": "code",
   "execution_count": null,
   "metadata": {
    "collapsed": true
   },
   "outputs": [],
   "source": []
  }
 ],
 "metadata": {
  "anaconda-cloud": {},
  "kernelspec": {
   "display_name": "Python [conda root]",
   "language": "python",
   "name": "conda-root-py"
  },
  "language_info": {
   "codemirror_mode": {
    "name": "ipython",
    "version": 2
   },
   "file_extension": ".py",
   "mimetype": "text/x-python",
   "name": "python",
   "nbconvert_exporter": "python",
   "pygments_lexer": "ipython2",
   "version": "2.7.12"
  }
 },
 "nbformat": 4,
 "nbformat_minor": 1
}
