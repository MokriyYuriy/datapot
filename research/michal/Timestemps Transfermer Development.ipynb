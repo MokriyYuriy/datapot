{
 "cells": [
  {
   "cell_type": "markdown",
   "metadata": {},
   "source": [
    "# Экстракторы для даты/времени"
   ]
  },
  {
   "cell_type": "raw",
   "metadata": {},
   "source": [
    "Feature extractors для полей вида:\n",
    "- \"2015-12-01 07:40\"\n",
    "- \"Jan, 1 2017\"\n",
    "- \"Feb 28, 2016 5pm\"\n",
    "- 1484673907\n",
    "- 1484673907.123\n",
    "- 1484673907123\n",
    "\n",
    "Парсить строчки с датой в странном формате можно при помощи dateutil.\n",
    "\n",
    "Пример признаков, которые можно получить из даты/времени:\n",
    "- unixtime\n",
    "- день недели\n",
    "- время суток\n",
    "- день в месяце\n",
    "- минута в текущем часе\n",
    "- ..."
   ]
  },
  {
   "cell_type": "code",
   "execution_count": null,
   "metadata": {
    "collapsed": true
   },
   "outputs": [],
   "source": [
    "# ALL USED LIBs:\n",
    "from datetime import *\n",
    "from dateutil.parser import *\n",
    "from time import mktime"
   ]
  },
  {
   "cell_type": "code",
   "execution_count": 1,
   "metadata": {
    "collapsed": true
   },
   "outputs": [],
   "source": [
    "import dateutil"
   ]
  },
  {
   "cell_type": "code",
   "execution_count": 16,
   "metadata": {
    "collapsed": true
   },
   "outputs": [],
   "source": [
    "from datetime import *"
   ]
  },
  {
   "cell_type": "code",
   "execution_count": 2,
   "metadata": {
    "collapsed": true
   },
   "outputs": [],
   "source": [
    "from dateutil.parser import *"
   ]
  },
  {
   "cell_type": "code",
   "execution_count": 5,
   "metadata": {
    "collapsed": true
   },
   "outputs": [],
   "source": [
    "now = parse(\"Sat Oct 11 17:13:46 UTC 2003\")\n",
    "today = now.date()"
   ]
  },
  {
   "cell_type": "code",
   "execution_count": 4,
   "metadata": {
    "collapsed": false
   },
   "outputs": [
    {
     "data": {
      "text/plain": [
       "datetime.datetime(2003, 10, 11, 17, 13, 46, tzinfo=tzutc())"
      ]
     },
     "execution_count": 4,
     "metadata": {},
     "output_type": "execute_result"
    }
   ],
   "source": [
    "now"
   ]
  },
  {
   "cell_type": "code",
   "execution_count": 6,
   "metadata": {
    "collapsed": false
   },
   "outputs": [
    {
     "data": {
      "text/plain": [
       "datetime.date(2003, 10, 11)"
      ]
     },
     "execution_count": 6,
     "metadata": {},
     "output_type": "execute_result"
    }
   ],
   "source": [
    "today"
   ]
  },
  {
   "cell_type": "code",
   "execution_count": 7,
   "metadata": {
    "collapsed": true
   },
   "outputs": [],
   "source": [
    "dates = [\"2015-12-01 07:40\",\n",
    "         \"Jan, 1 2017\",\n",
    "         \"Feb 28, 2016 5pm\"]\n",
    "dates_nums = [1484673907, 1484673907.123, 1484673907123]\n",
    "# last tipe???"
   ]
  },
  {
   "cell_type": "code",
   "execution_count": 13,
   "metadata": {
    "collapsed": false
   },
   "outputs": [
    {
     "data": {
      "text/plain": [
       "[datetime.datetime(2015, 12, 1, 7, 40),\n",
       " datetime.datetime(2017, 1, 1, 0, 0),\n",
       " datetime.datetime(2016, 2, 28, 17, 0)]"
      ]
     },
     "execution_count": 13,
     "metadata": {},
     "output_type": "execute_result"
    }
   ],
   "source": [
    "[parse(d) for d in dates]"
   ]
  },
  {
   "cell_type": "code",
   "execution_count": 45,
   "metadata": {
    "collapsed": false
   },
   "outputs": [
    {
     "data": {
      "text/plain": [
       "[datetime.datetime(2017, 1, 17, 20, 25, 7),\n",
       " datetime.datetime(2017, 1, 17, 20, 25, 7, 123000)]"
      ]
     },
     "execution_count": 45,
     "metadata": {},
     "output_type": "execute_result"
    }
   ],
   "source": [
    "#[parse(str(d)) for d in dates_nums]\n",
    "\n",
    "datetime.fromtimestamp(dates_nums[0])\n",
    "# datetime.fromtimestamp(dates_nums[2])\n",
    "[datetime.fromtimestamp(d) for d in dates_nums[:-1]]"
   ]
  },
  {
   "cell_type": "code",
   "execution_count": 74,
   "metadata": {
    "collapsed": false
   },
   "outputs": [
    {
     "name": "stdout",
     "output_type": "stream",
     "text": [
      "[1484673907, 1484673907.123, 1484673907123]\n",
      "2017-01-17 20:25:07\n",
      "2017-01-17 20:25:07.123000\n"
     ]
    },
    {
     "ename": "ValueError",
     "evalue": "year is out of range",
     "output_type": "error",
     "traceback": [
      "\u001b[0;31m---------------------------------------------------------------------------\u001b[0m",
      "\u001b[0;31mValueError\u001b[0m                                Traceback (most recent call last)",
      "\u001b[0;32m<ipython-input-74-94843729e178>\u001b[0m in \u001b[0;36m<module>\u001b[0;34m()\u001b[0m\n\u001b[1;32m      3\u001b[0m \u001b[0;32mfor\u001b[0m \u001b[0md\u001b[0m \u001b[0;32min\u001b[0m \u001b[0mdates_nums\u001b[0m\u001b[0;34m:\u001b[0m\u001b[0;34m\u001b[0m\u001b[0m\n\u001b[1;32m      4\u001b[0m     \u001b[0;32mif\u001b[0m \u001b[0misinstance\u001b[0m\u001b[0;34m(\u001b[0m\u001b[0md\u001b[0m\u001b[0;34m,\u001b[0m \u001b[0mfloat\u001b[0m\u001b[0;34m)\u001b[0m \u001b[0;32mor\u001b[0m \u001b[0misinstance\u001b[0m\u001b[0;34m(\u001b[0m\u001b[0md\u001b[0m\u001b[0;34m,\u001b[0m \u001b[0mint\u001b[0m\u001b[0;34m)\u001b[0m\u001b[0;34m:\u001b[0m  \u001b[0;31m# 1484673907123 ?\u001b[0m\u001b[0;34m\u001b[0m\u001b[0m\n\u001b[0;32m----> 5\u001b[0;31m         \u001b[0mdate\u001b[0m \u001b[0;34m=\u001b[0m \u001b[0mdatetime\u001b[0m\u001b[0;34m.\u001b[0m\u001b[0mfromtimestamp\u001b[0m\u001b[0;34m(\u001b[0m\u001b[0md\u001b[0m\u001b[0;34m)\u001b[0m\u001b[0;34m\u001b[0m\u001b[0m\n\u001b[0m\u001b[1;32m      6\u001b[0m     \u001b[0;32mif\u001b[0m \u001b[0misinstance\u001b[0m\u001b[0;34m(\u001b[0m\u001b[0md\u001b[0m\u001b[0;34m,\u001b[0m \u001b[0mstr\u001b[0m\u001b[0;34m)\u001b[0m\u001b[0;34m:\u001b[0m\u001b[0;34m\u001b[0m\u001b[0m\n\u001b[1;32m      7\u001b[0m         \u001b[0mdate\u001b[0m \u001b[0;34m=\u001b[0m \u001b[0mparse\u001b[0m\u001b[0;34m(\u001b[0m\u001b[0md\u001b[0m\u001b[0;34m)\u001b[0m\u001b[0;34m\u001b[0m\u001b[0m\n",
      "\u001b[0;31mValueError\u001b[0m: year is out of range"
     ]
    }
   ],
   "source": [
    "print dates_nums\n",
    "\n",
    "for d in dates_nums:\n",
    "    if isinstance(d, float) or isinstance(d, int):  # 1484673907123 ?\n",
    "        date = datetime.fromtimestamp(d)\n",
    "    if isinstance(d, str):\n",
    "        date = parse(d)\n",
    "    print date"
   ]
  },
  {
   "cell_type": "code",
   "execution_count": 75,
   "metadata": {
    "collapsed": false
   },
   "outputs": [
    {
     "data": {
      "text/plain": [
       "True"
      ]
     },
     "execution_count": 75,
     "metadata": {},
     "output_type": "execute_result"
    }
   ],
   "source": [
    "isinstance(1484673907, int)"
   ]
  },
  {
   "cell_type": "code",
   "execution_count": 47,
   "metadata": {
    "collapsed": false
   },
   "outputs": [
    {
     "name": "stdout",
     "output_type": "stream",
     "text": [
      "['2015-12-01 07:40', 'Jan, 1 2017', 'Feb 28, 2016 5pm']\n",
      "2015-12-01 07:40:00\n",
      "2017-01-01 00:00:00\n",
      "2016-02-28 17:00:00\n"
     ]
    }
   ],
   "source": [
    "print dates\n",
    "\n",
    "for d in dates:\n",
    "    if isinstance(d, float):\n",
    "        date = datetime.fromtimestamp(d)\n",
    "    if isinstance(d, str):\n",
    "        date = parse(d)\n",
    "    print date"
   ]
  },
  {
   "cell_type": "markdown",
   "metadata": {},
   "source": [
    "### Validate"
   ]
  },
  {
   "cell_type": "code",
   "execution_count": 106,
   "metadata": {
    "collapsed": false
   },
   "outputs": [],
   "source": [
    "def validate(self, field, value):\n",
    "    try:\n",
    "        if isinstance(value, float) or isinstance(value, int):  # 1484673907123 ?\n",
    "            date = datetime.fromtimestamp(value)\n",
    "        if isinstance(value, str):\n",
    "            date = parse(value)\n",
    "        # self.confidence = min(self.confidence + 0.1, 1)\n",
    "        return True, date\n",
    "    except:\n",
    "        # self.confidence = max(self.confidence - 0.1, 0)\n",
    "        return False"
   ]
  },
  {
   "cell_type": "code",
   "execution_count": 107,
   "metadata": {
    "collapsed": false
   },
   "outputs": [
    {
     "name": "stdout",
     "output_type": "stream",
     "text": [
      "['2015-12-01 07:40', 'Jan, 1 2017', 'Feb 28, 2016 5pm'] :\n",
      "[(True, datetime.datetime(2015, 12, 1, 7, 40)), (True, datetime.datetime(2017, 1, 1, 0, 0)), (True, datetime.datetime(2016, 2, 28, 17, 0))]\n",
      "[1484673907, 1484673907.123, 1484673907123] :\n",
      "[(True, datetime.datetime(2017, 1, 17, 20, 25, 7)), (True, datetime.datetime(2017, 1, 17, 20, 25, 7, 123000)), False]\n",
      "[(True, datetime.datetime(2004, 1, 23, 0, 0)), False, (True, datetime.datetime(2017, 12, 2, 0, 0)), (True, datetime.datetime(2017, 5, 25, 0, 0))]\n"
     ]
    }
   ],
   "source": [
    "self = field = \"\"\n",
    "\n",
    "print dates,\":\\n\", [validate(self, field, value) for value in dates]\n",
    "print dates_nums,\":\\n\", [validate(self, field, value) for value in dates_nums]\n",
    "print [validate(self, field, value) for value in ['1-23-4', '12345', '12-2', 'May']]"
   ]
  },
  {
   "cell_type": "markdown",
   "metadata": {},
   "source": [
    "### Новые признаки"
   ]
  },
  {
   "cell_type": "raw",
   "metadata": {},
   "source": [
    "# Пример признаков, которые можно получить из даты/времени:\n",
    "- unixtime\n",
    "- день недели\n",
    "- время суток\n",
    "- минута в текущем часе\n",
    "- день в месяце\n",
    "- ..."
   ]
  },
  {
   "cell_type": "code",
   "execution_count": 48,
   "metadata": {
    "collapsed": false
   },
   "outputs": [
    {
     "data": {
      "text/plain": [
       "datetime.datetime(2016, 2, 28, 17, 0)"
      ]
     },
     "execution_count": 48,
     "metadata": {},
     "output_type": "execute_result"
    }
   ],
   "source": [
    "date"
   ]
  },
  {
   "cell_type": "markdown",
   "metadata": {},
   "source": [
    "#### unix time"
   ]
  },
  {
   "cell_type": "code",
   "execution_count": 50,
   "metadata": {
    "collapsed": false
   },
   "outputs": [
    {
     "data": {
      "text/plain": [
       "1456668000.0"
      ]
     },
     "execution_count": 50,
     "metadata": {},
     "output_type": "execute_result"
    }
   ],
   "source": [
    "from time import mktime\n",
    "\n",
    "unixtime = mktime(date.timetuple())\n",
    "unixtime"
   ]
  },
  {
   "cell_type": "markdown",
   "metadata": {},
   "source": [
    "#### week day"
   ]
  },
  {
   "cell_type": "code",
   "execution_count": 54,
   "metadata": {
    "collapsed": false
   },
   "outputs": [
    {
     "data": {
      "text/plain": [
       "2"
      ]
     },
     "execution_count": 54,
     "metadata": {},
     "output_type": "execute_result"
    }
   ],
   "source": [
    "date.today().weekday()"
   ]
  },
  {
   "cell_type": "markdown",
   "metadata": {},
   "source": [
    "#### time - hour, minute"
   ]
  },
  {
   "cell_type": "code",
   "execution_count": 63,
   "metadata": {
    "collapsed": false
   },
   "outputs": [
    {
     "name": "stdout",
     "output_type": "stream",
     "text": [
      "17:00:00 17 0\n"
     ]
    }
   ],
   "source": [
    "print date.time(), date.hour, date.minute"
   ]
  },
  {
   "cell_type": "markdown",
   "metadata": {},
   "source": [
    "#### month day"
   ]
  },
  {
   "cell_type": "code",
   "execution_count": 72,
   "metadata": {
    "collapsed": false
   },
   "outputs": [
    {
     "data": {
      "text/plain": [
       "28"
      ]
     },
     "execution_count": 72,
     "metadata": {},
     "output_type": "execute_result"
    }
   ],
   "source": [
    "date.day"
   ]
  },
  {
   "cell_type": "code",
   "execution_count": null,
   "metadata": {
    "collapsed": true
   },
   "outputs": [],
   "source": []
  },
  {
   "cell_type": "markdown",
   "metadata": {},
   "source": [
    "## Transform"
   ]
  },
  {
   "cell_type": "code",
   "execution_count": 113,
   "metadata": {
    "collapsed": true
   },
   "outputs": [],
   "source": [
    "new_features = ['unixtime', 'week_day', 'month_day', 'hour', 'minute']  # TODO: add features (is_holliday, is_weekend)\n",
    "\n",
    "def transform(self, value):\n",
    "    new_features = ['unixtime', 'week_day', 'month_day', 'hour', 'minute']  # TODO: add features (is_holliday, is_weekend)\n",
    "\n",
    "    try:\n",
    "        if isinstance(value, float) or isinstance(value, int):\n",
    "            date = datetime.fromtimestamp(value)\n",
    "        if isinstance(value, str):\n",
    "            date = parse(value)\n",
    "\n",
    "        new_features_values = dict()\n",
    "        new_features_values['unixtime'] = mktime(date.timetuple())\n",
    "        new_features_values['week_day'] = date.today().weekday()\n",
    "        new_features_values['month_day'] = date.day\n",
    "        new_features_values['hour'] = date.hour\n",
    "        new_features_values['minute'] = date.minute\n",
    "\n",
    "        return [new_features_values[feature] for feature in new_features]\n",
    "    except:\n",
    "        return [None for feature in new_features]"
   ]
  },
  {
   "cell_type": "code",
   "execution_count": 115,
   "metadata": {
    "collapsed": false
   },
   "outputs": [
    {
     "data": {
      "text/plain": [
       "[1495659600.0, 2, 25, 0, 0]"
      ]
     },
     "execution_count": 115,
     "metadata": {},
     "output_type": "execute_result"
    }
   ],
   "source": [
    "transform(self, value)"
   ]
  },
  {
   "cell_type": "code",
   "execution_count": 118,
   "metadata": {
    "collapsed": false
   },
   "outputs": [
    {
     "data": {
      "text/plain": [
       "[1448944800.0, 2, 1, 7, 40]"
      ]
     },
     "execution_count": 118,
     "metadata": {},
     "output_type": "execute_result"
    }
   ],
   "source": [
    "value = '2015-12-01 07:40'\n",
    "transform(self, value)"
   ]
  },
  {
   "cell_type": "code",
   "execution_count": 119,
   "metadata": {
    "collapsed": false
   },
   "outputs": [
    {
     "data": {
      "text/plain": [
       "[None, None, None, None, None]"
      ]
     },
     "execution_count": 119,
     "metadata": {},
     "output_type": "execute_result"
    }
   ],
   "source": [
    "value = 'bad input'\n",
    "transform(self, value)"
   ]
  },
  {
   "cell_type": "code",
   "execution_count": null,
   "metadata": {
    "collapsed": true
   },
   "outputs": [],
   "source": []
  }
 ],
 "metadata": {
  "anaconda-cloud": {},
  "kernelspec": {
   "display_name": "Python [conda root]",
   "language": "python",
   "name": "conda-root-py"
  },
  "language_info": {
   "codemirror_mode": {
    "name": "ipython",
    "version": 2
   },
   "file_extension": ".py",
   "mimetype": "text/x-python",
   "name": "python",
   "nbconvert_exporter": "python",
   "pygments_lexer": "ipython2",
   "version": "2.7.12"
  }
 },
 "nbformat": 4,
 "nbformat_minor": 1
}
