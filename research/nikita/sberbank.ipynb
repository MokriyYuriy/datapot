{
 "cells": [
  {
   "cell_type": "markdown",
   "metadata": {},
   "source": [
    "Часть очевидных наблюдений от меня \n",
    "Исчерпывающий анализ от: https://alexanderdyakonov.wordpress.com/2016/10/14/data-science-contest-сбербанка/ \n"
   ]
  },
  {
   "cell_type": "code",
   "execution_count": 2,
   "metadata": {
    "collapsed": false
   },
   "outputs": [],
   "source": [
    "import pandas as pd \n",
    "import matplotlib.pyplot as plt\n",
    "import numpy as np\n",
    "from sklearn.feature_extraction.text import TfidfVectorizer\n",
    "from gensim.models import Word2Vec\n",
    "from sklearn.cluster import KMeans \n",
    "%matplotlib inline"
   ]
  },
  {
   "cell_type": "markdown",
   "metadata": {},
   "source": [
    "types и codes -- примеры словарей, с которых нужно начинать предобработку"
   ]
  },
  {
   "cell_type": "code",
   "execution_count": 3,
   "metadata": {
    "collapsed": false
   },
   "outputs": [],
   "source": [
    "data = pd.read_csv(\"transactions.csv\")\n",
    "types = pd.read_csv(\"tr_types.csv\")\n",
    "gender = pd.read_csv(\"customers_gender_train.csv\")\n",
    "ru_codes = pd.read_csv(\"tr_mcc_codes.csv\", delimiter=';') \n",
    "codes = pd.read_csv(\"mcc_codes.csv\", index_col='mcc') #коды на английском для word2vec"
   ]
  },
  {
   "cell_type": "markdown",
   "metadata": {},
   "source": [
    "Оверкилл: взять обученный дамп googlenews \n",
    "\n",
    "3000000 слов в словаре и 300 координат"
   ]
  },
  {
   "cell_type": "code",
   "execution_count": 5,
   "metadata": {
    "collapsed": false
   },
   "outputs": [
    {
     "name": "stdout",
     "output_type": "stream",
     "text": [
      "3000000\n"
     ]
    }
   ],
   "source": [
    "w2v_model = Word2Vec.load_word2vec_format('./GoogleNews-vectors-negative300.bin', binary=True)\n",
    "print(len(w2v_model.vocab))\n",
    "w2v_model.init_sims(replace=True)\n"
   ]
  },
  {
   "cell_type": "markdown",
   "metadata": {},
   "source": [
    "Возможный сюжет: если в словаре категориальные признаки -- обычные слова/текст/метки, применить к ним векторизацию. Далее выделять кластеры/категории (в предположении, что связь существует) или другие пространственные закономерности.\n",
    "\n",
    "Наверно очень важно выбрать правильную размерность (применять PCA?), т.к. при больших d -- могут возникать нежелательные метрические эффекты (хотя наверняка есть какие-то общепринятые эвристики на этот счёт)\n",
    "\n",
    "Расстояние <code>w2v.similarity(a, b)</code> для одинаковых слов и разных размерностей -- не одно и то же (Верно ли?)\n",
    "\n",
    "..."
   ]
  },
  {
   "cell_type": "code",
   "execution_count": 10,
   "metadata": {
    "collapsed": false
   },
   "outputs": [],
   "source": [
    "codes.fillna('0', inplace=True)\n",
    "words = codes.irs_description.apply(lambda x: x.split())\n",
    "words = words.values\n",
    "words = words.tolist()\n",
    "words = [item for sublist in words for item in sublist]\n",
    "words = [word.lower() for word in words]\n",
    "words = [word.replace(\"(\", \"\") for word in words] \n",
    "words = [word.replace(\"'\", \"\") for word in words] \n",
    "words = [word.replace(\")\", \"\") for word in words] \n",
    "words = [word.replace(\"’\", \"\") for word in words] \n",
    "words = [word.replace(\",\", \"\") for word in words] \n",
    "words = [word.replace(\"-\", \"\") for word in words] \n",
    "words = [word.replace(\"/\", \" \") for word in words] \n",
    "words = [word.split() for word in words] \n",
    "words = [item for sublist in words for item in sublist]\n",
    "words = list(set(words))"
   ]
  },
  {
   "cell_type": "code",
   "execution_count": 37,
   "metadata": {
    "collapsed": false
   },
   "outputs": [],
   "source": [
    "words\n",
    "vecs = []\n",
    "for i in words:\n",
    "    if i not in w2v_model.vocab:\n",
    "        del i\n",
    "    else:\n",
    "        vecs.append(w2v_model[i])\n",
    "\n"
   ]
  },
  {
   "cell_type": "code",
   "execution_count": 105,
   "metadata": {
    "collapsed": false
   },
   "outputs": [
    {
     "name": "stdout",
     "output_type": "stream",
     "text": [
      "7 recreational \t0 telephone \t6 parts \t5 stationary \t5 photography \t5 publishing \t6 shoe \t3 professional \t3 managers \t6 plaster \t7 special \t3 disburse \t4 cosmetic \t6 window \t3 real \t3 public \t3 production \t5 automated \t7 music \t0 passenger \t5 books \t3 buying \t2 accessory \t0 fuel \t1 hotels \t1 orchestras \t3 combination \t5 graphics \t7 home \t3 agents \t1 florists \t6 repairs \t2 storage \t3 long \t6 carpentry \t6 refinishing \t3 marketing \t3 court \t1 theaters \t7 sports \t5 typesetting \t1 carriers \t3 readytowear \t2 storesmusical \t1 bail \t7 equipment \t6 departments \t3 civic \t3 wires \t3 nonfi \t2 payments \t1 only \t0 discount \t3 appliances \t3 aquariums \t7 tour \t6 service \t3 betting \t2 lots \t0 glass \t2 secondary \t1 automobile \t4 flying \t3 sundries \t0 restaurants \t2 tele \t3 attorneys \t7 travel \t1 specialty \t6 moving \t3 estate \t5 parks \t3 laundry \t3 intracompany \t0 secretarial \t3 cooperative \t2 fees \t4 bridge \t2 costs \t6 supplies \t3 osteopaths \t0 electronics \t5 varnishes \t0 trade \t7 yards \t2 piece \t1 cable \t3 theatrical \t3 hardware \t4 universities \t1 direct \t3 work \t1 prosthetic \t3 inns \t3 relations \t1 and \t7 hospitals \t7 maintenance \t1 reporting \t3 schools \t1 billiard \t6 beauty \t0 homes \t0 a \t0 covering \t3 entities \t6 welding \t4 air \t6 snowmobile \t3 railways \t4 advertising \t3 tire \t1 orthodontists \t1 refrigerated \t6 elsewhere \t6 veterinary \t2 actual \t3 centers \t1 associations \t3 cleaning \t3 building \t7 furnishings \t5 testing \t6 alleys \t5 accounting \t2 hearing \t0 liquor \t2 reproductions \t4 lumber \t7 photocopy \t1 clothing \t2 rental \t7 products \t2 chiropractors \t1 storesbeer \t3 religious \t6 caterers \t6 warehousing \t1 antique \t4 auto \t1 timeshares \t4 the \t3 awning \t4 leather \t0 railroads \t5 nursing \t4 artists \t7 health \t7 business \t7 opticians \t6 distance \t6 writing \t3 dentists \t3 social \t4 nut \t3 bowling \t3 crystal \t6 concrete \t4 except \t0 c \t3 drugs \t5 news \t6 stock \t3 metal \t1 doctors \t4 cruise \t6 for \t2 druggist \t7 razor \t4 surety \t7 airports \t6 care \t6 materials \t3 miscellaneous \t1 mens \t7 medical \t1 eating \t2 lawn \t6 durable \t3 brokers \t6 operators \t3 wrecking \t5 bakeries \t3 merchandise \t3 glassware \t2 charitable \t3 secondhand \t7 membership \t3 video \t7 fast \t6 allied \t1 accessories \t0 information \t5 gift \t3 law \t3 garden \t6 wallpaper \t2 places \t3 bicycle \t6 microfilm \t3 aids \t3 or \t2 masonry \t6 peripherals \t1 underwriting \t6 freezer \t4 quick \t6 related \t5 goods \t1 fabric \t7 stations \t1 plate \t1 hospital \t5 toupee \t2 screens \t3 dispensers \t3 exhibits \t7 nurseries \t5 fields \t1 coin \t5 watches \t3 rentals \t0 cash \t2 recreation \t5 provisioners \t3 stationery \t6 markets \t1 telegraph \t6 sales \t1 transport \t1 nondurable \t2 photographic \t3 utility \t1 cleaners \t3 institutions \t5 chemicals \t7 campgrounds \t2 labs \t5 food \t1 insurance \t1 colleges \t5 & \t0 card \t0 agricultural \t0 software \t5 dating \t1 courses \t6 newspapers \t0 correspondence \t0 tourist \t6 escort \t5 parking \t7 computer \t5 motels \t0 furniture \t7 funeral \t7 electric \t1 upholstery \t3 tape \t0 golf \t5 picture \t7 inbound \t1 novelty \t2 child \t5 spas \t3 non \t0 ticket \t3 souvenir \t7 nursery \t6 stores \t1 apparel \t3 manual \t3 surveying \t3 vehicle \t7 package \t6 vocational \t6 fur \t6 resorts \t7 credit \t4 new \t4 leasing \t6 wine \t7 architectural \t7 wear \t7 instruments \t1 educational \t3 orthopedic \t7 dental \t3 washes \t4 farm \t4 dance \t1 school \t3 pools \t3 tax \t3 pool \t7 network \t0 optometrists \t2 massage \t3 arcades \t7 support \t7 classified \t3 small \t0 flowers \t1 bus \t7 shopping \t4 federal \t0 variety \t2 game \t0 preparation \t3 radio \t3 airlines \t6 tui \t1 podiatrists \t2 taxicabs \t0 wholesale \t7 motorcycle \t7 security \t5 financial \t2 floor \t7 contractors \t3 automotive \t2 limousines \t3 television \t6 childrens \t2 periodicals \t1 devices \t7 programming \t6 department \t1 furnishing \t6 agency \t2 alterations \t0 grocery \t3 pharmacies \t2 hobby \t3 barber \t5 crematories \t0 landscaping \t2 retail \t3 towing \t5 fines \t1 warehouse \t3 convenience \t5 catalog \t0 ambulance \t7 industrial \t1 supply \t7 pawn \t7 attractions \t6 services \t3 camera \t3 transportation \t7 sporting \t3 galleries \t5 hall \t1 pet \t3 uniforms \t3 commercial \t0 0 \t6 gambling \t7 used \t6 blueprint \t6 garages \t6 delivery \t5 payment \t5 boat \t5 pianos \t5 needlework \t1 u.s. \t3 tent \t3 wig \t5 plumbing \t6 clocks \t6 repro \t4 photo \t7 bookkeeping \t7 supermarkets \t1 exterminating \t1 office \t6 stamp \t6 stonework \t3 siding \t3 ophthalmic \t3 drinking \t5 boys \t3 camps \t7 dealers \t5 repair \t3 drapery \t3 political \t7 alimony \t1 consulting \t5 paper \t6 leases \t3 womens \t3 typewriter \t1 making \t7 other \t5 dairy \t2 establishments \t7 printing \t0 paint \t0 default \t7 developing \t3 bands \t1 of \t3 watch \t1 germany \t6 mobile \t7 casino \t5 satellite \t3 car \t1 swimming \t0 subscription \t6 parlors \t0 stop \t3 utilities \t3 construction \t1 art \t6 temp \t2 government \t3 laboratories \t0 duty \t0 electrical \t7 trucking \t1 paid \t7 free \t5 lines \t6 furriers \t6 footwear \t3 not \t0 commuter \t3 ferries \t4 precious \t1 proprietaries \t3 clubs \t5 carnivals \t3 postal \t2 roofing \t0 dry \t2 pay \t0 riding \t0 orders \t5 tailors \t3 organizations \t5 employment \t5 book \t7 general \t3 metals \t6 tolls \t2 merchant \t6 outbound \t6 courier \t1 detective \t6 stands \t6 copy \t1 locker \t3 craft \t2 local \t0 salvage \t5 toy \t5 paints \t4 refrigeration \t0 newsstands \t7 hat \t2 fireplace \t7 studios \t2 administrative \t1 appliance \t4 freight \t3 notions \t0 retrieval \t7 infants \t3 luggage \t2 fraternal \t3 jewelry \t3 amusement \t4 household \t5 agencies \t6 ophthalmologist \t1 personal \t5 truck \t1 sewing \t6 money \t3 petroleum \t6 record \t2 purchases \t6 chiropodists \t3 computers \t5 silverware \t3 companies \t7 motion \t6 courts \t3 retreading \t6 premiums \t6 heating \t1 telecommunication \t3 meat \t6 including \t0 sheet \t1 bond \t7 candy \t2 doortodoor \t3 eyeglasses \t1 counseling \t3 cigar \t6 stones \t4 shops \t7 legal \t0 carpet \t"
     ]
    }
   ],
   "source": [
    "km = KMeans()\n",
    "m = km.fit_transform(vecs)\n",
    "cluster_labels = km.labels_\n",
    "for i, x in enumerate(cluster_labels):\n",
    "    print(x, words[i], end=' \\t')\n",
    "\n",
    "\n",
    "    "
   ]
  },
  {
   "cell_type": "code",
   "execution_count": null,
   "metadata": {
    "collapsed": true
   },
   "outputs": [],
   "source": [
    "#tf = TfidfVectorizer() -- Здесь неактуально, но имеет смысл выкидывать слова-шум"
   ]
  },
  {
   "cell_type": "code",
   "execution_count": 55,
   "metadata": {
    "collapsed": false
   },
   "outputs": [
    {
     "data": {
      "text/html": [
       "<div>\n",
       "<table border=\"1\" class=\"dataframe\">\n",
       "  <thead>\n",
       "    <tr style=\"text-align: right;\">\n",
       "      <th></th>\n",
       "      <th>customer_id</th>\n",
       "      <th>mcc_code</th>\n",
       "      <th>tr_type</th>\n",
       "      <th>amount</th>\n",
       "      <th>term_id</th>\n",
       "      <th>gender</th>\n",
       "      <th>num_day</th>\n",
       "      <th>datetime</th>\n",
       "      <th>hour</th>\n",
       "      <th>minute</th>\n",
       "      <th>second</th>\n",
       "    </tr>\n",
       "  </thead>\n",
       "  <tbody>\n",
       "    <tr>\n",
       "      <th>0</th>\n",
       "      <td>39026145</td>\n",
       "      <td>4814</td>\n",
       "      <td>1030</td>\n",
       "      <td>-2245.92</td>\n",
       "      <td>NaN</td>\n",
       "      <td>1.0</td>\n",
       "      <td>0</td>\n",
       "      <td>10:23:26</td>\n",
       "      <td>10</td>\n",
       "      <td>23</td>\n",
       "      <td>26</td>\n",
       "    </tr>\n",
       "    <tr>\n",
       "      <th>1</th>\n",
       "      <td>39026145</td>\n",
       "      <td>6011</td>\n",
       "      <td>7010</td>\n",
       "      <td>56147.89</td>\n",
       "      <td>NaN</td>\n",
       "      <td>1.0</td>\n",
       "      <td>1</td>\n",
       "      <td>10:19:29</td>\n",
       "      <td>10</td>\n",
       "      <td>19</td>\n",
       "      <td>29</td>\n",
       "    </tr>\n",
       "    <tr>\n",
       "      <th>2</th>\n",
       "      <td>39026145</td>\n",
       "      <td>4829</td>\n",
       "      <td>2330</td>\n",
       "      <td>-56147.89</td>\n",
       "      <td>NaN</td>\n",
       "      <td>1.0</td>\n",
       "      <td>1</td>\n",
       "      <td>10:20:56</td>\n",
       "      <td>10</td>\n",
       "      <td>20</td>\n",
       "      <td>56</td>\n",
       "    </tr>\n",
       "    <tr>\n",
       "      <th>3</th>\n",
       "      <td>39026145</td>\n",
       "      <td>5499</td>\n",
       "      <td>1010</td>\n",
       "      <td>-1392.47</td>\n",
       "      <td>NaN</td>\n",
       "      <td>1.0</td>\n",
       "      <td>1</td>\n",
       "      <td>10:39:54</td>\n",
       "      <td>10</td>\n",
       "      <td>39</td>\n",
       "      <td>54</td>\n",
       "    </tr>\n",
       "    <tr>\n",
       "      <th>4</th>\n",
       "      <td>39026145</td>\n",
       "      <td>5499</td>\n",
       "      <td>1010</td>\n",
       "      <td>-920.83</td>\n",
       "      <td>NaN</td>\n",
       "      <td>1.0</td>\n",
       "      <td>2</td>\n",
       "      <td>15:33:42</td>\n",
       "      <td>15</td>\n",
       "      <td>33</td>\n",
       "      <td>42</td>\n",
       "    </tr>\n",
       "  </tbody>\n",
       "</table>\n",
       "</div>"
      ],
      "text/plain": [
       "   customer_id  mcc_code  tr_type    amount term_id  gender  num_day  \\\n",
       "0     39026145      4814     1030  -2245.92     NaN     1.0        0   \n",
       "1     39026145      6011     7010  56147.89     NaN     1.0        1   \n",
       "2     39026145      4829     2330 -56147.89     NaN     1.0        1   \n",
       "3     39026145      5499     1010  -1392.47     NaN     1.0        1   \n",
       "4     39026145      5499     1010   -920.83     NaN     1.0        2   \n",
       "\n",
       "   datetime  hour  minute  second  \n",
       "0  10:23:26    10      23      26  \n",
       "1  10:19:29    10      19      29  \n",
       "2  10:20:56    10      20      56  \n",
       "3  10:39:54    10      39      54  \n",
       "4  15:33:42    15      33      42  "
      ]
     },
     "execution_count": 55,
     "metadata": {},
     "output_type": "execute_result"
    }
   ],
   "source": [
    "transactions = data\n",
    "transactions = pd.merge(transactions, gender, on='customer_id', how='outer')\n",
    "transactions['num_day'] = transactions['tr_datetime'].apply(lambda x: int(x.split(' ')[0]))\n",
    "transactions['datetime'] = transactions['tr_datetime'].apply(lambda x: x.split(' ')[1])\n",
    "transactions['hour'] = transactions['datetime'].apply(lambda x: int(x.split(':')[0]))\n",
    "transactions['minute'] = transactions['datetime'].apply(lambda x: int(x.split(':')[1]))\n",
    "transactions['second'] = transactions['datetime'].apply(lambda x: int(x.split(':')[2]))\n",
    "del transactions['tr_datetime']\n",
    "transactions.head()"
   ]
  },
  {
   "cell_type": "code",
   "execution_count": null,
   "metadata": {
    "collapsed": false
   },
   "outputs": [],
   "source": []
  },
  {
   "cell_type": "code",
   "execution_count": 56,
   "metadata": {
    "collapsed": false
   },
   "outputs": [
    {
     "data": {
      "text/plain": [
       "gender\n",
       "0.0    Axes(0.125,0.125;0.775x0.775)\n",
       "1.0    Axes(0.125,0.125;0.775x0.775)\n",
       "Name: mcc_code, dtype: object"
      ]
     },
     "execution_count": 56,
     "metadata": {},
     "output_type": "execute_result"
    },
    {
     "data": {
      "image/png": "[encoded data removed]",
      "text/plain": [
       "<matplotlib.figure.Figure at 0x10a4e1c88>"
      ]
     },
     "metadata": {},
     "output_type": "display_data"
    }
   ],
   "source": [
    "transactions.groupby(['gender']).mcc_code.hist(bins=40)\n"
   ]
  },
  {
   "cell_type": "code",
   "execution_count": 57,
   "metadata": {
    "collapsed": false
   },
   "outputs": [
    {
     "data": {
      "text/plain": [
       "gender\n",
       "0.0    Axes(0.125,0.125;0.775x0.775)\n",
       "1.0    Axes(0.125,0.125;0.775x0.775)\n",
       "Name: num_day, dtype: object"
      ]
     },
     "execution_count": 57,
     "metadata": {},
     "output_type": "execute_result"
    },
    {
     "data": {
      "image/png": "[encoded data removed]",
      "text/plain": [
       "<matplotlib.figure.Figure at 0x263aca1d0>"
      ]
     },
     "metadata": {},
     "output_type": "display_data"
    }
   ],
   "source": [
    "transactions.groupby(['gender']).num_day.hist(bins=40)"
   ]
  },
  {
   "cell_type": "code",
   "execution_count": 63,
   "metadata": {
    "collapsed": false
   },
   "outputs": [
    {
     "data": {
      "text/html": [
       "<div>\n",
       "<table border=\"1\" class=\"dataframe\">\n",
       "  <thead>\n",
       "    <tr style=\"text-align: right;\">\n",
       "      <th></th>\n",
       "      <th>customer_id</th>\n",
       "      <th>mcc_code</th>\n",
       "      <th>tr_type</th>\n",
       "      <th>amount</th>\n",
       "      <th>term_id</th>\n",
       "      <th>num_day</th>\n",
       "      <th>datetime</th>\n",
       "      <th>hour</th>\n",
       "      <th>minute</th>\n",
       "      <th>second</th>\n",
       "    </tr>\n",
       "    <tr>\n",
       "      <th>gender</th>\n",
       "      <th></th>\n",
       "      <th></th>\n",
       "      <th></th>\n",
       "      <th></th>\n",
       "      <th></th>\n",
       "      <th></th>\n",
       "      <th></th>\n",
       "      <th></th>\n",
       "      <th></th>\n",
       "      <th></th>\n",
       "    </tr>\n",
       "  </thead>\n",
       "  <tbody>\n",
       "    <tr>\n",
       "      <th>0.0</th>\n",
       "      <td>5579</td>\n",
       "      <td>5579</td>\n",
       "      <td>5579</td>\n",
       "      <td>5579</td>\n",
       "      <td>0</td>\n",
       "      <td>5579</td>\n",
       "      <td>5579</td>\n",
       "      <td>5579</td>\n",
       "      <td>5579</td>\n",
       "      <td>5579</td>\n",
       "    </tr>\n",
       "    <tr>\n",
       "      <th>1.0</th>\n",
       "      <td>5336</td>\n",
       "      <td>5336</td>\n",
       "      <td>5336</td>\n",
       "      <td>5336</td>\n",
       "      <td>0</td>\n",
       "      <td>5336</td>\n",
       "      <td>5336</td>\n",
       "      <td>5336</td>\n",
       "      <td>5336</td>\n",
       "      <td>5336</td>\n",
       "    </tr>\n",
       "  </tbody>\n",
       "</table>\n",
       "</div>"
      ],
      "text/plain": [
       "        customer_id  mcc_code  tr_type  amount  term_id  num_day  datetime  \\\n",
       "gender                                                                       \n",
       "0.0            5579      5579     5579    5579        0     5579      5579   \n",
       "1.0            5336      5336     5336    5336        0     5336      5336   \n",
       "\n",
       "        hour  minute  second  \n",
       "gender                        \n",
       "0.0     5579    5579    5579  \n",
       "1.0     5336    5336    5336  "
      ]
     },
     "execution_count": 63,
     "metadata": {},
     "output_type": "execute_result"
    }
   ],
   "source": [
    "gender_ratio = []\n",
    "for i in \n",
    "transactions[transactions.num_day==120].groupby('gender').count()"
   ]
  },
  {
   "cell_type": "code",
   "execution_count": 50,
   "metadata": {
    "collapsed": false
   },
   "outputs": [
    {
     "data": {
      "text/plain": [
       "0     842343\n",
       "13    449586\n",
       "12    443782\n",
       "15    432270\n",
       "14    430720\n",
       "Name: hour, dtype: int64"
      ]
     },
     "execution_count": 50,
     "metadata": {},
     "output_type": "execute_result"
    },
    {
     "data": {
      "image/png": "[encoded data removed]",
      "text/plain": [
       "<matplotlib.figure.Figure at 0x156a17470>"
      ]
     },
     "metadata": {},
     "output_type": "display_data"
    }
   ],
   "source": [
    "plt.hist(transactions.hour.values, bins=24, color='#770000', label=u'все', alpha=0.3, width=0.8) # , histtype='stepfilled', normed=True,\n",
    "plt.hist(transactions[transactions.gender==0].hour.values, bins=24, label=u'ж', alpha=0.6, width=0.7)\n",
    "plt.hist(transactions[transactions.gender==1].hour.values, bins=24, label=u'м', alpha=1.0, width=0.6)\n",
    "plt.xlabel('hour')\n",
    "plt.ylabel('count')\n",
    "plt.title(u'Вхождения часов во времена транзакций')\n",
    "plt.legend()\n",
    "plt.xlim([0, 24])\n",
    "transactions.hour.value_counts()[:5]"
   ]
  },
  {
   "cell_type": "markdown",
   "metadata": {},
   "source": [
    "Выбросы для агрегаций можно эффективно обнаруживать sklearn.covariance.EllipticEnvelope \n",
    "*todo: привести пример*"
   ]
  },
  {
   "cell_type": "markdown",
   "metadata": {},
   "source": [
    "### Каждый человек использует не так много кодов: ###"
   ]
  },
  {
   "cell_type": "code",
   "execution_count": 67,
   "metadata": {
    "collapsed": false
   },
   "outputs": [
    {
     "name": "stdout",
     "output_type": "stream",
     "text": [
      "customer_id\n",
      "6815         6\n",
      "22899       11\n",
      "27914        6\n",
      "28753       30\n",
      "31385       17\n",
      "38084       37\n",
      "42096       39\n",
      "49101       13\n",
      "49793       16\n",
      "50940        7\n",
      "52926       26\n",
      "53395        5\n",
      "70680       28\n",
      "78659       10\n",
      "81626       16\n",
      "85327        3\n",
      "85635        1\n",
      "104032       3\n",
      "114348      21\n",
      "115617      26\n",
      "117556      13\n",
      "126081      23\n",
      "126935      35\n",
      "127946       7\n",
      "137367       7\n",
      "168767      26\n",
      "172390      25\n",
      "174467      18\n",
      "177299      11\n",
      "186730       8\n",
      "            ..\n",
      "99815733     4\n",
      "99834424    25\n",
      "99836889     3\n",
      "99848367     6\n",
      "99849205    11\n",
      "99849278    26\n",
      "99859464     6\n",
      "99864691    11\n",
      "99876778    43\n",
      "99877835     7\n",
      "99882949     4\n",
      "99888537    14\n",
      "99900908    10\n",
      "99911226    14\n",
      "99915912    33\n",
      "99917144     5\n",
      "99918216    23\n",
      "99933081    12\n",
      "99938948    24\n",
      "99953525    13\n",
      "99963907    16\n",
      "99967537     2\n",
      "99969946    32\n",
      "99977292    13\n",
      "99980396    27\n",
      "99984336     5\n",
      "99985917     5\n",
      "99988578    28\n",
      "99991245    15\n",
      "99999680    26\n",
      "Name: mcc_code, dtype: int64\n"
     ]
    },
    {
     "data": {
      "text/plain": [
       "<matplotlib.axes._subplots.AxesSubplot at 0x13a5a5940>"
      ]
     },
     "execution_count": 67,
     "metadata": {},
     "output_type": "execute_result"
    },
    {
     "data": {
      "image/png": "[encoded data removed]",
      "text/plain": [
       "<matplotlib.figure.Figure at 0x13a58aeb8>"
      ]
     },
     "metadata": {},
     "output_type": "display_data"
    }
   ],
   "source": [
    "print(transactions.groupby('customer_id')['mcc_code'].nunique())\n",
    "transactions.groupby('customer_id')['mcc_code'].nunique().hist()"
   ]
  },
  {
   "cell_type": "markdown",
   "metadata": {},
   "source": [
    "Провал знаменует начало года:"
   ]
  },
  {
   "cell_type": "code",
   "execution_count": 90,
   "metadata": {
    "collapsed": false
   },
   "outputs": [
    {
     "data": {
      "text/plain": [
       "314    20552\n",
       "272    20368\n",
       "441    20203\n",
       "448    20178\n",
       "425    19979\n",
       "Name: num_day, dtype: int64"
      ]
     },
     "execution_count": 90,
     "metadata": {},
     "output_type": "execute_result"
    },
    {
     "data": {
      "image/png": "[encoded data removed]",
      "text/plain": [
       "<matplotlib.figure.Figure at 0x13a6363c8>"
      ]
     },
     "metadata": {},
     "output_type": "display_data"
    }
   ],
   "source": [
    "plt.hist(transactions.num_day.values, bins=457, color='#770000', label=u'mf', alpha=0.3, width=0.9) # , histtype='stepfilled', normed=True,\n",
    "plt.hist(transactions[transactions.gender==0].num_day.values, bins=457, label=u'f', alpha=0.6, width=0.7)\n",
    "plt.hist(transactions[transactions.gender==1].num_day.values, bins=457, label=u'm', alpha=1.0, width=0.5)\n",
    "plt.xlabel('day')\n",
    "plt.ylabel('count')\n",
    "plt.title(u'Days')\n",
    "plt.legend()\n",
    "#plt.xlim([0, 457])\n",
    "plt.xlim([153-10, 153+(120-1) + 4 + 10])\n",
    "transactions.num_day.value_counts()[:5]"
   ]
  },
  {
   "cell_type": "markdown",
   "metadata": {},
   "source": [
    "153 -- это начало года\n",
    "\n",
    "тогда 153 + 68/69 -- канун 8 марта"
   ]
  },
  {
   "cell_type": "code",
   "execution_count": 91,
   "metadata": {
    "collapsed": false
   },
   "outputs": [
    {
     "data": {
      "text/plain": [
       "gender\n",
       "0.0    6592\n",
       "1.0    6151\n",
       "Name: customer_id, dtype: int64"
      ]
     },
     "execution_count": 91,
     "metadata": {},
     "output_type": "execute_result"
    }
   ],
   "source": [
    "transactions[transactions.num_day==153 + 69].groupby('gender').customer_id.count()"
   ]
  },
  {
   "cell_type": "code",
   "execution_count": 86,
   "metadata": {
    "collapsed": false
   },
   "outputs": [
    {
     "data": {
      "text/plain": [
       "gender\n",
       "0.0    4895\n",
       "1.0    4776\n",
       "Name: customer_id, dtype: int64"
      ]
     },
     "execution_count": 86,
     "metadata": {},
     "output_type": "execute_result"
    }
   ],
   "source": [
    "transactions[transactions.num_day==153 + 53].groupby('gender').customer_id.count()"
   ]
  },
  {
   "cell_type": "code",
   "execution_count": null,
   "metadata": {
    "collapsed": true
   },
   "outputs": [],
   "source": []
  }
 ],
 "metadata": {
  "anaconda-cloud": {},
  "kernelspec": {
   "display_name": "ML",
   "language": "python",
   "name": "ml"
  },
  "language_info": {
   "codemirror_mode": {
    "name": "ipython",
    "version": 3
   },
   "file_extension": ".py",
   "mimetype": "text/x-python",
   "name": "python",
   "nbconvert_exporter": "python",
   "pygments_lexer": "ipython3",
   "version": "3.5.2"
  }
 },
 "nbformat": 4,
 "nbformat_minor": 0
}
