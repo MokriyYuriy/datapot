{
 "cells": [
  {
   "cell_type": "markdown",
   "metadata": {},
   "source": [
    "### Dataset with timestamp features."
   ]
  },
  {
   "cell_type": "markdown",
   "metadata": {},
   "source": [
    "Creating the DataPot object."
   ]
  },
  {
   "cell_type": "code",
   "execution_count": 6,
   "metadata": {
    "collapsed": false
   },
   "outputs": [],
   "source": [
    "import datapot as dp\n",
    "import pandas as pd"
   ]
  },
  {
   "cell_type": "code",
   "execution_count": 7,
   "metadata": {
    "collapsed": true
   },
   "outputs": [],
   "source": [
    "datapot = dp.DataPot()"
   ]
  },
  {
   "cell_type": "code",
   "execution_count": 8,
   "metadata": {
    "collapsed": false
   },
   "outputs": [],
   "source": [
    "import bz2\n",
    "ftr = open('/home/yury/transactions.csv') "
   ]
  },
  {
   "cell_type": "code",
   "execution_count": 9,
   "metadata": {
    "collapsed": false
   },
   "outputs": [],
   "source": [
    "from datapot.utils import csv_to_jsonlines\n",
    "\n",
    "csv_to_jsonlines(ftr, '/home/yury/transactions.jsonlines')"
   ]
  },
  {
   "cell_type": "code",
   "execution_count": 10,
   "metadata": {
    "collapsed": true
   },
   "outputs": [],
   "source": [
    "ftr = open('/home/yury/transactions.jsonlines')"
   ]
  },
  {
   "cell_type": "markdown",
   "metadata": {},
   "source": [
    "Let's call the fit method. It automatically finds appropriate transformers for the fields of jsonlines file. The parameter 'limit' means how many objects will be used to detect the right transformers."
   ]
  },
  {
   "cell_type": "code",
   "execution_count": 6,
   "metadata": {
    "collapsed": false
   },
   "outputs": [],
   "source": [
    "datapot.fit(ftr, limit=100)"
   ]
  },
  {
   "cell_type": "code",
   "execution_count": 7,
   "metadata": {
    "collapsed": false
   },
   "outputs": [
    {
     "data": {
      "text/plain": [
       "DataPot class instance\n",
       " - number of features without transformation: 5\n",
       " - number of new features: 10\n",
       "features to transform: \n",
       "\t('merchant_id', [SVDOneHotTransformer])\n",
       "\t('real_transaction_dttm', [TimestampTransformer])\n",
       "\t('record_date', [TimestampTransformer])"
      ]
     },
     "execution_count": 7,
     "metadata": {},
     "output_type": "execute_result"
    }
   ],
   "source": [
    "datapot"
   ]
  },
  {
   "cell_type": "markdown",
   "metadata": {},
   "source": [
    "As a result, only categorical transformers were choosen."
   ]
  },
  {
   "cell_type": "code",
   "execution_count": 8,
   "metadata": {
    "collapsed": false
   },
   "outputs": [
    {
     "name": "stdout",
     "output_type": "stream",
     "text": [
      "fit transformers...\n",
      "fit: ('merchant_id', [SVDOneHotTransformer])\n",
      "fit: ('real_transaction_dttm', [TimestampTransformer])\n",
      "fit: ('record_date', [TimestampTransformer])\n",
      "fit transformers...OK\n",
      "num of new features: 22\n"
     ]
    }
   ],
   "source": [
    "data = datapot.transform(ftr, verbose=True)"
   ]
  },
  {
   "cell_type": "code",
   "execution_count": 10,
   "metadata": {
    "collapsed": false
   },
   "outputs": [
    {
     "data": {
      "text/html": [
       "<div>\n",
       "<table border=\"1\" class=\"dataframe\">\n",
       "  <thead>\n",
       "    <tr style=\"text-align: right;\">\n",
       "      <th></th>\n",
       "      <th>merchant_id_one_hot0</th>\n",
       "      <th>merchant_id_one_hot1</th>\n",
       "      <th>merchant_id_one_hot2</th>\n",
       "      <th>merchant_id_one_hot3</th>\n",
       "      <th>merchant_id_one_hot4</th>\n",
       "      <th>merchant_id_one_hot5</th>\n",
       "      <th>merchant_id_one_hot6</th>\n",
       "      <th>merchant_id_one_hot7</th>\n",
       "      <th>merchant_id_one_hot8</th>\n",
       "      <th>merchant_id_one_hot9</th>\n",
       "      <th>...</th>\n",
       "      <th>real_transaction_dttm_timestamp_week_day</th>\n",
       "      <th>real_transaction_dttm_timestamp_month_day</th>\n",
       "      <th>real_transaction_dttm_timestamp_hour</th>\n",
       "      <th>real_transaction_dttm_timestamp_minute</th>\n",
       "      <th>longitude</th>\n",
       "      <th>record_date_timestamp_unixtime</th>\n",
       "      <th>record_date_timestamp_week_day</th>\n",
       "      <th>record_date_timestamp_month_day</th>\n",
       "      <th>record_date_timestamp_hour</th>\n",
       "      <th>record_date_timestamp_minute</th>\n",
       "    </tr>\n",
       "  </thead>\n",
       "  <tbody>\n",
       "    <tr>\n",
       "      <th>0</th>\n",
       "      <td>1.038834e-16</td>\n",
       "      <td>7.096047e-17</td>\n",
       "      <td>-4.537539e-18</td>\n",
       "      <td>1.289772e-16</td>\n",
       "      <td>8.198421e-17</td>\n",
       "      <td>-1.489204e-16</td>\n",
       "      <td>-5.814689e-16</td>\n",
       "      <td>5.102262e-16</td>\n",
       "      <td>-5.773033e-15</td>\n",
       "      <td>4.034763e-15</td>\n",
       "      <td>...</td>\n",
       "      <td>4</td>\n",
       "      <td>17</td>\n",
       "      <td>9</td>\n",
       "      <td>34</td>\n",
       "      <td>0.000000</td>\n",
       "      <td>1.487313e+09</td>\n",
       "      <td>4</td>\n",
       "      <td>17</td>\n",
       "      <td>9</td>\n",
       "      <td>30</td>\n",
       "    </tr>\n",
       "    <tr>\n",
       "      <th>1</th>\n",
       "      <td>1.038834e-16</td>\n",
       "      <td>7.096047e-17</td>\n",
       "      <td>-4.537539e-18</td>\n",
       "      <td>1.289772e-16</td>\n",
       "      <td>8.198421e-17</td>\n",
       "      <td>-1.489204e-16</td>\n",
       "      <td>-5.814689e-16</td>\n",
       "      <td>5.102262e-16</td>\n",
       "      <td>-5.773033e-15</td>\n",
       "      <td>4.034763e-15</td>\n",
       "      <td>...</td>\n",
       "      <td>4</td>\n",
       "      <td>17</td>\n",
       "      <td>17</td>\n",
       "      <td>49</td>\n",
       "      <td>82.912991</td>\n",
       "      <td>1.487343e+09</td>\n",
       "      <td>4</td>\n",
       "      <td>17</td>\n",
       "      <td>17</td>\n",
       "      <td>54</td>\n",
       "    </tr>\n",
       "    <tr>\n",
       "      <th>2</th>\n",
       "      <td>1.038834e-16</td>\n",
       "      <td>7.096047e-17</td>\n",
       "      <td>-4.537539e-18</td>\n",
       "      <td>1.289772e-16</td>\n",
       "      <td>8.198421e-17</td>\n",
       "      <td>-1.489204e-16</td>\n",
       "      <td>-5.814689e-16</td>\n",
       "      <td>5.102262e-16</td>\n",
       "      <td>-5.773033e-15</td>\n",
       "      <td>4.034763e-15</td>\n",
       "      <td>...</td>\n",
       "      <td>4</td>\n",
       "      <td>17</td>\n",
       "      <td>9</td>\n",
       "      <td>34</td>\n",
       "      <td>0.000000</td>\n",
       "      <td>1.487313e+09</td>\n",
       "      <td>4</td>\n",
       "      <td>17</td>\n",
       "      <td>9</td>\n",
       "      <td>31</td>\n",
       "    </tr>\n",
       "    <tr>\n",
       "      <th>3</th>\n",
       "      <td>1.038834e-16</td>\n",
       "      <td>7.096047e-17</td>\n",
       "      <td>-4.537539e-18</td>\n",
       "      <td>1.289772e-16</td>\n",
       "      <td>8.198421e-17</td>\n",
       "      <td>-1.489204e-16</td>\n",
       "      <td>-5.814689e-16</td>\n",
       "      <td>5.102262e-16</td>\n",
       "      <td>-5.773033e-15</td>\n",
       "      <td>4.034763e-15</td>\n",
       "      <td>...</td>\n",
       "      <td>4</td>\n",
       "      <td>17</td>\n",
       "      <td>17</td>\n",
       "      <td>49</td>\n",
       "      <td>82.912734</td>\n",
       "      <td>1.487343e+09</td>\n",
       "      <td>4</td>\n",
       "      <td>17</td>\n",
       "      <td>17</td>\n",
       "      <td>43</td>\n",
       "    </tr>\n",
       "    <tr>\n",
       "      <th>4</th>\n",
       "      <td>1.038834e-16</td>\n",
       "      <td>7.096047e-17</td>\n",
       "      <td>-4.537539e-18</td>\n",
       "      <td>1.289772e-16</td>\n",
       "      <td>8.198421e-17</td>\n",
       "      <td>-1.489204e-16</td>\n",
       "      <td>-5.814689e-16</td>\n",
       "      <td>5.102262e-16</td>\n",
       "      <td>-5.773033e-15</td>\n",
       "      <td>4.034763e-15</td>\n",
       "      <td>...</td>\n",
       "      <td>4</td>\n",
       "      <td>17</td>\n",
       "      <td>17</td>\n",
       "      <td>49</td>\n",
       "      <td>82.912734</td>\n",
       "      <td>1.487343e+09</td>\n",
       "      <td>4</td>\n",
       "      <td>17</td>\n",
       "      <td>17</td>\n",
       "      <td>45</td>\n",
       "    </tr>\n",
       "  </tbody>\n",
       "</table>\n",
       "<p>5 rows × 22 columns</p>\n",
       "</div>"
      ],
      "text/plain": [
       "   merchant_id_one_hot0  merchant_id_one_hot1  merchant_id_one_hot2  \\\n",
       "0          1.038834e-16          7.096047e-17         -4.537539e-18   \n",
       "1          1.038834e-16          7.096047e-17         -4.537539e-18   \n",
       "2          1.038834e-16          7.096047e-17         -4.537539e-18   \n",
       "3          1.038834e-16          7.096047e-17         -4.537539e-18   \n",
       "4          1.038834e-16          7.096047e-17         -4.537539e-18   \n",
       "\n",
       "   merchant_id_one_hot3  merchant_id_one_hot4  merchant_id_one_hot5  \\\n",
       "0          1.289772e-16          8.198421e-17         -1.489204e-16   \n",
       "1          1.289772e-16          8.198421e-17         -1.489204e-16   \n",
       "2          1.289772e-16          8.198421e-17         -1.489204e-16   \n",
       "3          1.289772e-16          8.198421e-17         -1.489204e-16   \n",
       "4          1.289772e-16          8.198421e-17         -1.489204e-16   \n",
       "\n",
       "   merchant_id_one_hot6  merchant_id_one_hot7  merchant_id_one_hot8  \\\n",
       "0         -5.814689e-16          5.102262e-16         -5.773033e-15   \n",
       "1         -5.814689e-16          5.102262e-16         -5.773033e-15   \n",
       "2         -5.814689e-16          5.102262e-16         -5.773033e-15   \n",
       "3         -5.814689e-16          5.102262e-16         -5.773033e-15   \n",
       "4         -5.814689e-16          5.102262e-16         -5.773033e-15   \n",
       "\n",
       "   merchant_id_one_hot9              ...               \\\n",
       "0          4.034763e-15              ...                \n",
       "1          4.034763e-15              ...                \n",
       "2          4.034763e-15              ...                \n",
       "3          4.034763e-15              ...                \n",
       "4          4.034763e-15              ...                \n",
       "\n",
       "   real_transaction_dttm_timestamp_week_day  \\\n",
       "0                                         4   \n",
       "1                                         4   \n",
       "2                                         4   \n",
       "3                                         4   \n",
       "4                                         4   \n",
       "\n",
       "   real_transaction_dttm_timestamp_month_day  \\\n",
       "0                                         17   \n",
       "1                                         17   \n",
       "2                                         17   \n",
       "3                                         17   \n",
       "4                                         17   \n",
       "\n",
       "   real_transaction_dttm_timestamp_hour  \\\n",
       "0                                     9   \n",
       "1                                    17   \n",
       "2                                     9   \n",
       "3                                    17   \n",
       "4                                    17   \n",
       "\n",
       "   real_transaction_dttm_timestamp_minute  longitude  \\\n",
       "0                                      34   0.000000   \n",
       "1                                      49  82.912991   \n",
       "2                                      34   0.000000   \n",
       "3                                      49  82.912734   \n",
       "4                                      49  82.912734   \n",
       "\n",
       "   record_date_timestamp_unixtime  record_date_timestamp_week_day  \\\n",
       "0                    1.487313e+09                               4   \n",
       "1                    1.487343e+09                               4   \n",
       "2                    1.487313e+09                               4   \n",
       "3                    1.487343e+09                               4   \n",
       "4                    1.487343e+09                               4   \n",
       "\n",
       "   record_date_timestamp_month_day  record_date_timestamp_hour  \\\n",
       "0                               17                           9   \n",
       "1                               17                          17   \n",
       "2                               17                           9   \n",
       "3                               17                          17   \n",
       "4                               17                          17   \n",
       "\n",
       "   record_date_timestamp_minute  \n",
       "0                            30  \n",
       "1                            54  \n",
       "2                            31  \n",
       "3                            43  \n",
       "4                            45  \n",
       "\n",
       "[5 rows x 22 columns]"
      ]
     },
     "execution_count": 10,
     "metadata": {},
     "output_type": "execute_result"
    }
   ],
   "source": [
    "data.head()"
   ]
  },
  {
   "cell_type": "code",
   "execution_count": 14,
   "metadata": {
    "collapsed": false
   },
   "outputs": [
    {
     "data": {
      "text/plain": [
       "Index(['merchant_id_one_hot0', 'merchant_id_one_hot1', 'merchant_id_one_hot2',\n",
       "       'merchant_id_one_hot3', 'merchant_id_one_hot4', 'merchant_id_one_hot5',\n",
       "       'merchant_id_one_hot6', 'merchant_id_one_hot7', 'merchant_id_one_hot8',\n",
       "       'merchant_id_one_hot9', 'latitude',\n",
       "       'real_transaction_dttm_timestamp_unixtime',\n",
       "       'real_transaction_dttm_timestamp_week_day',\n",
       "       'real_transaction_dttm_timestamp_month_day',\n",
       "       'real_transaction_dttm_timestamp_hour',\n",
       "       'real_transaction_dttm_timestamp_minute', 'longitude',\n",
       "       'record_date_timestamp_unixtime', 'record_date_timestamp_week_day',\n",
       "       'record_date_timestamp_month_day', 'record_date_timestamp_hour',\n",
       "       'record_date_timestamp_minute'],\n",
       "      dtype='object')"
      ]
     },
     "execution_count": 14,
     "metadata": {},
     "output_type": "execute_result"
    }
   ],
   "source": [
    "data.columns"
   ]
  }
 ],
 "metadata": {
  "anaconda-cloud": {},
  "kernelspec": {
   "display_name": "Python [default]",
   "language": "python",
   "name": "python3"
  },
  "language_info": {
   "codemirror_mode": {
    "name": "ipython",
    "version": 3
   },
   "file_extension": ".py",
   "mimetype": "text/x-python",
   "name": "python",
   "nbconvert_exporter": "python",
   "pygments_lexer": "ipython3",
   "version": "3.5.2"
  }
 },
 "nbformat": 4,
 "nbformat_minor": 1
}
